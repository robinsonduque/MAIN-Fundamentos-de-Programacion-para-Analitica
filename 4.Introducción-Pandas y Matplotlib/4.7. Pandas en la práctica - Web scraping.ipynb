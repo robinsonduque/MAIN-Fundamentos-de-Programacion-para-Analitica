{
 "cells": [
  {
   "cell_type": "markdown",
   "metadata": {},
   "source": [
    "---\n",
    "Escuela de Ingeniería de Sistemas y Computación  \n",
    "Universidad del Valle  \n",
    "INTRODUCCIÓN A LA PROGRAMACIÓN PARA ANALÍTICA  \n",
    "Profesor: Ph.D, Robinson Duque - robinson.duque@correounivalle.edu.co  \n",
    "Última modificación: Julio de 2020\n",
    "\n",
    "---\n",
    "\n",
    "# Consideraciones:\n",
    "\n",
    "Este material presenta textos y ejemplos orientados al propósito del curso de _Introducción a la Programación para Analítica_ de la Universidad del Valle.   Parte de los textos y ejemplos incluidos en este notebook de Introducción a Pandas fueron tomados y ajustados de los libros: \n",
    "* [Python Data Science Handbook](https://jakevdp.github.io/PythonDataScienceHandbook/index.html) de Jake VanderPlas disponible en GitHub. La obra está bajo una licencia CC-BY-NC-ND que permite: copiar y redistribuir el material, bajo la condicion de reconocer y dar crédito al autor original (Jake VanderPlas).\n",
    "\n",
    "* [Manual de Python](https://aprendeconalf.es/python/manual/) de Alfredo Sánchez Alberca. La obra está bajo una licencia Atribución–No comercial–Compartir igual 4.0 Internacional de Creative Commons que permite: copiar y redistribuir el material en cualquier medio o formato, remezclar, transformar y construir a partir del material. \n",
    "\n",
    "Este material presenta cambios dirigidos hacia textos orientados a la versión 3.0 de Python, para lo cual se han incluido nuevos ejemplos y se proponen ejercicios para validar los conocimientos de los estudiantes orientados al propósito del curso de _Introducción a la Programación para Analítica_ de la Universidad del Valle."
   ]
  },
  {
   "cell_type": "markdown",
   "metadata": {},
   "source": [
    "---\n",
    "\n",
    "# Vínculos de interés:\n",
    "\n",
    "* [Guía de Usuario de Numpy](https://numpy.org/devdocs/user/quickstart.html )\n",
    "\n",
    "* [Guía de Usuario de Pandas](https://pandas.pydata.org/pandas-docs/stable/user_guide/index.html)\n",
    "\n",
    "* [Guía de Matplotlib](https://matplotlib.org/users/index.html)\n",
    "\n",
    "* [Kaggle: Your Machine Learning and Data Science Community](https://www.kaggle.com)\n",
    "\n",
    "---"
   ]
  },
  {
   "cell_type": "markdown",
   "metadata": {},
   "source": [
    "## Web Scraping - \"Arañando\" datos de la web"
   ]
  },
  {
   "cell_type": "code",
   "execution_count": null,
   "metadata": {},
   "outputs": [],
   "source": [
    "import pandas as pd"
   ]
  },
  {
   "cell_type": "code",
   "execution_count": null,
   "metadata": {},
   "outputs": [],
   "source": [
    "#Es posible que tengas que instalar este paquete:\n",
    "#conda install lxml"
   ]
  },
  {
   "cell_type": "code",
   "execution_count": null,
   "metadata": {},
   "outputs": [],
   "source": [
    "lista = pd.read_html(\"https://es.wikipedia.org/wiki/Pandemia_de_enfermedad_por_coronavirus_de_2019-2020\")\n"
   ]
  },
  {
   "cell_type": "code",
   "execution_count": null,
   "metadata": {},
   "outputs": [],
   "source": [
    "lista[3]"
   ]
  },
  {
   "cell_type": "code",
   "execution_count": null,
   "metadata": {},
   "outputs": [],
   "source": [
    "lista[3].head()"
   ]
  },
  {
   "cell_type": "code",
   "execution_count": null,
   "metadata": {},
   "outputs": [],
   "source": [
    "lista = pd.read_html(\"https://www.dolar-colombia.com/mes/2020-08\")\n"
   ]
  },
  {
   "cell_type": "code",
   "execution_count": null,
   "metadata": {},
   "outputs": [],
   "source": [
    "lista[0]"
   ]
  },
  {
   "cell_type": "code",
   "execution_count": null,
   "metadata": {},
   "outputs": [],
   "source": [
    "lista[1]"
   ]
  },
  {
   "cell_type": "code",
   "execution_count": null,
   "metadata": {},
   "outputs": [],
   "source": [
    "#Cargar a un solo df\n",
    "df = lista[0].append(lista[1], ignore_index=True)\n",
    "df"
   ]
  },
  {
   "cell_type": "code",
   "execution_count": null,
   "metadata": {},
   "outputs": [],
   "source": [
    "df.tail()"
   ]
  },
  {
   "cell_type": "code",
   "execution_count": null,
   "metadata": {},
   "outputs": [],
   "source": [
    "# Renombrar las columnas\n",
    "df.columns = [\"Fechas\", \"Valores\"]\n",
    "df.head()"
   ]
  },
  {
   "cell_type": "code",
   "execution_count": null,
   "metadata": {},
   "outputs": [],
   "source": [
    "# Ajuste de valores\n",
    "df[\"Valores\"]=df[\"Valores\"].str.replace(\"$\",\"\")\n",
    "df[\"Valores\"]=df[\"Valores\"].str.replace(\",\",\"\")\n",
    "df"
   ]
  },
  {
   "cell_type": "code",
   "execution_count": null,
   "metadata": {},
   "outputs": [],
   "source": [
    "\n",
    "df[\"Valores\"] = df[\"Valores\"].astype(\"float\")\n",
    "df.head()"
   ]
  },
  {
   "cell_type": "code",
   "execution_count": null,
   "metadata": {},
   "outputs": [],
   "source": [
    "df.info()"
   ]
  },
  {
   "cell_type": "code",
   "execution_count": null,
   "metadata": {},
   "outputs": [],
   "source": [
    "from datetime import date, time, datetime\n",
    "# Ajuste de nombres para conversión a datetime\n",
    "\n",
    "df[\"Fechas\"]=df[\"Fechas\"].str.replace(\"Domingo\",\"sunday\")\n",
    "df[\"Fechas\"]=df[\"Fechas\"].str.replace(\"Sábado\",\"saturday\")\n",
    "df[\"Fechas\"]=df[\"Fechas\"].str.replace(\"Lunes\",\"monday\")\n",
    "df[\"Fechas\"]=df[\"Fechas\"].str.replace(\"Martes\",\"tuesday\")\n",
    "df[\"Fechas\"]=df[\"Fechas\"].str.replace(\"Miércoles\",\"wednesday\")\n",
    "df[\"Fechas\"]=df[\"Fechas\"].str.replace(\"Jueves\",\"thursday\")\n",
    "df[\"Fechas\"]=df[\"Fechas\"].str.replace(\"Viernes\",\"Friday\")\n",
    "df[\"Fechas\"]=df[\"Fechas\"].str.replace(\"Agosto\",\"august\")\n",
    "\n",
    "\n",
    "df"
   ]
  },
  {
   "cell_type": "code",
   "execution_count": null,
   "metadata": {},
   "outputs": [],
   "source": [
    "\n",
    "def cambiarEstilo(d):\n",
    "    return datetime.strptime(d, \"%A %d de %B del %Y\")\n",
    "\n",
    "\n",
    "df[\"Fechas\"]= df[\"Fechas\"].apply(cambiarEstilo)\n",
    "df.head()"
   ]
  },
  {
   "cell_type": "code",
   "execution_count": null,
   "metadata": {},
   "outputs": [],
   "source": [
    "# Es posible generar el listado de URLs para luego capturar todos los datos\n",
    "listaURL=[]\n",
    "for j in range(1,10,1):\n",
    "    listaURL.append(\"https://www.dolar-colombia.com/mes/2020-0\"+str(j))\n",
    "\n",
    "listaURL"
   ]
  },
  {
   "cell_type": "code",
   "execution_count": null,
   "metadata": {},
   "outputs": [],
   "source": [
    "df"
   ]
  },
  {
   "cell_type": "markdown",
   "metadata": {},
   "source": [
    "Si quieres aprender un poco más sobre \"web scraping\", las siguientes lecturas te puden dar un buen punto de partida:\n",
    "\n",
    "* [Web scraping with python](https://www.edureka.co/blog/web-scraping-with-python/)\n",
    "* [Beatiful soup for web scraping](https://realpython.com/beautiful-soup-web-scraper-python/)\n",
    "* [Python web scraping](https://realpython.com/python-web-scraping-practical-introduction/)"
   ]
  },
  {
   "cell_type": "code",
   "execution_count": null,
   "metadata": {},
   "outputs": [],
   "source": [
    "%matplotlib inline\n",
    "\n",
    "df.plot(\"Fechas\",\"Valores\",kind=\"line\")\n"
   ]
  }
 ],
 "metadata": {
  "kernelspec": {
   "display_name": "Python 3",
   "language": "python",
   "name": "python3"
  },
  "language_info": {
   "codemirror_mode": {
    "name": "ipython",
    "version": 3
   },
   "file_extension": ".py",
   "mimetype": "text/x-python",
   "name": "python",
   "nbconvert_exporter": "python",
   "pygments_lexer": "ipython3",
   "version": "3.7.10"
  }
 },
 "nbformat": 4,
 "nbformat_minor": 4
}

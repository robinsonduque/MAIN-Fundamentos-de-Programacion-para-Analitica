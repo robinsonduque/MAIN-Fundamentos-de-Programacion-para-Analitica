{
 "cells": [
  {
   "cell_type": "markdown",
   "metadata": {},
   "source": [
    "---\n",
    "Escuela de Ingeniería de Sistemas y Computación  \n",
    "Universidad del Valle  \n",
    "INTRODUCCIÓN A LA PROGRAMACIÓN PARA ANALÍTICA  \n",
    "Profesor: Ph.D, Robinson Duque - robinson.duque@correounivalle.edu.co  \n",
    "Última modificación: Julio de 2020\n",
    "\n",
    "---\n",
    "\n",
    "# Consideraciones:\n",
    "\n",
    "Este material presenta textos y ejemplos orientados al propósito del curso de _Introducción a la Programación para Analítica_ de la Universidad del Valle.   Parte de los textos y ejemplos incluidos en este notebook de Introducción a Pandas fueron tomados y ajustados de los libros: \n",
    "* [Python Data Science Handbook](https://jakevdp.github.io/PythonDataScienceHandbook/index.html) de Jake VanderPlas disponible en GitHub. La obra está bajo una licencia CC-BY-NC-ND que permite: copiar y redistribuir el material, bajo la condicion de reconocer y dar crédito al autor original (Jake VanderPlas).\n",
    "\n",
    "* [Manual de Python](https://aprendeconalf.es/python/manual/) de Alfredo Sánchez Alberca. La obra está bajo una licencia Atribución–No comercial–Compartir igual 4.0 Internacional de Creative Commons que permite: copiar y redistribuir el material en cualquier medio o formato, remezclar, transformar y construir a partir del material. \n",
    "\n",
    "Este material presenta cambios dirigidos hacia textos orientados a la versión 3.0 de Python, para lo cual se han incluido nuevos ejemplos y se proponen ejercicios para validar los conocimientos de los estudiantes orientados al propósito del curso de _Introducción a la Programación para Analítica_ de la Universidad del Valle."
   ]
  },
  {
   "cell_type": "markdown",
   "metadata": {},
   "source": [
    "---\n",
    "\n",
    "# Vínculos de interés:\n",
    "\n",
    "* [Guía de Usuario de Numpy](https://numpy.org/devdocs/user/quickstart.html )\n",
    "\n",
    "* [Guía de Usuario de Pandas](https://pandas.pydata.org/pandas-docs/stable/user_guide/index.html)\n",
    "\n",
    "* [Guía de Matplotlib](https://matplotlib.org/users/index.html)\n",
    "\n",
    "* [Kaggle: Your Machine Learning and Data Science Community](https://www.kaggle.com)\n",
    "\n",
    "---"
   ]
  },
  {
   "cell_type": "markdown",
   "metadata": {},
   "source": [
    "## Algunos Métodos disponibles para Series\n",
    "> * `s.count()` : Devuelve el número de elementos que no son nulos ni NaN en la serie `s`.\n",
    "> * `s.sum()` : Devuelve la suma de los datos de la serie s cuando los datos son de un tipo numérico, o la concatenación de ellos cuando son del tipo cadena str.\n",
    "> * `s.cumsum()` : Devuelve una serie con la suma acumulada de los datos de la serie `s` cuando los datos son de un tipo numérico.\n",
    "> * `s.value_counts()` : Devuelve una serie con la frecuencia (número de repeticiones) de cada valor de la serie `s`.\n",
    "> * `s.min()` : Devuelve el menor de los datos de la serie `s`.\n",
    "> * `s.max()` : Devuelve el mayor de los datos de la serie `s`.\n",
    "> * `s.mean()` : Devuelve la media de los datos de la serie `s` cuando los datos son de un tipo numérico.\n",
    "> * `s.std()` : Devuelve la desviación típica de los datos de la serie `s` cuando los datos son de un tipo numérico.\n",
    "> * `s.describe()`: Devuelve una serie con un resumen descriptivo que incluye el número de datos, su suma, el mínimo, el máximo, la media, la desviación típica y los cuartiles.\n",
    "> * `s.sort_values(ascending=booleano)` : Devuelve la serie que resulta de ordenar los valores la serie `s`. Si el argumento del parámetro `ascending` es `True` el orden es creciente y si es `False` decreciente.\n",
    "> * `s.sort_index(ascending=booleano)` : Devuelve la serie que resulta de ordenar el índice de la serie `s`. Si el argumento del parámetro ascending es `True` el orden es creciente y si es `False` decreciente.\n",
    "> * `s.isna()`: Devuelve una serie booleana donde se verifica elemento a elemento si el valor es NaN\n",
    "> * `s.notna()` : Devuelve una serie booleana donde se verifica elemento a elemento si el valor no es NaN:\n",
    "> * `s.fillna(valor)` : Retorna una nueva serie donde se reemplazan valores faltantes con `valor`\n",
    "> * `s.dropna()` : Retorna una nueva serie donde se eliminan valores NaN de la serie\n"
   ]
  },
  {
   "cell_type": "code",
   "execution_count": null,
   "metadata": {},
   "outputs": [],
   "source": [
    "import numpy as np\n"
   ]
  },
  {
   "cell_type": "code",
   "execution_count": null,
   "metadata": {},
   "outputs": [],
   "source": [
    "valores = pd.Series( np.random.randint(1,5,20) )\n",
    "valores[5] = np.nan\n",
    "valores[10] = None\n",
    "valores"
   ]
  },
  {
   "cell_type": "code",
   "execution_count": null,
   "metadata": {},
   "outputs": [],
   "source": [
    "v = valores.value_counts()\n",
    "print(v)\n",
    "\n",
    "s = valores.sum()\n",
    "print(s)\n",
    "\n",
    "c = valores.count()\n",
    "print(c)\n",
    "\n",
    "d = valores.sort_values()\n",
    "print(d)"
   ]
  },
  {
   "cell_type": "code",
   "execution_count": null,
   "metadata": {},
   "outputs": [],
   "source": [
    "valores.describe()"
   ]
  },
  {
   "cell_type": "code",
   "execution_count": null,
   "metadata": {},
   "outputs": [],
   "source": [
    "m = valores.isna() \n",
    "print(m)"
   ]
  },
  {
   "cell_type": "code",
   "execution_count": null,
   "metadata": {},
   "outputs": [],
   "source": [
    "valores.isna().sum() #Verificar el número de valores NaN"
   ]
  },
  {
   "cell_type": "code",
   "execution_count": null,
   "metadata": {},
   "outputs": [],
   "source": [
    "valores[m] # m puede usarse como máscara para filtrar valores"
   ]
  },
  {
   "cell_type": "code",
   "execution_count": null,
   "metadata": {},
   "outputs": [],
   "source": [
    "valores[~m] # m puede usarse como máscara para filtrar valores"
   ]
  },
  {
   "cell_type": "code",
   "execution_count": null,
   "metadata": {},
   "outputs": [],
   "source": [
    "valores[valores.notna()] #Otra forma de filtrar valores nulos o faltantes"
   ]
  },
  {
   "cell_type": "code",
   "execution_count": null,
   "metadata": {},
   "outputs": [],
   "source": [
    "v1 = valores.dropna()\n",
    "print(valores)\n",
    "print(v1)"
   ]
  },
  {
   "cell_type": "code",
   "execution_count": null,
   "metadata": {},
   "outputs": [],
   "source": [
    "v2 = valores.fillna(-1)\n",
    "v3 = valores.fillna(method=\"ffill\")\n",
    "v4 = valores.fillna(method=\"bfill\")\n",
    "v5 = valores.fillna(valores.mean())\n",
    "v6 = valores.fillna(valores.median())\n",
    "\n",
    "print(valores)\n",
    "print(v2)\n",
    "#print(v3)\n",
    "#print(v4)\n",
    "#print(v5)\n",
    "#print(v6)"
   ]
  },
  {
   "cell_type": "markdown",
   "metadata": {},
   "source": [
    "> ### Operaciones\n",
    "> Como Pandas está basado en Numpy, aplican las mismas funciones vectorizadas. Por ejemplo, los operadores binarios (+, *, /, etc.) pueden utilizarse con una serie, y devuelven otra serie con el resultado de aplicar la operación a cada elemento."
   ]
  },
  {
   "cell_type": "code",
   "execution_count": null,
   "metadata": {},
   "outputs": [],
   "source": [
    "s = pd.Series([2,3,4,-9,3])\n",
    "\n",
    "v = s*2\n",
    "print(v)"
   ]
  },
  {
   "cell_type": "code",
   "execution_count": null,
   "metadata": {},
   "outputs": [],
   "source": [
    "print(s%2==1)"
   ]
  },
  {
   "cell_type": "code",
   "execution_count": null,
   "metadata": {},
   "outputs": [],
   "source": [
    "print((s**2+1)/3)"
   ]
  },
  {
   "cell_type": "code",
   "execution_count": null,
   "metadata": {},
   "outputs": [],
   "source": [
    "s = pd.Series(['a', 'b', 'c'])\n",
    "s*3"
   ]
  },
  {
   "cell_type": "markdown",
   "metadata": {},
   "source": [
    "> ### Filtrado de una Serie\n",
    "> Para filtrar una serie y quedarse con los valores que cumplen una determinada condición se utiliza lo siguiente:\n",
    ">\n",
    "> * `s[condicion]` : Devuelve una serie con los elementos de la serie `s` que se corresponden con el valor True de la lista booleana `condicion`. condicion debe ser una lista de valores booleanos de la misma longitud que la serie."
   ]
  },
  {
   "cell_type": "code",
   "execution_count": null,
   "metadata": {},
   "outputs": [],
   "source": [
    "# Recuerde que esto funciona porque los operadores lógicos retornan\n",
    "# una serie booleana del mismo tamaño de la serie inicial (máscara)\n",
    "s = pd.Series([2,3,4,-9,4, 6, 9])\n",
    "\n",
    "s>2"
   ]
  },
  {
   "cell_type": "code",
   "execution_count": null,
   "metadata": {},
   "outputs": [],
   "source": [
    "s[s>2]"
   ]
  },
  {
   "cell_type": "code",
   "execution_count": null,
   "metadata": {},
   "outputs": [],
   "source": [
    "s[(s>=0)&(s%3==0)]"
   ]
  },
  {
   "cell_type": "markdown",
   "metadata": {},
   "source": [
    "> ### Función `pd.apply`\n",
    "> También es posible aplicar una función a cada elemento de la serie mediante el siguiente método:\n",
    "> * `s.apply(f)` : Devuelve una serie con el resultado de aplicar la función `f` a cada uno de los elementos de la serie `s`."
   ]
  },
  {
   "cell_type": "code",
   "execution_count": null,
   "metadata": {},
   "outputs": [],
   "source": [
    "import math\n",
    "    \n",
    "s = pd.Series([1, 2, 3, 4])\n",
    "s.apply(math.log)"
   ]
  },
  {
   "cell_type": "code",
   "execution_count": null,
   "metadata": {},
   "outputs": [],
   "source": [
    "s = pd.Series(['Robinson', 'Viviana', 'Sarah', \"Ronald\"])\n",
    "\n",
    "s.apply(str.upper)\n",
    "\n",
    "\n",
    "\n",
    "#s.str.upper()"
   ]
  },
  {
   "cell_type": "markdown",
   "metadata": {},
   "source": [
    "> Si la función que deseamos aplicar requiere del envío de algún parámetro, entonces podemos redefinirla, observa:"
   ]
  },
  {
   "cell_type": "code",
   "execution_count": null,
   "metadata": {},
   "outputs": [],
   "source": [
    "# Esta invocación genera un error, porque sólo se debe enviar el nombre de la función\n",
    "\n",
    "#s.apply(str.startswith(\"R\")) "
   ]
  },
  {
   "cell_type": "code",
   "execution_count": null,
   "metadata": {},
   "outputs": [],
   "source": [
    "def comienzaCon(s):\n",
    "    return s.startswith(\"R\")\n",
    "\n",
    "#s.apply(comienzaCon)\n",
    "s.str.startswith(\"R\")"
   ]
  },
  {
   "cell_type": "code",
   "execution_count": null,
   "metadata": {},
   "outputs": [],
   "source": [
    "s[s.apply(comienzaCon)]\n",
    "\n",
    "#s[s.str.startswith(\"R\")]"
   ]
  },
  {
   "cell_type": "code",
   "execution_count": null,
   "metadata": {},
   "outputs": [],
   "source": [
    "import math\n",
    "import numpy as np\n",
    "\n",
    "def funcionRara(s):\n",
    "    return math.log(s) * (s**2) * np.sin(s)"
   ]
  },
  {
   "cell_type": "code",
   "execution_count": null,
   "metadata": {},
   "outputs": [],
   "source": [
    "s = pd.Series([1,2,3,4,5])\n",
    "s.apply(funcionRara) "
   ]
  },
  {
   "cell_type": "code",
   "execution_count": null,
   "metadata": {},
   "outputs": [],
   "source": [
    "def funcionMasRara(s):\n",
    "    if (s % 2 == 0) or (s%5==0):\n",
    "        return True\n",
    "    else:\n",
    "        return False"
   ]
  },
  {
   "cell_type": "code",
   "execution_count": null,
   "metadata": {},
   "outputs": [],
   "source": [
    "s = pd.Series([1,2,3,4,5])\n",
    "s.apply(funcionMasRara)\n"
   ]
  },
  {
   "cell_type": "code",
   "execution_count": null,
   "metadata": {},
   "outputs": [],
   "source": [
    "def funcionFiltro(s):\n",
    "    if s%2 == 0:\n",
    "        return True\n",
    "    elif s > 5:\n",
    "        return True\n",
    "    else :\n",
    "        return False\n",
    "        \n",
    "v = pd.Series([2,4,6,3,5,7,9])\n",
    "\n",
    "m=v.apply(funcionFiltro)\n",
    "\n",
    "#True,True,True,False,False,True,True"
   ]
  },
  {
   "cell_type": "code",
   "execution_count": null,
   "metadata": {},
   "outputs": [],
   "source": [
    "v[~m]"
   ]
  },
  {
   "cell_type": "markdown",
   "metadata": {},
   "source": [
    "---\n",
    "# Pregunta en Socrative"
   ]
  },
  {
   "cell_type": "markdown",
   "metadata": {},
   "source": [
    "1. Oculta aquí (MC).\n",
    "\n",
    "<!--  \n",
    "Cuál es el resultado de ejecutar:  \n",
    "\n",
    "a = pd.Series([1,2,3,4,5])\n",
    "\n",
    "print( a>3 )\n",
    "\n",
    "\n",
    "a) [ 4 5 ]\n",
    "\n",
    "b) [ 3 4 5 ]\n",
    "\n",
    "c) Serie con valores [False False False True True] e índices en un rango (0,5,1)\n",
    "\n",
    "d) Serie con valores [False False False True True] e índices en un rango (0,4,2)\n",
    "\n",
    "e) error\n",
    "-->"
   ]
  },
  {
   "cell_type": "markdown",
   "metadata": {},
   "source": [
    "2. Oculta aquí (MC).\n",
    "\n",
    "<!--  \n",
    "Cuál es el resultado de ejecutar:  \n",
    "\n",
    "a = pd.Series([1,2,3,4,5])\n",
    "\n",
    "b = [3,4,5], indices [2,3,4]\n",
    "\n",
    "print(b.cumsum())\n",
    "\n",
    "\n",
    "a) [ 3 7 12 ]\n",
    "\n",
    "b) 12\n",
    "\n",
    "c) Serie con valores [3 7 12] e índices [0 1 2 3 4]\n",
    "\n",
    "d) Serie con valores [3 7 12] e índices [0 1 2]\n",
    "\n",
    "e) Serie con valores [3 7 12] e índices [2 3 4]\n",
    "-->"
   ]
  },
  {
   "cell_type": "markdown",
   "metadata": {},
   "source": [
    "3. Oculta aquí (MC).\n",
    "\n",
    "<!--  \n",
    "Cuál es el resultado de ejecutar:  \n",
    "\n",
    "def filtro(x):\n",
    "    return (x*2 < 8)\n",
    "\n",
    "a = pd.Series([1,2,3,4,5])\n",
    "\n",
    "print( a[ a.apply(filtro) ] )\n",
    "\n",
    "\n",
    "\n",
    "a) Serie con valores [ 1 2 3 4 ]\n",
    "\n",
    "b) Serie con valores [ 1 2 3 ]\n",
    "\n",
    "c) Serie con valores [4 5]\n",
    "\n",
    "d) Serie con valores [3 4 5]\n",
    "\n",
    "e) Error\n",
    "-->"
   ]
  },
  {
   "cell_type": "code",
   "execution_count": null,
   "metadata": {},
   "outputs": [],
   "source": []
  }
 ],
 "metadata": {
  "kernelspec": {
   "display_name": "Python 3",
   "language": "python",
   "name": "python3"
  },
  "language_info": {
   "codemirror_mode": {
    "name": "ipython",
    "version": 3
   },
   "file_extension": ".py",
   "mimetype": "text/x-python",
   "name": "python",
   "nbconvert_exporter": "python",
   "pygments_lexer": "ipython3",
   "version": "3.7.10"
  }
 },
 "nbformat": 4,
 "nbformat_minor": 4
}

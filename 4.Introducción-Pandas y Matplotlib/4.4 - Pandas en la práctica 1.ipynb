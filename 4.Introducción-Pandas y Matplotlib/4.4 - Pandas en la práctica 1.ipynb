{
 "cells": [
  {
   "cell_type": "markdown",
   "metadata": {},
   "source": [
    "---\n",
    "Escuela de Ingeniería de Sistemas y Computación  \n",
    "Universidad del Valle  \n",
    "INTRODUCCIÓN A LA PROGRAMACIÓN PARA ANALÍTICA  \n",
    "Profesor: Ph.D, Robinson Duque - robinson.duque@correounivalle.edu.co  \n",
    "Última modificación: Julio de 2020\n",
    "\n",
    "---\n",
    "\n",
    "# Consideraciones:\n",
    "\n",
    "Este material presenta textos y ejemplos orientados al propósito del curso de _Introducción a la Programación para Analítica_ de la Universidad del Valle.   Parte de los textos y ejemplos incluidos en este notebook de Introducción a Pandas fueron tomados y ajustados de los libros: \n",
    "* [Python Data Science Handbook](https://jakevdp.github.io/PythonDataScienceHandbook/index.html) de Jake VanderPlas disponible en GitHub. La obra está bajo una licencia CC-BY-NC-ND que permite: copiar y redistribuir el material, bajo la condicion de reconocer y dar crédito al autor original (Jake VanderPlas).\n",
    "\n",
    "* [Manual de Python](https://aprendeconalf.es/python/manual/) de Alfredo Sánchez Alberca. La obra está bajo una licencia Atribución–No comercial–Compartir igual 4.0 Internacional de Creative Commons que permite: copiar y redistribuir el material en cualquier medio o formato, remezclar, transformar y construir a partir del material. \n",
    "\n",
    "Este material presenta cambios dirigidos hacia textos orientados a la versión 3.0 de Python, para lo cual se han incluido nuevos ejemplos y se proponen ejercicios para validar los conocimientos de los estudiantes orientados al propósito del curso de _Introducción a la Programación para Analítica_ de la Universidad del Valle."
   ]
  },
  {
   "cell_type": "markdown",
   "metadata": {},
   "source": [
    "---\n",
    "\n",
    "# Vínculos de interés:\n",
    "\n",
    "* [Guía de Usuario de Numpy](https://numpy.org/devdocs/user/quickstart.html )\n",
    "\n",
    "* [Guía de Usuario de Pandas](https://pandas.pydata.org/pandas-docs/stable/user_guide/index.html)\n",
    "\n",
    "* [Guía de Matplotlib](https://matplotlib.org/users/index.html)\n",
    "\n",
    "* [Kaggle: Your Machine Learning and Data Science Community](https://www.kaggle.com)\n",
    "\n",
    "---"
   ]
  },
  {
   "cell_type": "markdown",
   "metadata": {},
   "source": [
    "# Dataframes en Pandas - Atributos\n",
    "\n",
    "Existen varias propiedades asociadas a algunas características de un DataFrame:\n",
    "> * `df.shape` : Devuelve una tupla con el número de filas y columnas del DataFrame `df`.\n",
    "> * `df.size` : Devuelve el número de elementos del DataFrame.\n",
    "> * `df.columns` : Devuelve una lista con los nombres de las columnas del DataFrame `df`.\n",
    "> * `df.index` : Devuelve una lista con los nombres de las filas del DataFrame `df`.\n",
    "> * `df.dtypes` : Devuelve una serie con los tipos de datos de las columnas del DataFrame `df`.\n"
   ]
  },
  {
   "cell_type": "markdown",
   "metadata": {},
   "source": [
    "Para explorar estas funcionalidades, tomaremos algunos datasets de  www.datos.gov.co. Iniciaremos con un dataset relacionado con el **Registro nacional de accidentes de transito** diponible en [este enlace](https://www.datos.gov.co/Transporte/Registro-nacional-de-accidentes-de-transito/jb4r-tjbv).\n",
    "\n",
    "* Detalle del registro nacional de accidentes de tránsito para el año 2010\n",
    "* Actualizado:16 de agosto de 2017\n",
    "* Datos proporcionados por: Ministerio de Transporte"
   ]
  },
  {
   "cell_type": "code",
   "execution_count": null,
   "metadata": {},
   "outputs": [],
   "source": [
    "import pandas as pd"
   ]
  },
  {
   "cell_type": "code",
   "execution_count": null,
   "metadata": {},
   "outputs": [],
   "source": [
    "df=pd.read_csv(\"Registro_nacional_de_accidentes_de_transito.csv\")\n",
    "df.head()"
   ]
  },
  {
   "cell_type": "code",
   "execution_count": null,
   "metadata": {},
   "outputs": [],
   "source": [
    "df.shape"
   ]
  },
  {
   "cell_type": "code",
   "execution_count": null,
   "metadata": {},
   "outputs": [],
   "source": [
    "df.size"
   ]
  },
  {
   "cell_type": "code",
   "execution_count": null,
   "metadata": {},
   "outputs": [],
   "source": [
    "df.columns"
   ]
  },
  {
   "cell_type": "code",
   "execution_count": null,
   "metadata": {},
   "outputs": [],
   "source": [
    "df.index"
   ]
  },
  {
   "cell_type": "code",
   "execution_count": null,
   "metadata": {},
   "outputs": [],
   "source": [
    "df.dtypes"
   ]
  },
  {
   "cell_type": "markdown",
   "metadata": {},
   "source": [
    "# Dataframes en Pandas - Algunos métodos útiles\n",
    ">\n",
    "> * `df.info( )` : Devuelve información (número de filas, número de columnas, índices, tipo de las columnas y memoria usado) sobre el DataFrame df.\n",
    "> * `df.describe(include = tipo)`: Devuelve un DataFrame con un resumen estadístico de las columnas del DataFrame df del tipo tipo. Para los datos numéricos (number) se calcula la media, la desviación típica, el mínimo, el máximo y los cuartiles de las columnas numéricas. Para los datos no numéricos (object) se calcula el número de valores, el número de valores distintos, la moda y su frecuencia. Si no se indica el tipo solo se consideran las columnas numéricas.\n",
    "> * `df.head(n)` : Devuelve las n primeras filas del DataFrame df.\n",
    "> * `df.tail(n)` : Devuelve las n últimas filas del DataFrame df."
   ]
  },
  {
   "cell_type": "code",
   "execution_count": null,
   "metadata": {},
   "outputs": [],
   "source": [
    "df.info()"
   ]
  },
  {
   "cell_type": "code",
   "execution_count": null,
   "metadata": {},
   "outputs": [],
   "source": [
    "df.describe()"
   ]
  },
  {
   "cell_type": "code",
   "execution_count": null,
   "metadata": {},
   "outputs": [],
   "source": [
    "df.head(3)"
   ]
  },
  {
   "cell_type": "code",
   "execution_count": null,
   "metadata": {},
   "outputs": [],
   "source": [
    "df.tail(4)"
   ]
  },
  {
   "cell_type": "markdown",
   "metadata": {},
   "source": [
    "# Renombrar columnas o índices\n",
    "\n",
    "* `df.rename(columns=columnas, index=filas)`: Devuelve el DataFrame que resulta de renombrar las columnas indicadas en las claves del diccionario columnas con sus valores y las filas indicadas en las claves del diccionario filas con sus valores en el DataFrame df"
   ]
  },
  {
   "cell_type": "code",
   "execution_count": null,
   "metadata": {},
   "outputs": [],
   "source": [
    "df.columns"
   ]
  },
  {
   "cell_type": "code",
   "execution_count": null,
   "metadata": {},
   "outputs": [],
   "source": [
    "df.rename(columns={\"identiaccidentalidad\":\"idacc\", \n",
    "                   \"codigodepartamentoalfanumerico2\":\"cod_dpt\",\n",
    "                  \"codigomunicipioalfanumerico5\":\"cod_m\",\n",
    "                  \"nivelriesgoproducto\":\"nivel_r\",\n",
    "                  \"departamento\":\"dpt\"},\n",
    "         inplace=True)\n",
    "\n",
    "#Cuidado por defecto la actualización no se hace 'inplace'\n",
    "df.head()"
   ]
  },
  {
   "cell_type": "code",
   "execution_count": null,
   "metadata": {},
   "outputs": [],
   "source": [
    "#También se pueden actualizar los índices\n",
    "df.rename(index={0:12345,\n",
    "                1:34579},\n",
    "         inplace=True)\n",
    "df.head()"
   ]
  },
  {
   "cell_type": "markdown",
   "metadata": {},
   "source": [
    "Revisemos si idacc puede ser utilizado como índice (la idea es que sean valores únicos no nulos). Aunque el índice también podría contener valores repetidos."
   ]
  },
  {
   "cell_type": "code",
   "execution_count": null,
   "metadata": {},
   "outputs": [],
   "source": [
    "df[\"idacc\"].unique().shape"
   ]
  },
  {
   "cell_type": "code",
   "execution_count": null,
   "metadata": {},
   "outputs": [],
   "source": [
    "df[\"idacc\"].isna().sum()"
   ]
  },
  {
   "cell_type": "code",
   "execution_count": null,
   "metadata": {},
   "outputs": [],
   "source": [
    "df.set_index(\"idacc\",inplace=True)\n",
    "\n",
    "\n",
    "#Otra posible forma de hacerlo:\n",
    "#df.rename(index=df[\"idacc\"], inplace=True)\n",
    "\n",
    "# Otra posible forma de hacerlo antes de\n",
    "#df.index = df[\"idacc\"]\n",
    "#del df[\"idacc\"]\n",
    "\n",
    "df.head()"
   ]
  },
  {
   "cell_type": "code",
   "execution_count": null,
   "metadata": {},
   "outputs": [],
   "source": []
  },
  {
   "cell_type": "markdown",
   "metadata": {},
   "source": [
    "# Acceso a elementos del dataframe\n",
    "## Acceso a columnas\n",
    "* `df[columna]` : Devuelve una serie con los elementos de la columna de nombre `columna` del DataFrame `df`\n",
    "* `df[ [columnas] ]` : Devuelve una serie con los elementos de las columnas de la lista `columnas` del DataFrame `df`\n",
    "* `df.columna` : Devuelve una serie con los elementos de la columna de nombre `columna` del DataFrame `df`. Es similar al método anterior pero solo funciona cuando el nombre de la columna no tiene espacios en blanco."
   ]
  },
  {
   "cell_type": "code",
   "execution_count": null,
   "metadata": {},
   "outputs": [],
   "source": [
    "df[\"dpt\"]"
   ]
  },
  {
   "cell_type": "code",
   "execution_count": null,
   "metadata": {},
   "outputs": [],
   "source": [
    "df[[\"dpt\",\"municipio\"]]"
   ]
  },
  {
   "cell_type": "code",
   "execution_count": null,
   "metadata": {
    "scrolled": true
   },
   "outputs": [],
   "source": [
    "df.dpt"
   ]
  },
  {
   "cell_type": "markdown",
   "metadata": {},
   "source": [
    "## Acceso a filas\n",
    "* `df.iloc[i, j]` : Devuelve el elemento que se encuentra en la fila `i` y la columna `j` **(valores implícitos)** del DataFrame `df`. Pueden indicarse secuencias de índices o slices para obtener partes del DataFrame.\n",
    "* `df.loc[filas, columnas]` : Devuelve un DataFrame con los elementos de las filas de la lista `filas` y de las columnas de la lista `columnas` **(valores expícitos)**.\n",
    "\n",
    "* `df[columna][filas]` : Devuelve una serie con los elementos de la columna de nombre `columna` del DataFrame `df` con las filas especificadas en `filas` **(las filas deben ser especificadas con el id explícito. Para slicing, funciona con el id implicito lo cual suele ser confuso)**. Hay varias formas de hacerlo sin generar dudas:\n",
    "   * df[columna].iloc[filas]\n",
    "   * df[columna].loc[filas]\n",
    "* `df[ [columnas] ].iloc[filas]` : igual a la anterior pero con listas de columnas\n",
    "* `df[ [columnas] ].loc[filas]`: igual a la anterior pero con listas de columnas"
   ]
  },
  {
   "cell_type": "code",
   "execution_count": null,
   "metadata": {},
   "outputs": [],
   "source": [
    "df.head()"
   ]
  },
  {
   "cell_type": "code",
   "execution_count": null,
   "metadata": {},
   "outputs": [],
   "source": [
    "df.iloc[0,1]"
   ]
  },
  {
   "cell_type": "code",
   "execution_count": null,
   "metadata": {},
   "outputs": [],
   "source": [
    "df.loc[15218,\"cod_dpt\"]"
   ]
  },
  {
   "cell_type": "code",
   "execution_count": null,
   "metadata": {},
   "outputs": [],
   "source": [
    "df.iloc[1:4, [3,4] ]"
   ]
  },
  {
   "cell_type": "code",
   "execution_count": null,
   "metadata": {},
   "outputs": [],
   "source": [
    "df.loc[46849:5694, [\"cod_m\",\"municipio\"] ]"
   ]
  },
  {
   "cell_type": "code",
   "execution_count": null,
   "metadata": {},
   "outputs": [],
   "source": [
    "df[\"dpt\"][4544]"
   ]
  },
  {
   "cell_type": "code",
   "execution_count": null,
   "metadata": {},
   "outputs": [],
   "source": [
    "df[\"dpt\"][ [4544,62240]] "
   ]
  },
  {
   "cell_type": "code",
   "execution_count": null,
   "metadata": {},
   "outputs": [],
   "source": [
    "df[\"dpt\"][0:2]"
   ]
  },
  {
   "cell_type": "code",
   "execution_count": null,
   "metadata": {},
   "outputs": [],
   "source": [
    "df[\"dpt\"].loc[46849:5694]"
   ]
  },
  {
   "cell_type": "code",
   "execution_count": null,
   "metadata": {},
   "outputs": [],
   "source": [
    "df[[\"dpt\",\"municipio\"]].loc[46849:5694]"
   ]
  },
  {
   "cell_type": "code",
   "execution_count": null,
   "metadata": {},
   "outputs": [],
   "source": [
    "df[\"dpt\"].iloc[1:4]"
   ]
  },
  {
   "cell_type": "code",
   "execution_count": null,
   "metadata": {},
   "outputs": [],
   "source": [
    "df[[\"dpt\",\"municipio\"]].iloc[1:4]"
   ]
  },
  {
   "cell_type": "markdown",
   "metadata": {},
   "source": [
    "# Algunas operaciones de limpieza/ajuste de datos\n",
    "\n",
    "Observa los `dtypes` referentes a las columnas `fecha` y `hora`. Deberían tener algún tipo de formato referente a fechas y tiempo..."
   ]
  },
  {
   "cell_type": "code",
   "execution_count": null,
   "metadata": {},
   "outputs": [],
   "source": [
    "df.info()"
   ]
  },
  {
   "cell_type": "markdown",
   "metadata": {},
   "source": [
    "Algunas funciones/métodos diponibles que pueden servir para hacer este tipo de tareas son:\n",
    "* `df.astype(dtype)`: permite convertir un Dataframe o Serie a el tipo `dtype` indicado.\n",
    "* `pd.to_datetime(Serie)`: permite convertir una Serie a formato `datetime64`\n",
    "* `pd.to_numeric(Serie)`: permite convertir una Serie a formato numérico. El valor de retorno por defecto es `float64` o `int64` dependiendo de los datos.\n",
    "* `pd.to_timedelta(Serie)`:  permite convertir una Serie a formato `timedelta` (o diferencia absoluta entre dos tiempos expresada en unidades (e.g. days, hours, minutes, seconds). "
   ]
  },
  {
   "cell_type": "markdown",
   "metadata": {},
   "source": [
    "Acá les presento un resumen de los tipos de datos disponibles:\n",
    "\n",
    "| Pandas dtype | Python type  | NumPy type                                                     | Usage                                        |\n",
    "|--------------|--------------|----------------------------------------------------------------|----------------------------------------------|\n",
    "| object       | str or mixed | string_, unicode_, mixed types                                 | Text or mixed numeric and non-numeric values |\n",
    "| int64        | int          | int_, int8, int16, int32, int64, uint8, uint16, uint32, uint64 | Integer numbers                              |\n",
    "| float64      | float        | float_, float16, float32, float64                              | Floating point numbers                       |\n",
    "| bool         | bool         | bool_                                                          | True/False values                            |\n",
    "| datetime64   | NA           | datetime64                                                     | Date and time values                         |\n",
    "| timedelta    | NA           | NA                                                             | Differences between two datetimes            |\n",
    "| category     | NA           | NA                                                             | Finite list of text values                   |"
   ]
  },
  {
   "cell_type": "code",
   "execution_count": null,
   "metadata": {},
   "outputs": [],
   "source": [
    "df[\"fecha\"]"
   ]
  },
  {
   "cell_type": "code",
   "execution_count": null,
   "metadata": {},
   "outputs": [],
   "source": [
    "df.dtypes"
   ]
  },
  {
   "cell_type": "code",
   "execution_count": null,
   "metadata": {},
   "outputs": [],
   "source": [
    "df[\"fecha\"] = df[\"fecha\"].astype('datetime64')\n",
    "\n",
    "#Otra forma de hacerlo\n",
    "#df[\"fecha\"] = pd.to_datetime(df[\"fecha\"])"
   ]
  },
  {
   "cell_type": "code",
   "execution_count": null,
   "metadata": {},
   "outputs": [],
   "source": [
    "df.dtypes"
   ]
  },
  {
   "cell_type": "markdown",
   "metadata": {},
   "source": [
    "Observe ahora el formato de la columna `hora`:"
   ]
  },
  {
   "cell_type": "code",
   "execution_count": null,
   "metadata": {},
   "outputs": [],
   "source": [
    "df[\"hora\"]"
   ]
  },
  {
   "cell_type": "code",
   "execution_count": null,
   "metadata": {},
   "outputs": [],
   "source": [
    "df[\"hora\"].iloc[0] #Observa que la hora está como un string"
   ]
  },
  {
   "cell_type": "markdown",
   "metadata": {},
   "source": [
    "- La hora se puede ajustar de varias formas, exploraremos dos de ellas, para lo cual haremos una copia de la colunna hora y la llamaremos \"hora_copia\""
   ]
  },
  {
   "cell_type": "code",
   "execution_count": null,
   "metadata": {},
   "outputs": [],
   "source": [
    "df[\"hora_copia\"] = df[\"hora\"]"
   ]
  },
  {
   "cell_type": "code",
   "execution_count": null,
   "metadata": {},
   "outputs": [],
   "source": [
    "#Trataremos de hacer una conversión a tipo timedelta.\n",
    "df[\"hora_copia\"] = pd.to_timedelta(df[\"hora_copia\"]) #Esto genera un error. \n",
    "#- Si lees el error entenderás que el formato esperado es hh:mm:ss.\n",
    "#- Los datos que tenemos están en formato hh:mm. Podemos entonces agregarle un extra \":00\" a cada valor"
   ]
  },
  {
   "cell_type": "code",
   "execution_count": null,
   "metadata": {},
   "outputs": [],
   "source": [
    "df[\"hora_copia\"] = df[\"hora_copia\"]+\":00\"\n",
    "df[\"hora_copia\"]"
   ]
  },
  {
   "cell_type": "code",
   "execution_count": null,
   "metadata": {},
   "outputs": [],
   "source": [
    "#Intentamos nuevamente:\n",
    "df[\"hora_copia\"] = pd.to_timedelta(df[\"hora_copia\"]) #Ya funciona "
   ]
  },
  {
   "cell_type": "code",
   "execution_count": null,
   "metadata": {},
   "outputs": [],
   "source": [
    "df[\"hora_copia\"]"
   ]
  },
  {
   "cell_type": "code",
   "execution_count": null,
   "metadata": {},
   "outputs": [],
   "source": [
    "df.dtypes #Observa que \"hora_copia\" ahora es de tipo timedelta64 y podrá ser utilizado para \n",
    "          #realizar filtros con fechas"
   ]
  },
  {
   "cell_type": "markdown",
   "metadata": {},
   "source": [
    "- Esa fue una forma de hacerlo. Vamos a ver otra forma de hacerlo modificando la columna \"hora\"\n",
    "\n",
    "- Ninguna de las funciones por defecto nos permitirán convertir, sin embargo, podemos crear nuestra propia función y utilizar la función `apply`:"
   ]
  },
  {
   "cell_type": "code",
   "execution_count": null,
   "metadata": {},
   "outputs": [],
   "source": [
    "from datetime import date, time, datetime\n",
    "\n",
    "def ajustarHora(h): \n",
    "    s = h.split(\":\")\n",
    "    return time(hour= int(s[0]), minute=int(s[1]))\n",
    "\n",
    "\n",
    "df[\"hora\"]=df[\"hora\"].apply(ajustarHora)"
   ]
  },
  {
   "cell_type": "code",
   "execution_count": null,
   "metadata": {},
   "outputs": [],
   "source": [
    "df[\"hora\"].iloc[0] #Observa ahora que cada dato es un time"
   ]
  },
  {
   "cell_type": "code",
   "execution_count": null,
   "metadata": {},
   "outputs": [],
   "source": [
    "df.info() #No obstante la columna \"hora\" es un objeto object. \n",
    "          #Los datos ahora son comparables respecto al tiempo y podrán ser utilizados en máscaras,\n",
    "          #sin embargo, es posible que al ser una columna tipo object no se utilicen funciones vectorizadas\n",
    "          #por defecto."
   ]
  },
  {
   "cell_type": "markdown",
   "metadata": {},
   "source": [
    "- **Lo ideal** es utilizar el primer enfoque que se utilizó con la columna \"hora_copia\""
   ]
  }
 ],
 "metadata": {
  "kernelspec": {
   "display_name": "Python 3",
   "language": "python",
   "name": "python3"
  },
  "language_info": {
   "codemirror_mode": {
    "name": "ipython",
    "version": 3
   },
   "file_extension": ".py",
   "mimetype": "text/x-python",
   "name": "python",
   "nbconvert_exporter": "python",
   "pygments_lexer": "ipython3",
   "version": "3.7.10"
  }
 },
 "nbformat": 4,
 "nbformat_minor": 4
}

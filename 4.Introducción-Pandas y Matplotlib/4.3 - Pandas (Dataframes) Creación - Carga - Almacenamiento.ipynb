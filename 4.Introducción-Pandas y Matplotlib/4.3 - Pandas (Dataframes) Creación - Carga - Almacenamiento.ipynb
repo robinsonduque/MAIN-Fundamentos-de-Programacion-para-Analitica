{
 "cells": [
  {
   "cell_type": "markdown",
   "metadata": {},
   "source": [
    "---\n",
    "Escuela de Ingeniería de Sistemas y Computación  \n",
    "Universidad del Valle  \n",
    "INTRODUCCIÓN A LA PROGRAMACIÓN PARA ANALÍTICA  \n",
    "Profesor: Ph.D, Robinson Duque - robinson.duque@correounivalle.edu.co  \n",
    "Última modificación: Julio de 2020\n",
    "\n",
    "---\n",
    "\n",
    "# Consideraciones:\n",
    "\n",
    "Este material presenta textos y ejemplos orientados al propósito del curso de _Introducción a la Programación para Analítica_ de la Universidad del Valle.   Parte de los textos y ejemplos incluidos en este notebook de Introducción a Pandas fueron tomados y ajustados de los libros: \n",
    "* [Python Data Science Handbook](https://jakevdp.github.io/PythonDataScienceHandbook/index.html) de Jake VanderPlas disponible en GitHub. La obra está bajo una licencia CC-BY-NC-ND que permite: copiar y redistribuir el material, bajo la condicion de reconocer y dar crédito al autor original (Jake VanderPlas).\n",
    "\n",
    "* [Manual de Python](https://aprendeconalf.es/python/manual/) de Alfredo Sánchez Alberca. La obra está bajo una licencia Atribución–No comercial–Compartir igual 4.0 Internacional de Creative Commons que permite: copiar y redistribuir el material en cualquier medio o formato, remezclar, transformar y construir a partir del material. \n",
    "\n",
    "Este material presenta cambios dirigidos hacia textos orientados a la versión 3.0 de Python, para lo cual se han incluido nuevos ejemplos y se proponen ejercicios para validar los conocimientos de los estudiantes orientados al propósito del curso de _Introducción a la Programación para Analítica_ de la Universidad del Valle."
   ]
  },
  {
   "cell_type": "markdown",
   "metadata": {},
   "source": [
    "---\n",
    "\n",
    "# Vínculos de interés:\n",
    "\n",
    "* [Guía de Usuario de Numpy](https://numpy.org/devdocs/user/quickstart.html )\n",
    "\n",
    "* [Guía de Usuario de Pandas](https://pandas.pydata.org/pandas-docs/stable/user_guide/index.html)\n",
    "\n",
    "* [Guía de Matplotlib](https://matplotlib.org/users/index.html)\n",
    "\n",
    "* [Kaggle: Your Machine Learning and Data Science Community](https://www.kaggle.com)\n",
    "\n",
    "---"
   ]
  },
  {
   "cell_type": "markdown",
   "metadata": {},
   "source": [
    "# Tipos de Datos en Pandas"
   ]
  },
  {
   "cell_type": "markdown",
   "metadata": {},
   "source": [
    ">Como pudimos ver, `Pandas` dispone de las siguientes estructuras para el manejo de datos:\n",
    ">\n",
    "> * **Series**: Estructura de una dimensión.\n",
    "> * **DataFrame**: Estructura de dos dimensiones (tablas)."
   ]
  },
  {
   "cell_type": "markdown",
   "metadata": {},
   "source": [
    "# Dataframes en Pandas\n",
    ">\n",
    "> * Conjuntos de datos estructurados en forma de tabla\n",
    "> * Cada columna es una `Serie` homogénea\n",
    "> * Cada fila es una `Serie`, usualmente heterogénea\n",
    "> * Maneja índices para las columnas\n",
    "> * Maneja índices para las filas\n",
    "> * Las estructuras están basadas en los `ndarrays` de una dimensión de `Numpy`, por lo cual podrán acceder a funciones Universales o vectorizadas (al igual que en Numpy)\n",
    "> * Tamaño mutable (se pueden agregar filas y columnas)\n"
   ]
  },
  {
   "cell_type": "markdown",
   "metadata": {},
   "source": [
    "## Creación de un Dataframe - diccionario de listas\n",
    "\n",
    "Para crear un DataFrame a partir de un diccionario cuyas claves son los nombres de las columnas y los valores son listas con los datos de las columnas se utiliza el método:\n",
    "\n",
    "* `DataFrame(data=diccionario, index=filas, columns=columnas, dtype=tipos)` : Devuelve un objeto del tipo `DataFrame` cuyas columnas son las listas contenidas en los valores del diccionario `diccionario`, los nombres de filas indicados en la lista `filas`, las columnas indicadas en la lista `columnas` y los tipos indicados en la lista `tipos`. \n",
    "\n",
    "La lista filas tiene que tener el mismo tamaño que las listas del diccionario, mientras que las listas columnas y tipos tienen que tener el mismo tamaño que el diccionario. \n",
    "\n",
    "Si no se pasa la lista de filas se utilizan como nombres los enteros empezando en 0. Si no se pasa la lista de columnas se utilizan como nombres las claves del diccionario. Si no se pasa la lista de tipos, se infiere."
   ]
  },
  {
   "cell_type": "code",
   "execution_count": null,
   "metadata": {},
   "outputs": [],
   "source": [
    "import pandas as pd\n",
    "import numpy as np"
   ]
  },
  {
   "cell_type": "code",
   "execution_count": null,
   "metadata": {},
   "outputs": [],
   "source": [
    "datos = {\n",
    " 'nombre':['María', 'Luis', 'Carmen', 'Antonio'],\n",
    " 'edad':[18, 22, 20, 21],\n",
    " 'grado':['Economía', 'Medicina', 'Arquitectura', 'Economía'],\n",
    " 'correo':['maria@gmail.com', 'luis@yahoo.es', 'carmen@gmail.com', 'antonio@gmail.com']\n",
    "}"
   ]
  },
  {
   "cell_type": "code",
   "execution_count": null,
   "metadata": {},
   "outputs": [],
   "source": [
    "df = pd.DataFrame(datos)\n",
    "df.head()"
   ]
  },
  {
   "cell_type": "code",
   "execution_count": null,
   "metadata": {},
   "outputs": [],
   "source": [
    "df.dtypes"
   ]
  },
  {
   "cell_type": "code",
   "execution_count": null,
   "metadata": {},
   "outputs": [],
   "source": [
    "df = pd.DataFrame(datos, index = [\"a\",\"b\",\"c\",\"d\"])\n",
    "df.head()"
   ]
  },
  {
   "cell_type": "code",
   "execution_count": null,
   "metadata": {},
   "outputs": [],
   "source": [
    "del df[\"edad\"]\n",
    "df"
   ]
  },
  {
   "cell_type": "markdown",
   "metadata": {},
   "source": [
    "## Creación de un Dataframe - listas de listas"
   ]
  },
  {
   "cell_type": "code",
   "execution_count": null,
   "metadata": {},
   "outputs": [],
   "source": [
    "l = [\n",
    "    [3793, 'New York', 'USA', 'New York', 8008278],\n",
    "    [3794, 'Los Angeles', 'USA', 'California', 3694820],\n",
    "    [3795, 'Chicago', 'USA', 'Illinois', 2896016],\n",
    "    [3796, 'Houston', 'USA', 'Texas', 1953631],\n",
    "    [3797, 'Philadelphia', 'USA', 'Pennsylvania', 1517550],\n",
    "    [3798, 'Phoenix', 'USA', 'Arizona', 1321045],\n",
    "    [3799, 'San Diego', 'USA', 'California', 1223400],\n",
    "    [3800, 'Dallas', 'USA', 'Texas', 1188580],\n",
    "]\n",
    "\n",
    "df = pd.DataFrame( l, columns=['ID', 'Name', 'CountryCode', 'District', 'Population'])\n",
    "df.head()"
   ]
  },
  {
   "cell_type": "code",
   "execution_count": null,
   "metadata": {},
   "outputs": [],
   "source": [
    "df.set_index(df[\"ID\"], inplace=True)\n",
    "del df[\"ID\"]\n",
    "df"
   ]
  },
  {
   "cell_type": "markdown",
   "metadata": {},
   "source": [
    "## Creación de un Dataframe - listas de diccionarios"
   ]
  },
  {
   "cell_type": "code",
   "execution_count": null,
   "metadata": {},
   "outputs": [],
   "source": [
    "l =[\n",
    "    {'Name': 'New York', 'CountryCode': 'USA', 'Population': 8008278, 'ID': 3793, 'District': 'New York'},\n",
    "    {'Name': 'Los Angeles', 'CountryCode': 'USA', 'Population': 3694820, 'ID':3794, 'District': 'California'},\n",
    "    {'Name': 'Chicago', 'CountryCode': 'USA', 'Population': 2896016, 'ID': 3795, 'District': 'Illinois'},\n",
    "    {'Name': 'Houston', 'CountryCode': 'USA', 'Population': 1953631, 'ID': 3796, 'District': 'Texas'},\n",
    "    {'Name': 'Philadelphia', 'CountryCode': 'USA', 'Population': 1517550, 'ID': 3797, 'District': 'Pennsylvania'},\n",
    "    {'Name': 'Phoenix', 'CountryCode': 'USA', 'Population': 1321045, 'ID': 3798, 'District': 'Arizona'},\n",
    "    {'Name': 'San Diego', 'CountryCode': 'USA', 'Population': 1223400, 'ID': 3799, 'District': 'California'},\n",
    "    {'Name': 'Dallas', 'CountryCode': 'USA', 'Population': 1188580, 'ID': 3800, 'District': 'Texas'}\n",
    "]\n",
    "\n",
    "df = pd.DataFrame(l)\n",
    "df"
   ]
  },
  {
   "cell_type": "code",
   "execution_count": null,
   "metadata": {},
   "outputs": [],
   "source": [
    "df.set_index(df[\"ID\"], inplace=True)\n",
    "del df[\"ID\"]\n",
    "df"
   ]
  },
  {
   "cell_type": "markdown",
   "metadata": {},
   "source": [
    "## Carga de datos desde un archivo CSV o Excel\n",
    "\n",
    "Dependiendo del tipo de fichero, existen distintas configuraciones para importar un DataFrame:\n",
    "\n",
    "* `read_csv(fichero.csv, sep=separador, header=n, index_col=m, decimal=separador-decimal)` : Devuelve un objeto del tipo `DataFrame` con los datos del fichero CSV `fichero.csv` usando como separador de los datos la cadena `separador`. Como nombres de columnas se utiliza los valores de la fila `n` y como nombres de filas los valores de la columna `m`. Si no se indica `m` se utilizan como nombres de filas los enteros empezando en `0`.  Para los datos numéricos se utiliza como separador de decimales el carácter indicado en `separador-decimal`.\n",
    "\n",
    "* `read_excel(fichero.xlsx, sheet_name=hoja, header=n, index_col=m, decimal=separador-decimal)` : Devuelve un objeto del tipo `DataFrame` con los datos de la hoja de cálculo `hoja` del fichero Excel `fichero.xlsx`. Como nombres de columnas se utiliza los valores de la fila `n` y como nombres de filas los valores de la column `m`. Si no se indica `m` se utilizan como nombres de filas los enteros empezando en `0`. Para los datos numéricos se utiliza como separador de decimales el carácter indicado en `separador-decimal`."
   ]
  },
  {
   "cell_type": "code",
   "execution_count": null,
   "metadata": {},
   "outputs": [],
   "source": [
    "df = pd.read_csv(\"population.csv\")\n",
    "df.head()"
   ]
  },
  {
   "cell_type": "code",
   "execution_count": null,
   "metadata": {},
   "outputs": [],
   "source": [
    "df = pd.read_csv(\"population.csv\", index_col=\"ID\")\n",
    "df.head()"
   ]
  },
  {
   "cell_type": "code",
   "execution_count": null,
   "metadata": {},
   "outputs": [],
   "source": [
    "df = pd.read_csv(\"population2.csv\")\n",
    "df.head()"
   ]
  },
  {
   "cell_type": "code",
   "execution_count": null,
   "metadata": {},
   "outputs": [],
   "source": [
    "df = pd.read_csv(\"population2.csv\", sep=\";\", index_col=\"ID\")\n",
    "df.head()"
   ]
  },
  {
   "cell_type": "code",
   "execution_count": null,
   "metadata": {},
   "outputs": [],
   "source": [
    "df = pd.read_csv(\"population3.csv\", sep=\";\")\n",
    "df.head()"
   ]
  },
  {
   "cell_type": "code",
   "execution_count": null,
   "metadata": {},
   "outputs": [],
   "source": [
    "df.dtypes"
   ]
  },
  {
   "cell_type": "code",
   "execution_count": null,
   "metadata": {},
   "outputs": [],
   "source": [
    "df = pd.read_csv(\"population3.csv\", sep=\";\", thousands=\".\" , index_col=\"ID\")\n",
    "df.head()"
   ]
  },
  {
   "cell_type": "code",
   "execution_count": null,
   "metadata": {},
   "outputs": [],
   "source": [
    "df.dtypes"
   ]
  },
  {
   "cell_type": "code",
   "execution_count": null,
   "metadata": {},
   "outputs": [],
   "source": [
    "df = pd.read_csv(\"population4.csv\", sep=\";\")\n",
    "df.head()"
   ]
  },
  {
   "cell_type": "code",
   "execution_count": null,
   "metadata": {},
   "outputs": [],
   "source": [
    "df = pd.read_csv(\"population4.csv\", sep=\";\", \n",
    "                 thousands=\",\", decimal=\".\", index_col=\"ID\")\n",
    "df.head()"
   ]
  },
  {
   "cell_type": "code",
   "execution_count": null,
   "metadata": {},
   "outputs": [],
   "source": [
    "df.dtypes"
   ]
  },
  {
   "cell_type": "markdown",
   "metadata": {},
   "source": [
    "## Carga de datos desde un archivo JSON\n"
   ]
  },
  {
   "cell_type": "code",
   "execution_count": null,
   "metadata": {},
   "outputs": [],
   "source": [
    "df = pd.read_json(\"population5.json\")\n",
    "df.head()"
   ]
  },
  {
   "cell_type": "markdown",
   "metadata": {},
   "source": [
    "## Almacenamiento de datos en disco\n",
    "Existen funciones para exportar un DataFrame a un fichero con diferentes formatos:\n",
    "\n",
    "* `df.to_csv(fichero.csv, sep=separador, columns=booleano, index=booleano)` : Exporta el DataFrame `df` al fichero `fichero.csv` en formato CSV usando como separador de los datos la cadena `separador`. Si se pasa `True` al parámetro `columns` se exporta también la fila con los nombres de columnas y si se pasa `True` al parámetro `index` se exporta también la columna con los nombres de las filas.\n",
    "\n",
    "* `df.to_excel(fichero.xlsx, sheet_name = hoja, columns=booleano, index=booleano)` : Exporta el DataFrame df a la hoja de cálculo hoja del fichero `fichero.xlsx` en formato Excel.\n",
    "\n",
    "* `df.to_json(fichero.json, index=booleano)` : Exporta el DataFrame `df` al fichero `fichero.jscon` en formato JSON."
   ]
  },
  {
   "cell_type": "code",
   "execution_count": null,
   "metadata": {},
   "outputs": [],
   "source": [
    "df.to_csv(\"prueba.csv\", index=False)\n",
    "df.to_json(\"prueba.json\", date_format='iso')"
   ]
  }
 ],
 "metadata": {
  "kernelspec": {
   "display_name": "Python 3",
   "language": "python",
   "name": "python3"
  },
  "language_info": {
   "codemirror_mode": {
    "name": "ipython",
    "version": 3
   },
   "file_extension": ".py",
   "mimetype": "text/x-python",
   "name": "python",
   "nbconvert_exporter": "python",
   "pygments_lexer": "ipython3",
   "version": "3.7.10"
  }
 },
 "nbformat": 4,
 "nbformat_minor": 4
}

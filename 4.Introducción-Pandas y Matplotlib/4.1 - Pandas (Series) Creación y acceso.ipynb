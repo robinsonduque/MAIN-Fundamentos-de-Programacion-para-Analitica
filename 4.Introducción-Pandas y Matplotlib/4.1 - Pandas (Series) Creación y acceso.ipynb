{
 "cells": [
  {
   "cell_type": "markdown",
   "metadata": {},
   "source": [
    "---\n",
    "Escuela de Ingeniería de Sistemas y Computación  \n",
    "Universidad del Valle  \n",
    "INTRODUCCIÓN A LA PROGRAMACIÓN PARA ANALÍTICA  \n",
    "Profesor: Ph.D, Robinson Duque - robinson.duque@correounivalle.edu.co  \n",
    "Última modificación: Julio de 2020\n",
    "\n",
    "---\n",
    "\n",
    "# Consideraciones:\n",
    "\n",
    "Este material presenta textos y ejemplos orientados al propósito del curso de _Introducción a la Programación para Analítica_ de la Universidad del Valle.   Parte de los textos y ejemplos incluidos en este notebook de Introducción a Pandas fueron tomados y ajustados de los libros: \n",
    "* [Python Data Science Handbook](https://jakevdp.github.io/PythonDataScienceHandbook/index.html) de Jake VanderPlas disponible en GitHub. La obra está bajo una licencia CC-BY-NC-ND que permite: copiar y redistribuir el material, bajo la condicion de reconocer y dar crédito al autor original (Jake VanderPlas).\n",
    "\n",
    "* [Manual de Python](https://aprendeconalf.es/python/manual/) de Alfredo Sánchez Alberca. La obra está bajo una licencia Atribución–No comercial–Compartir igual 4.0 Internacional de Creative Commons que permite: copiar y redistribuir el material en cualquier medio o formato, remezclar, transformar y construir a partir del material. \n",
    "\n",
    "Este material presenta cambios dirigidos hacia textos orientados a la versión 3.0 de Python, para lo cual se han incluido nuevos ejemplos y se proponen ejercicios para validar los conocimientos de los estudiantes orientados al propósito del curso de _Introducción a la Programación para Analítica_ de la Universidad del Valle."
   ]
  },
  {
   "cell_type": "markdown",
   "metadata": {},
   "source": [
    "---\n",
    "\n",
    "# Vínculos de interés:\n",
    "\n",
    "* [Guía de Usuario de Numpy](https://numpy.org/devdocs/user/quickstart.html )\n",
    "\n",
    "* [Guía de Usuario de Pandas](https://pandas.pydata.org/pandas-docs/stable/user_guide/index.html)\n",
    "\n",
    "* [Guía de Matplotlib](https://matplotlib.org/users/index.html)\n",
    "\n",
    "* [Kaggle: Your Machine Learning and Data Science Community](https://www.kaggle.com)\n",
    "\n",
    "---"
   ]
  },
  {
   "cell_type": "markdown",
   "metadata": {},
   "source": [
    "# Pandas: Manejo y Análisis de Datos Estructurados\n",
    "\n",
    "Las principales características de esta librería son:\n",
    "\n",
    "* Define nuevas estructuras de datos basadas en los **ndarrays** de la librería `NumPy` pero con nuevas funcionalidades.\n",
    "* Permite procesar datos heterogéneos\n",
    "* Permite leer y escribir fácilmente ficheros en formato CSV, JSON, Excel y bases de datos SQL.\n",
    "* Permite acceder a los datos mediante índices o nombres para **filas** y **columnas**.\n",
    "* Ofrece métodos para reordenar, dividir y combinar conjuntos de datos.\n",
    "* Permite trabajar con series temporales.\n",
    "* Realiza todas estas operaciones de manera muy eficiente (funciones vectorizadas)."
   ]
  },
  {
   "cell_type": "markdown",
   "metadata": {},
   "source": [
    "## Ejemplo rápido\n",
    "> Carguemos nuestro archivos CSV de población utilizando pandas y revisemos rápidamente. Para esto incluiremos la librería `pandas`:\n"
   ]
  },
  {
   "cell_type": "code",
   "execution_count": null,
   "metadata": {},
   "outputs": [],
   "source": [
    "import pandas as pd\n",
    "\n",
    "df = pd.read_csv(\"population.csv\", index_col=\"ID\")\n",
    "df.head()"
   ]
  },
  {
   "cell_type": "code",
   "execution_count": null,
   "metadata": {},
   "outputs": [],
   "source": [
    "print(type(df))"
   ]
  },
  {
   "cell_type": "code",
   "execution_count": null,
   "metadata": {},
   "outputs": [],
   "source": [
    "print(type(df[\"Name\"]))"
   ]
  },
  {
   "cell_type": "markdown",
   "metadata": {},
   "source": [
    "## Tipos de Datos en Pandas"
   ]
  },
  {
   "cell_type": "markdown",
   "metadata": {},
   "source": [
    ">Como pudimos ver, `Pandas` dispone de las siguientes estructuras para el manejo de datos:\n",
    ">\n",
    "> * **Series**: Estructura de una dimensión.\n",
    "> * **DataFrame**: Estructura de dos dimensiones (tablas)."
   ]
  },
  {
   "cell_type": "markdown",
   "metadata": {},
   "source": [
    "## Series en Pandas\n",
    ">\n",
    "> * Son estructuras similares a los `ndarrays` de una dimensión en `Numpy` \n",
    "> * Pueden ser heterogéneas u homogéneas. Sólo las series homogéneas podrán acceder a funciones Universales o vectorizadas (al igual que en Numpy)\n",
    "> * Tamaño inmutable, es decir, no se puede cambiar, aunque si su contenido.\n",
    "> * Dispone de un índice que asocia un nombre a cada elemento de la serie (similar a un diccionario), a través de la cuál se accede al elemento.\n",
    "> * Uso de índices implícitos y explícitos\n"
   ]
  },
  {
   "cell_type": "markdown",
   "metadata": {},
   "source": [
    "> ### Creación de series a partir de listas en Python (listas especializadas)\n",
    "> `Series(data=lista, index=indices, dtype=tipo)` : Devuelve un objeto de tipo `Series` con los datos de la lista `lista`, las filas especificadas en la lista `indices` y el tipo de datos indicado en `tipo`. \n",
    ">\n",
    "> Si no se pasa la lista de índices se utilizan como índices los enteros del `0` al `n−1`, done `n` es el tamaño de la serie. Si no se pasa el tipo de dato se infiere."
   ]
  },
  {
   "cell_type": "code",
   "execution_count": null,
   "metadata": {},
   "outputs": [],
   "source": [
    "#Creación de series a partir de listas en python (índices por defecto)\n",
    "dias = pd.Series([\"lunes\",\"martes\",\"miercoles\",\"jueves\",\"viernes\"])\n",
    "print(dias)\n",
    "print(dias[2:4])\n",
    "print(dias.size)\n",
    "print(dias.index)\n",
    "print(dias.dtype)"
   ]
  },
  {
   "cell_type": "code",
   "execution_count": null,
   "metadata": {},
   "outputs": [],
   "source": [
    "s = pd.Series(['Matemáticas', 'Historia', 'Economía', 'Programación', 'Inglés'], \n",
    "              dtype='string')\n",
    "print(s)\n",
    "print(s.size)\n",
    "print(s.index)\n",
    "print(s.dtype)"
   ]
  },
  {
   "cell_type": "code",
   "execution_count": null,
   "metadata": {},
   "outputs": [],
   "source": [
    "dias = pd.Series([\"lunes\",\"martes\",\"miercoles\",\"jueves\",\"viernes\"],\n",
    "                 index = [2,3,1,1,5] )\n",
    "\n",
    "#Observa que pueden haber índices repetidos\n",
    "print(dias)\n",
    "print(\"\\n\",dias[1])\n",
    "print(dias.size)\n",
    "print(dias.index)\n",
    "print(dias.dtype)"
   ]
  },
  {
   "cell_type": "markdown",
   "metadata": {},
   "source": [
    "> ### Creación de series a partir de diccionarios en Python (diccionarios especializados)\n",
    "> `Series(data=diccionario, index=indices)` : Devuelve un objeto de tipo `Series` con los valores del diccionario `diccionario` y las filas especificadas en la lista `indices`. "
   ]
  },
  {
   "cell_type": "code",
   "execution_count": null,
   "metadata": {},
   "outputs": [],
   "source": [
    "d = {'California': 38332521, \n",
    "     'Texas': 26448193,\n",
    "    'New York': 19651127,\n",
    "    'Florida': 19552860,\n",
    "    'Illinois': 12882135}\n",
    "\n",
    "s = pd.Series( d )\n",
    "print(s)\n",
    "\n",
    "print(s[\"California\"]) #Índice explícito\n",
    "print(s[0])   #Índice implícito\n"
   ]
  },
  {
   "cell_type": "markdown",
   "metadata": {},
   "source": [
    "> ### Acceso a elementos de una serie\n",
    "> * `s[i]` : Devuelve el elemento que ocupa la posición `i+1` en la serie `s` si no hay índices explícitos, de lo contrario retornará el valor con índice `i`.\n",
    "> * `s[nombres]`: Devuelve una serie con los elementos asociados a los nombres de la lista `nombres` en el índice."
   ]
  },
  {
   "cell_type": "code",
   "execution_count": null,
   "metadata": {},
   "outputs": [],
   "source": [
    "dias = pd.Series([\"lunes\",\"martes\",\"miercoles\",\"jueves\",\"viernes\"],\n",
    "                 index = [2,3,1,1,5] )"
   ]
  },
  {
   "cell_type": "code",
   "execution_count": null,
   "metadata": {},
   "outputs": [],
   "source": [
    "print(dias[2]) #Índice explícito\n",
    "print(dias[[2,1]]) #Índices explícitos\n",
    "print(dias[0:2]) #Índices implícitos"
   ]
  },
  {
   "cell_type": "code",
   "execution_count": null,
   "metadata": {},
   "outputs": [],
   "source": [
    "print(dias[2:4]) #La operación de slicing puede ser confusa \n",
    "                 #(en este caso funciona con los índices implícitos en Pandas)"
   ]
  },
  {
   "cell_type": "code",
   "execution_count": null,
   "metadata": {},
   "outputs": [],
   "source": [
    "print(dias.iloc[2:4]) #iloc (implicit location) permite hacer slicing sobre los \n",
    "                      # índices implícitos en Pandas"
   ]
  },
  {
   "cell_type": "code",
   "execution_count": null,
   "metadata": {},
   "outputs": [],
   "source": [
    "print(dias.loc[3:5]) #loc (location) permite hacer slicing sobre los índices \n",
    "                     # explícitos en la creación del array (note ambos valores incluidos)"
   ]
  },
  {
   "cell_type": "code",
   "execution_count": null,
   "metadata": {},
   "outputs": [],
   "source": [
    "print(dias.loc[2:1]) "
   ]
  }
 ],
 "metadata": {
  "kernelspec": {
   "display_name": "Python 3",
   "language": "python",
   "name": "python3"
  },
  "language_info": {
   "codemirror_mode": {
    "name": "ipython",
    "version": 3
   },
   "file_extension": ".py",
   "mimetype": "text/x-python",
   "name": "python",
   "nbconvert_exporter": "python",
   "pygments_lexer": "ipython3",
   "version": "3.7.10"
  }
 },
 "nbformat": 4,
 "nbformat_minor": 4
}

{
 "cells": [
  {
   "cell_type": "markdown",
   "metadata": {},
   "source": [
    "---\n",
    "Escuela de Ingeniería de Sistemas y Computación  \n",
    "Universidad del Valle  \n",
    "INTRODUCCIÓN A LA PROGRAMACIÓN PARA ANALÍTICA  \n",
    "Profesor: Ph.D, Robinson Duque (robinson.duque@correounivalle.edu.co)  \n",
    "Última modificación: Agosto de 2021  \n",
    "\n",
    "---\n",
    "\n",
    "# Consideraciones:\n",
    "\n",
    "Parte de los textos y ejemplos incluidos en este notebook de fundamentación en programación para Python fueron tomados y ajustados de los libros: \n",
    "* [Python para Todos](http://www.utic.edu.py/citil/images/Manuales/Python_para_todos.pdf) de Raúl González Duque. La obra está bajo una licencia Creative Commons (Reconocimiento) 2.5 que permite: copiar, distribuir y comunicar públicamente la obra, hacer obras derivadas, bajo la condicion de reconocer y dar crédito al autor original (Raúl González Duque).\n",
    "* [Manual de Python](https://aprendeconalf.es/python/manual/) de Alfredo Sánchez Alberca. La obra está bajo una licencia Atribución–No comercial–Compartir igual 4.0 Internacional de Creative Commons que permite: copiar y redistribuir el material en cualquier medio o formato, remezclar, transformar y construir a partir del material. \n",
    "\n",
    "Este material presenta cambios dirigidos hacia textos orientados a la versión 3.0 de Python, para lo cual se han incluido nuevos ejemplos y se proponen ejercicios para validar los conocimientos de los estudiantes orientados al propósito del curso de _Introducción a la Programación para Analítica_ de la Universidad del Valle.\n",
    "\n"
   ]
  },
  {
   "cell_type": "markdown",
   "metadata": {},
   "source": [
    "# Hola, Python!\n",
    "\n",
    "Algunas características antes de comenzar:\n",
    "\n",
    "* Lenguaje de programación creado por Guido van Rossum (1990)\n",
    "* Lenguaje de programación interpretado\n",
    "* Tipado dinámico\n",
    "* Fuertemente tipado\n",
    "* Multiplataforma\n",
    "* Orientado a objetos, programación (imperativa y funcional)\n",
    "\n",
    "Principales Ventajas:\n",
    "* Es de código abierto\n",
    "* Es fácil de aprender gracias a que su sintaxis es bastante legible para los humanos\n",
    "* Es un lenguaje maduro\n",
    "* Es fácilmente extensible e integrable en otros lenguajes (C, java)\n",
    "* Esta mantenido por una gran comunidad de desarrolladores y hay multitud de recursos para su aprendizaje\n",
    "\n",
    "# Uso de Comentarios:\n",
    "> Antes de discutir cómo escribir programas con Python, es importante comprender la sintaxis que le permite agregar comentarios a su código. Dado que el código de la computadora puede ser difícil de entender, los comentarios son útiles para ayudar a escribir el significado y el propósito de su código.  \n",
    "En Python, el texto se marca como comentario poniéndolo después del símbolo `#`. Todo, desde el `#` hasta el final de la línea, es un comentario y no será tenido en cuenta por el interpretador de Python. Ejemplo:"
   ]
  },
  {
   "cell_type": "code",
   "execution_count": null,
   "metadata": {},
   "outputs": [],
   "source": [
    "# hola esto es un comentario\n",
    "# Puedes ejecutar esta celda presionando las teclas Shift+Enter y las líneas comentadas serán ignoradas...\n",
    "\n",
    "print(\"Hola, Python!\") #Esta función permite 'imprimir' mensajes y valores"
   ]
  },
  {
   "cell_type": "markdown",
   "metadata": {},
   "source": [
    "# Definición de Variables\n",
    "> Dado que los programas en computadora implican trabajar con mucha información, se necesita una forma de almacenar y consultar esa información. Esto se logra con **variables**:\n",
    "> - En Python, puede pensar en ellas como en \"cajas\" que se referencian con \"etiquetas\" o \"identificadores\" para almacenar datos. Después de colocar los datos en una \"caja\", puede hacer referencia a esos datos por la \"etiqueta\" definida.  \n",
    "> - Los nombres de variables pueden contener cualquier combinación de letras, números, puntos o guines bajos\n",
    "( \\_ ), aunque deben comenzar con una letra y no utilizar caracteres especiales.  \n",
    ">\n",
    ">_Importante:_ Los nombres de las variables distinguen entre mayúsculas y minúsculas. Es una buena práctica hacer que los nombres de las variables sean informativos sobre los datos que contienen. "
   ]
  },
  {
   "cell_type": "code",
   "execution_count": null,
   "metadata": {},
   "outputs": [],
   "source": [
    "# Ejemplos de variables válidas\n",
    "nombre = \"Robinson\"\n",
    "print(nombre)\n",
    "\n",
    "x = 9\n",
    "y = x*2\n",
    "print(x)\n",
    "print(y)\n",
    "\n",
    "x = 4.5\n",
    "print(x)"
   ]
  },
  {
   "cell_type": "code",
   "execution_count": null,
   "metadata": {},
   "outputs": [],
   "source": [
    "# Ejemplos de variables no permitidas\n",
    "x5 = 9\n",
    "\n",
    "preciocantidad = 8"
   ]
  },
  {
   "cell_type": "code",
   "execution_count": null,
   "metadata": {},
   "outputs": [],
   "source": [
    "# Otros ejemplos con variables\n",
    "lenguaje = 'Python'\n",
    "\n",
    "x = 2\n",
    "x += 3.14\n",
    "print(x)"
   ]
  },
  {
   "cell_type": "code",
   "execution_count": null,
   "metadata": {},
   "outputs": [],
   "source": []
  },
  {
   "cell_type": "markdown",
   "metadata": {},
   "source": [
    "# Tipos Básicos y Compuestos\n",
    "\n",
    ">En Python los tipos básicos (primitivos)  y se dividen en:\n",
    ">\n",
    "> * **Números**: 10 (entero), 15.57 (de coma flotante) o 7 + 5j (complejos)\n",
    "> * **Cadenas de texto**: \"Hola Mundo\"\n",
    "> * **Booleanos**: `True` (cierto) y `False` (falso).\n",
    ">\n",
    ">También existen tipos de datos compuestos (llamados colecciones o contenedores)\n",
    ">\n",
    "> * **Listas**: Colección de objetos, secuencia ordenada (distintos tipos). `[3, \"manzana\", 4, True]`.\n",
    "> * **Tuplas**: Colección de objetos, secuencia ordenada (distintos tipos).  `(3, \"manzana\", 4, True)`.\n",
    "> * **Diccionarios**: Colecciones de objetos con una clave asociada. Por ejemplo: `{\"pi\":3.1416, \"e\":2.718}`. \n",
    ">\n",
    ">**Objetos mutables:** Listas y Diccionarios  \n",
    ">\n",
    ">**Objetos inmutables:** Números, cadenas, booleanos y tuplas\n",
    ">\n",
    "> |Categoría| Tipo|\n",
    "|----|----|\n",
    "|Tipo Texto (String):|\tstr|\n",
    "|Tipo numérico:|\tint, float, complex|\n",
    "|Tipo Secuencia:|\tlist, tuple, range|\n",
    "|Tipo Mapeo:|\tdict|\n",
    "|Tipo Booleano:|\tbool|\n",
    ">\n",
    ">|Ejemplo|\tTipo de Dato|\t\n",
    "|---|---|\n",
    "|x = \"Hello World\"|\tstr|\n",
    "|x = 20|int|\n",
    "|x = 20.5|\tfloat|\n",
    "|x = 1j|\tcomplex\t|\n",
    "|x = [\"apple\", \"banana\", \"cherry\"]|\tlist|\n",
    "|x = (\"apple\", \"banana\", \"cherry\")|tuple|\n",
    "|x = range(6)|\trange|\n",
    "|x = {\"name\" : \"John\", \"age\" : 36}|\tdict|\n",
    "|x = True|\tbool|"
   ]
  },
  {
   "cell_type": "code",
   "execution_count": null,
   "metadata": {},
   "outputs": [],
   "source": [
    "# Espacio para ejemplos de asignación de variables a distintos tipos\n",
    "pass\n",
    "\n",
    "\n",
    "# Espacio para ejemplos de verificación de tipos utilizando 'type'\n",
    "pass\n",
    "\n"
   ]
  },
  {
   "cell_type": "markdown",
   "metadata": {},
   "source": [
    "---"
   ]
  },
  {
   "cell_type": "markdown",
   "metadata": {},
   "source": [
    "# Pregunta en Socrative..."
   ]
  },
  {
   "cell_type": "markdown",
   "metadata": {},
   "source": [
    "1. Oculta aquí (ShortAns).\n",
    "\n",
    "<!--  \n",
    "Algunos tipos de datos básicos son:\n",
    "a)Números\n",
    "b)Booleanos\n",
    "c)Cadenas\n",
    "d)Listas\n",
    "e)Tuplas\n",
    "f)Diccionarios\n",
    "-->"
   ]
  },
  {
   "cell_type": "markdown",
   "metadata": {},
   "source": [
    "2. Oculta aquí (TF).\n",
    "\n",
    "<!--  \n",
    "Las listas al igual que los números, cadenas y booleanos son inmutables\n",
    "\n",
    "(T/F)\n",
    "-->"
   ]
  },
  {
   "cell_type": "markdown",
   "metadata": {},
   "source": [
    "---"
   ]
  },
  {
   "cell_type": "code",
   "execution_count": null,
   "metadata": {},
   "outputs": [],
   "source": []
  }
 ],
 "metadata": {
  "kernelspec": {
   "display_name": "Python 3",
   "language": "python",
   "name": "python3"
  },
  "language_info": {
   "codemirror_mode": {
    "name": "ipython",
    "version": 3
   },
   "file_extension": ".py",
   "mimetype": "text/x-python",
   "name": "python",
   "nbconvert_exporter": "python",
   "pygments_lexer": "ipython3",
   "version": "3.7.10"
  }
 },
 "nbformat": 4,
 "nbformat_minor": 4
}

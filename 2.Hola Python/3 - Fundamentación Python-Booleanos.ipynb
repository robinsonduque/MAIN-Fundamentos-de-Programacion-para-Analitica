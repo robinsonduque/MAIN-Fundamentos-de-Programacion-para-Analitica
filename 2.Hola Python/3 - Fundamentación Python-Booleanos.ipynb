{
 "cells": [
  {
   "cell_type": "markdown",
   "metadata": {},
   "source": [
    "---\n",
    "Escuela de Ingeniería de Sistemas y Computación  \n",
    "Universidad del Valle  \n",
    "INTRODUCCIÓN A LA PROGRAMACIÓN PARA ANALÍTICA  \n",
    "Profesor: Ph.D, Robinson Duque (robinson.duque@correounivalle.edu.co)  \n",
    "Última modificación: Agosto de 2021\n",
    "\n",
    "---\n",
    "\n",
    "# Consideraciones:\n",
    "\n",
    "Parte de los textos y ejemplos incluidos en este notebook de fundamentación en programación para Python fueron tomados y ajustados de los libros: \n",
    "* [Python para Todos](http://www.utic.edu.py/citil/images/Manuales/Python_para_todos.pdf) de Raúl González Duque. La obra está bajo una licencia Creative Commons (Reconocimiento) 2.5 que permite: copiar, distribuir y comunicar públicamente la obra, hacer obras derivadas, bajo la condicion de reconocer y dar crédito al autor original (Raúl González Duque).\n",
    "* [Manual de Python](https://aprendeconalf.es/python/manual/) de Alfredo Sánchez Alberca. La obra está bajo una licencia Atribución–No comercial–Compartir igual 4.0 Internacional de Creative Commons que permite: copiar y redistribuir el material en cualquier medio o formato, remezclar, transformar y construir a partir del material. \n",
    "\n",
    "Este material presenta cambios dirigidos hacia textos orientados a la versión 3.0 de Python, para lo cual se han incluido nuevos ejemplos y se proponen ejercicios para validar los conocimientos de los estudiantes orientados al propósito del curso de _Introducción a la Programación para Analítica_ de la Universidad del Valle.\n",
    "\n"
   ]
  },
  {
   "cell_type": "markdown",
   "metadata": {},
   "source": [
    "---\n",
    "\n",
    "# Booleanos\n",
    "> `True` (cierto) y `False` (falso). Estos valores son especialmente importantes para las expresiones condicionales y los bucles, como veremos más adelante.\n",
    ">\n",
    "> ## Operadores lógicos\n",
    ">\n",
    "> |Operador|Descripción|Ejemplo|\n",
    "|---|---|---|\n",
    "|and |¿se cumple `a` y `b`?| `r = (True and False) # r es False`|\n",
    "|or  |¿se cumple `a` o `b`?| `r = (True or False) # r es True`|\n",
    "|not |Negación de `a`|`r = not True # r es False`|\n",
    ">\n",
    "> ## Tabla de verdad\n",
    ">\n",
    ">|x|\ty|\tnot x|\tx and y|\tx or y|\n",
    "|---|---|---|---|---|\n",
    "|False|\tFalse|\tTrue|\tFalse|\tFalse|\n",
    "|False|\tTrue|\tTrue|\tFalse|\tTrue|\n",
    "|True|\tFalse|\tFalse|\tFalse|\tTrue|\n",
    "|True|\tTrue|\tFalse|\tTrue|\tTrue|\n",
    ">\n",
    "> ## Operadores relacionales\n",
    ">\n",
    "> |Operador| Descripción| Ejemplo| \n",
    "|---|---|---|\n",
    "|== |¿son iguales `a` y `b`?| `r= (5==3) # r es False` |\n",
    "|!= |¿son distintos `a` y `b`?| `r= (5!=3) # r es True`|\n",
    "|<  |¿es `a` menor que `b`?| `r= (5<3) # r es False`|\n",
    "|<= |¿es `a` menor o igual que `b`?| `r= (5<=5) # r es True`|\n",
    "|>  |¿es `a` mayor que `b`?| `r= (5>3) # r es True`|\n",
    "|>= |¿es `a` mayor o igual que `b`?| `r= (5>=3) # r es True`|\n",
    "\n"
   ]
  },
  {
   "cell_type": "code",
   "execution_count": null,
   "metadata": {},
   "outputs": [],
   "source": [
    "l = True\n",
    "c = True\n",
    "\n",
    "d = not l and c\n",
    "print(d)\n",
    "\n",
    "#d = l or c\n",
    "#print(d)"
   ]
  },
  {
   "cell_type": "code",
   "execution_count": null,
   "metadata": {},
   "outputs": [],
   "source": [
    "P1 = False\n",
    "P2 = False\n",
    "\n",
    "P3 = int(P1) + int(P2)\n",
    "P4 = (P3==1)\n",
    "print(P4)"
   ]
  },
  {
   "cell_type": "code",
   "execution_count": null,
   "metadata": {},
   "outputs": [],
   "source": [
    "x = 9\n",
    "y = 3\n",
    "z = (x!=y)\n",
    "w = (x>=y)\n",
    "print(z)\n",
    "print(w)"
   ]
  },
  {
   "cell_type": "code",
   "execution_count": null,
   "metadata": {},
   "outputs": [],
   "source": []
  },
  {
   "cell_type": "code",
   "execution_count": null,
   "metadata": {},
   "outputs": [],
   "source": [
    "# Ejemplos de creación de variables booleanas\n",
    "pass\n",
    "\n"
   ]
  },
  {
   "cell_type": "code",
   "execution_count": null,
   "metadata": {},
   "outputs": [],
   "source": [
    "# Ejemplos del uso de operadores lógicos y tablas de verdad (and, or, not)\n",
    "pass\n"
   ]
  },
  {
   "cell_type": "code",
   "execution_count": null,
   "metadata": {},
   "outputs": [],
   "source": [
    "# Ejemplos de operadores relacionales (<,>,<=,>=,==,!=)\n",
    "pass\n"
   ]
  },
  {
   "cell_type": "markdown",
   "metadata": {},
   "source": [
    "> ## Operadores a Nivel de Bit (o Elemento a Elemento)\n",
    "> Estos operadores pueden ser utilizados a nivel de bit para comparar lógicamente (\"bit a bit\") dos números. Por ejemplo, si veis una operación como 3 & 2, lo que estas viendo es un `and` bit a bit entre los números binarios 11 y 10 (las representaciones en binario de 3 y 2).\n",
    ">\n",
    "> Sin embargo, en este curso los utilizaremos principalmente para realizar operaciones lógicas (`and, or, xor`) similares a las que vimos arriba para encontrar el valor de verdad de una expresión o variable booleana. Pero adicionalmente, nos permitirán operar arreglos con valores booleanos `True` o `False` \"elemento a elemento\" (que veremos en detalle más adelante en el curso).\n",
    ">\n",
    "> |Operador|Descripción|Ejemplo|\n",
    "|---|---|---|\n",
    "|& |and| `r = (True & False) # r es False`|\n",
    "|\\| |or | `r = (True \\| False) # r es True`|\n",
    "|^ |xor|r = `not True # r es False`|\n",
    "|~ |not|r = `not True # r es False`|"
   ]
  },
  {
   "cell_type": "code",
   "execution_count": null,
   "metadata": {},
   "outputs": [],
   "source": [
    "# Ejemplos de operadores a nivel de bit - Utilizando booleanos\n",
    "pass\n",
    "\n",
    "P1 = False\n",
    "P2 = False\n",
    "Vivo = (P1 ^ P2)\n",
    "print(Vivo)"
   ]
  },
  {
   "cell_type": "code",
   "execution_count": null,
   "metadata": {},
   "outputs": [],
   "source": [
    "# Este ejemplo lo pongo simplemente para mostrar las operaciones sobre arreglos\n",
    "# \"elemento a elemento\" que retomaremos más adelante en el curso. Por ahora sólo \n",
    "# ejecutalo para analizar los resultados.\n",
    "import numpy as np\n",
    "\n",
    "a = np.array([True, True, False, True])\n",
    "b = np.array([True, False, True, False])\n",
    "c = a & b\n",
    "print(c)"
   ]
  },
  {
   "cell_type": "markdown",
   "metadata": {},
   "source": [
    "---"
   ]
  },
  {
   "cell_type": "markdown",
   "metadata": {},
   "source": [
    "# Pregunta en Socrative..."
   ]
  },
  {
   "cell_type": "markdown",
   "metadata": {},
   "source": [
    "1. Oculta aquí (TF).\n",
    "\n",
    "<!--  \n",
    "Cuál es el valor de la variable w después de ejecutar: \n",
    "x = True\n",
    "y = False\n",
    "z = (5>3)\n",
    "w = (x or y) and z\n",
    "\n",
    "a)True\n",
    "b)False\n",
    "-->"
   ]
  },
  {
   "cell_type": "markdown",
   "metadata": {},
   "source": [
    "---"
   ]
  }
 ],
 "metadata": {
  "kernelspec": {
   "display_name": "Python 3",
   "language": "python",
   "name": "python3"
  },
  "language_info": {
   "codemirror_mode": {
    "name": "ipython",
    "version": 3
   },
   "file_extension": ".py",
   "mimetype": "text/x-python",
   "name": "python",
   "nbconvert_exporter": "python",
   "pygments_lexer": "ipython3",
   "version": "3.7.10"
  }
 },
 "nbformat": 4,
 "nbformat_minor": 4
}

{
 "cells": [
  {
   "cell_type": "markdown",
   "metadata": {},
   "source": [
    "---\n",
    "Escuela de Ingeniería de Sistemas y Computación  \n",
    "Universidad del Valle  \n",
    "INTRODUCCIÓN A LA PROGRAMACIÓN PARA ANALÍTICA  \n",
    "Profesor: Ph.D, Robinson Duque (robinson.duque@correounivalle.edu.co)  \n",
    "Última modificación: Agosto de 2021  \n",
    "\n",
    "---\n",
    "\n",
    "# Consideraciones:\n",
    "\n",
    "Parte de los textos y ejemplos incluidos en este notebook de fundamentación en programación para Python fueron tomados y ajustados de los libros: \n",
    "* [Python para Todos](http://www.utic.edu.py/citil/images/Manuales/Python_para_todos.pdf) de Raúl González Duque. La obra está bajo una licencia Creative Commons (Reconocimiento) 2.5 que permite: copiar, distribuir y comunicar públicamente la obra, hacer obras derivadas, bajo la condicion de reconocer y dar crédito al autor original (Raúl González Duque).\n",
    "* [Manual de Python](https://aprendeconalf.es/python/manual/) de Alfredo Sánchez Alberca. La obra está bajo una licencia Atribución–No comercial–Compartir igual 4.0 Internacional de Creative Commons que permite: copiar y redistribuir el material en cualquier medio o formato, remezclar, transformar y construir a partir del material. \n",
    "\n",
    "Este material presenta cambios dirigidos hacia textos orientados a la versión 3.0 de Python, para lo cual se han incluido nuevos ejemplos y se proponen ejercicios para validar los conocimientos de los estudiantes orientados al propósito del curso de _Introducción a la Programación para Analítica_ de la Universidad del Valle.\n",
    "\n"
   ]
  },
  {
   "cell_type": "markdown",
   "metadata": {},
   "source": [
    "# Cadenas\n",
    "> Las cadenas `str` no son más que texto encerrado entre comillas simples (\\'cadena\\'), dobles (\"cadena\"), o triples (\"\"\"cadena\"\"\"). \n",
    ">\n",
    "> ## Operadores Para Cadenas\n",
    "> \n",
    "> * Concatenación: `c1 + c2`\n",
    "> * Repetición: `c1 * int`\n",
    "> * ¿`c1` pertenece a `c2`?: `c1 in c2`\n",
    "> * ¿`c1` no pertenece a `c2`?: `c1 not in c2`\n",
    "> * ¿`c1` igual a `c2`?: `c1 == c2`\n",
    "> * ¿`c1` diferente de `c2`?: `c1 != c2`\n",
    "> * ¿`c1` sucede a `c2`?: `c1 > c2` (también con `>=`)\n",
    "> * ¿`c1` antecede a `c2`?: `c1 < c2` (también con `<=`)"
   ]
  },
  {
   "cell_type": "code",
   "execution_count": null,
   "metadata": {},
   "outputs": [],
   "source": [
    "x = \"Hola estudiantes\\nde \\t\\tprogramación\"\n",
    "print(x)\n",
    "y = \"\"\"¿Hola amigos\n",
    "como\n",
    "          están?\"\"\"\n",
    "print(y)"
   ]
  },
  {
   "cell_type": "code",
   "execution_count": null,
   "metadata": {},
   "outputs": [],
   "source": [
    "edad = 37\n",
    "direccion = \"Calle 12B # 1 1\"\n",
    "cadena = \"Hola, tengo \"+str(edad)+\" años y vivo en \"+direccion\n",
    "print(cadena)"
   ]
  },
  {
   "cell_type": "code",
   "execution_count": null,
   "metadata": {},
   "outputs": [],
   "source": [
    "texto2 = \"Hola, tengo {} años y vivo en {} \".format(edad,direccion)\n",
    "print(texto2)"
   ]
  },
  {
   "cell_type": "code",
   "execution_count": null,
   "metadata": {},
   "outputs": [],
   "source": [
    "edad = 37\n",
    "direccion = \"Calle 12B # 1 1\"\n",
    "nombre = \"Robinson\"\n",
    "texto2 = \"Hola, tengo {0} años. Repito, tengo {0} años y me llamo {1} y vivo en {2} \".format(edad,nombre,direccion)\n",
    "print(texto2)"
   ]
  },
  {
   "cell_type": "code",
   "execution_count": null,
   "metadata": {},
   "outputs": [],
   "source": [
    "x = \"Python\"\n",
    "y = x *3\n",
    "print(y)"
   ]
  },
  {
   "cell_type": "code",
   "execution_count": null,
   "metadata": {},
   "outputs": [],
   "source": [
    "y = \"Hola, tengo 37 años. Repito, tengo 37 años y me llamo Robinson y vivo en Calle 12B # 1 1 \"\n",
    "x = \"37\" not in y\n",
    "print(x)"
   ]
  },
  {
   "cell_type": "code",
   "execution_count": null,
   "metadata": {},
   "outputs": [],
   "source": [
    "x = \"Hola\"\n",
    "y = \"hola\"\n",
    "z = (x==y)\n",
    "print(z)"
   ]
  },
  {
   "cell_type": "code",
   "execution_count": null,
   "metadata": {},
   "outputs": [],
   "source": [
    "a = \"a\"\n",
    "b = \"A\"\n",
    "c = a>b\n",
    "print(c)"
   ]
  },
  {
   "cell_type": "code",
   "execution_count": null,
   "metadata": {},
   "outputs": [],
   "source": []
  },
  {
   "cell_type": "code",
   "execution_count": null,
   "metadata": {},
   "outputs": [],
   "source": []
  },
  {
   "cell_type": "code",
   "execution_count": null,
   "metadata": {},
   "outputs": [],
   "source": [
    "# Ejemplo de cadena con comilla simple\n",
    "pass\n",
    "\n",
    "# Ejemplo de cadena con comilla doble\n",
    "pass\n",
    "\n",
    "# Ejemplo de cadena con comilla triple\n",
    "pass\n",
    "\n",
    "# Ejemplo de cadena con caracteres especiales \"\\n\", \"\\t\"\n",
    "pass\n",
    "\n"
   ]
  },
  {
   "cell_type": "code",
   "execution_count": null,
   "metadata": {},
   "outputs": [],
   "source": [
    "# Ejemplo de concatenación\n",
    "pass\n",
    "\n",
    "# Ejemplo de repetición\n",
    "pass\n",
    "\n",
    "# Ejemplos de pertenencia, no pertenencia, igualdad, diferencia...\n",
    "pass\n",
    "\n"
   ]
  },
  {
   "cell_type": "markdown",
   "metadata": {},
   "source": [
    "> ## Slicing\n",
    "> Cada carácter tiene asociado un índice que permite acceder a él:\n",
    ">\n",
    ">|Cadena|P|y|t|h|o|n|\n",
    "|----|---|---|---|---|---|---|\n",
    "|Indice positivo|0|1|2|3|4|5|\n",
    "|Indice negativo|-6|-5|-4|-3|-2|-1|\n",
    ">\n",
    ">El índice del primer carácter de la cadena es `c[0]` y no `c[1]`.  \n",
    ">\n",
    ">También se pueden utilizar índices negativos para recorrer la cadena del final al principio."
   ]
  },
  {
   "cell_type": "code",
   "execution_count": null,
   "metadata": {},
   "outputs": [],
   "source": [
    "# Ejemplos con índices positivos y negativos\n",
    "t = \"Python\"\n",
    "print(t[0])\n",
    "print(t[2])\n",
    "print(t[-1])"
   ]
  },
  {
   "cell_type": "markdown",
   "metadata": {},
   "source": [
    "> También es posible obtener subcadenas utilizando `c[inicio:fin]` o `c[inicio:fin:salto]`. Devuelve la subcadena de `c` desde el carácter con el índice `inicio` hasta el carácter anterior al índice `fin`, tomando caracteres cada `salto`. "
   ]
  },
  {
   "cell_type": "code",
   "execution_count": null,
   "metadata": {},
   "outputs": [],
   "source": [
    "# Ejemplos de slicing utilizando c[inicio:fin] y c[inicio:fin:salto]\n",
    "t = \"Python sirve para programar con datos\"\n",
    "print(t[0:3])\n",
    "print(t[2:])\n",
    "print(t[3:20])\n",
    "print(t[3:20:2])\n",
    "print(t[::-1])"
   ]
  },
  {
   "cell_type": "code",
   "execution_count": null,
   "metadata": {},
   "outputs": [],
   "source": []
  },
  {
   "cell_type": "markdown",
   "metadata": {},
   "source": [
    "> ## Métodos para strings\n",
    ">\n",
    "> * `c.upper( )` : Devuelve la cadena con los mismos caracteres que la cadena `c` pero en mayúsculas.\n",
    "> * `c.lower( )` : Devuelve la cadena con los mismos caracteres que la cadena `c` pero en minúsculas.\n",
    "> * `c.title( )` : Devuelve la cadena con los mismos caracteres que la cadena `c` con el primer carácter en mayúsculas y el resto en minúsculas.\n",
    "> * `c.split(delimitador)` : Devuelve la lista formada por las subcadenas que resultan de partir la cadena `c` usando como `delimitador` la cadena delimitador. Si no se especifica el delimitador utiliza por defecto el espacio en blanco.\n",
    "> * `c.count( str )` : Cuenta la ocurrencia del string `str` dentro de la cadena `c`.\n",
    "> * `c.find( str )` : Busca dentro del string `c` la letra o palabra `str` y retorna el índice desde donde la puedes encontrar.\n",
    "> * `c.replace( old, new)` : Reemplaza un string `old` por otro `new` dentro del string `c`.\n",
    "> * `c.format(valores)`: Devuelve la cadena `c` tras sustituir los valores de la secuencia valores en los marcadores de posición de `c`. Los marcadores de posición se indican mediante llaves`{}` en la cadena `c`.\n",
    ">\n",
    ">\n",
    "> Ver todos los métodos utilizando `?` o `help( )` \n",
    ">\n",
    "> ## Built-in Functions (Strings)\n",
    "> Existen también algunas funciones predefinidas en Python para strings que podrán ser de mucha utilidad, quizá las que más usaremos son:\n",
    "> \n",
    "> * `len( c )`: permite retornar la longitud de un string `c`\n",
    "> * `str( c )`: convierte un objeto `c` a su representación `str`\n",
    "> * `min( c )`: retorna el carácter menor de la cadena `c`\n",
    "> * `max( c )`: retorna el carácter mayor de la cadena `c`\n"
   ]
  },
  {
   "cell_type": "code",
   "execution_count": null,
   "metadata": {},
   "outputs": [],
   "source": [
    "x = \"Hola python, es un buen lenguaje\"\n",
    "y = x.title()\n",
    "print(y)"
   ]
  },
  {
   "cell_type": "code",
   "execution_count": null,
   "metadata": {},
   "outputs": [],
   "source": [
    "x = \"Hola python, es un buen lenguaje\"\n",
    "y = x.split(\" \")\n",
    "print(y)"
   ]
  },
  {
   "cell_type": "code",
   "execution_count": null,
   "metadata": {},
   "outputs": [],
   "source": [
    "x = \"Hola python, es un buen lenguaje\"\n",
    "y = x.count(\" \")\n",
    "print(y)"
   ]
  },
  {
   "cell_type": "code",
   "execution_count": null,
   "metadata": {},
   "outputs": [],
   "source": [
    "x = \"Hola python, es un buen lenguaje\"\n",
    "y = x.find(\"es\")\n",
    "print(y)\n",
    "print(x[13:15])\n"
   ]
  },
  {
   "cell_type": "code",
   "execution_count": null,
   "metadata": {},
   "outputs": [],
   "source": [
    "x = \"Hola python, es un buen lenguaje\"\n",
    "y = x.replace(\"python\",\"R\")\n",
    "print(y)\n",
    "\n"
   ]
  },
  {
   "cell_type": "code",
   "execution_count": null,
   "metadata": {},
   "outputs": [],
   "source": [
    "x = \"Hola \"\n",
    "y = len(x)\n",
    "print(y)\n"
   ]
  },
  {
   "cell_type": "code",
   "execution_count": null,
   "metadata": {},
   "outputs": [],
   "source": []
  },
  {
   "cell_type": "markdown",
   "metadata": {},
   "source": [
    "---"
   ]
  },
  {
   "cell_type": "markdown",
   "metadata": {},
   "source": [
    "# Pregunta en Socrative..."
   ]
  },
  {
   "cell_type": "markdown",
   "metadata": {},
   "source": [
    "1. Oculta aquí (MC).\n",
    "\n",
    "<!--  \n",
    "Cuál es el resultado de ejecutar:  \n",
    "\n",
    "x = \"Bienvenidos\"\n",
    "print(x[3::2])\n",
    "\n",
    "a)ineio\n",
    "b)neio\n",
    "c)ineios\n",
    "d)neios\n",
    "e)Bevnds\n",
    "-->"
   ]
  },
  {
   "cell_type": "markdown",
   "metadata": {},
   "source": [
    "2. Oculta aquí (MC).\n",
    "\n",
    "<!--  \n",
    "Cuál es el valor de la variable 'y' después de ejecutar: \n",
    "\n",
    "x = \"Hola\"\n",
    "y = x * len( x.upper() )\n",
    "\n",
    "a) \"HolaHolaHolaHola\"\n",
    "b) \"Hola + Hola + Hola + Hola\"\n",
    "c) \"HOLAHOLAHOLAHOLA\"\n",
    "d) \"HOLA + HOLA + HOLA + HOLA\"\n",
    "e) \"HOLA4\"\n",
    "\n",
    "-->"
   ]
  },
  {
   "cell_type": "markdown",
   "metadata": {},
   "source": [
    "---"
   ]
  },
  {
   "cell_type": "code",
   "execution_count": null,
   "metadata": {},
   "outputs": [],
   "source": []
  }
 ],
 "metadata": {
  "kernelspec": {
   "display_name": "Python 3",
   "language": "python",
   "name": "python3"
  },
  "language_info": {
   "codemirror_mode": {
    "name": "ipython",
    "version": 3
   },
   "file_extension": ".py",
   "mimetype": "text/x-python",
   "name": "python",
   "nbconvert_exporter": "python",
   "pygments_lexer": "ipython3",
   "version": "3.7.10"
  }
 },
 "nbformat": 4,
 "nbformat_minor": 4
}

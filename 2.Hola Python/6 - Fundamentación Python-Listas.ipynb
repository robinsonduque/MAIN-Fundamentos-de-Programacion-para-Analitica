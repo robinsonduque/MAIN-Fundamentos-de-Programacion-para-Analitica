{
 "cells": [
  {
   "cell_type": "markdown",
   "metadata": {},
   "source": [
    "---\n",
    "Escuela de Ingeniería de Sistemas y Computación  \n",
    "Universidad del Valle  \n",
    "INTRODUCCIÓN A LA PROGRAMACIÓN PARA ANALÍTICA  \n",
    "Profesor: Ph.D, Robinson Duque (robinson.duque@correounivalle.edu.co)  \n",
    "Última modificación: Agosto de 2021\n",
    "\n",
    "---\n",
    "\n",
    "# Consideraciones:\n",
    "\n",
    "Parte de los textos y ejemplos incluidos en este notebook de fundamentación en programación para Python fueron tomados y ajustados de los libros: \n",
    "* [Python para Todos](http://www.utic.edu.py/citil/images/Manuales/Python_para_todos.pdf) de Raúl González Duque. La obra está bajo una licencia Creative Commons (Reconocimiento) 2.5 que permite: copiar, distribuir y comunicar públicamente la obra, hacer obras derivadas, bajo la condicion de reconocer y dar crédito al autor original (Raúl González Duque).\n",
    "* [Manual de Python](https://aprendeconalf.es/python/manual/) de Alfredo Sánchez Alberca. La obra está bajo una licencia Atribución–No comercial–Compartir igual 4.0 Internacional de Creative Commons que permite: copiar y redistribuir el material en cualquier medio o formato, remezclar, transformar y construir a partir del material. \n",
    "\n",
    "Este material presenta cambios dirigidos hacia textos orientados a la versión 3.0 de Python, para lo cual se han incluido nuevos ejemplos y se proponen ejercicios para validar los conocimientos de los estudiantes orientados al propósito del curso de _Introducción a la Programación para Analítica_ de la Universidad del Valle.\n",
    "\n"
   ]
  },
  {
   "cell_type": "markdown",
   "metadata": {},
   "source": [
    "# Listas\n",
    "> Una lista es una secuencia ordenada de objetos de distintos tipos.  \n",
    ">\n",
    "> Se construyen poniendo los elementos entre corchetes `[ ]` separados por comas.\n",
    ">\n",
    ">Se caracterizan por:\n",
    "> * Tienen orden.\n",
    "> * Pueden contener elementos de distintos tipos.\n",
    "> * Son mutables, es decir, pueden alterarse durante la ejecución de un programa.\n",
    "> * Al igual que los strings, se pueden acceder los elementos con índices (positivos o negativos)\n",
    "> * Al igual que los strings, también se puede aplicar la operación **slicing**"
   ]
  },
  {
   "cell_type": "code",
   "execution_count": null,
   "metadata": {},
   "outputs": [],
   "source": [
    "l = [\"hola\", 1, 5, 7, True]\n",
    "print(type(l))\n",
    "print(l[0])\n",
    "print(l[1])\n",
    "\n",
    "y = not l[4]\n",
    "print(y)"
   ]
  },
  {
   "cell_type": "code",
   "execution_count": null,
   "metadata": {},
   "outputs": [],
   "source": [
    "l = [\"hola\", 1, 5, 7, True, 6,7,8,9]\n",
    "print(l[1:3])\n",
    "print(l[-1])\n",
    "print(l[::-1])\n",
    "print(l[2:7:2])"
   ]
  },
  {
   "cell_type": "code",
   "execution_count": null,
   "metadata": {},
   "outputs": [],
   "source": [
    "l =[  [1,2,3,\"a\"],[6,True,4,3], \"hola\"]\n",
    "\n",
    "print(l[0][3])\n",
    "print(l[1][1])"
   ]
  },
  {
   "cell_type": "code",
   "execution_count": null,
   "metadata": {},
   "outputs": [],
   "source": []
  },
  {
   "cell_type": "code",
   "execution_count": null,
   "metadata": {},
   "outputs": [],
   "source": [
    "# Ejemplos de listas y acceso con índices\n",
    "pass\n",
    "\n",
    "# Mostrar que cada elemento de la lista conserva su tipo (utilizando\n",
    "# la función 'type' o accediendo a métodos específicos)\n",
    "pass\n",
    "\n",
    "# Ejemplos de slicing con listas\n",
    "pass\n"
   ]
  },
  {
   "cell_type": "markdown",
   "metadata": {},
   "source": [
    "> ## Modificación de una lista\n",
    "> Podemos utilizar el operador `[ ]` para modificar un elemento de la lista si lo colocamos en la parte izquierda de una asignación. Por ejemplo: `c[0] = 9`"
   ]
  },
  {
   "cell_type": "code",
   "execution_count": null,
   "metadata": {},
   "outputs": [],
   "source": [
    "l = list( range(1,20) )\n",
    "print(l)\n",
    "l[2] = -9\n",
    "print(l)\n",
    "l[4] = [-2,-3,-6]\n",
    "print(l)\n",
    "print(l[4][1])"
   ]
  },
  {
   "cell_type": "markdown",
   "metadata": {},
   "source": [
    "> ## Funciones y métodos de listas\n",
    ">\n",
    "> * `len(l)` : Devuelve el número de elementos de la lista `l`.\n",
    "> * `min(l)` : Devuelve el mínimo elemento de la lista `l` siempre que los datos sean comparables.\n",
    "> * `max(l)` : Devuelve el máximo elemento de la lista `l` siempre que los datos sean comparables.\n",
    "> * `sum(l)` : Devuelve la suma de los elementos de la lista `l`, siempre que los datos se puedan sumar.\n",
    "> * `all(l)` : Devuelve `True` si todos los elementos de la lista `l` son `True` y `False` en caso contrario.\n",
    "> * `any(l)` : Devuelve `True` si algún elemento de la lista `l` es `True` y `False` en caso contrario\n",
    "> * `dato in l` : Devuelve `True` si el dato `dato` pertenece a la lista `l` y `False` en caso contrario.\n",
    "> * `l.index(dato)` : Devuelve la posición que ocupa en la lista `l` el primer elemento con valor `dato`.\n",
    "> * `l.count(dato)` : Devuelve el número de veces que el valor `dato` está contenido en la lista `l`."
   ]
  },
  {
   "cell_type": "code",
   "execution_count": null,
   "metadata": {},
   "outputs": [],
   "source": [
    "# Ejemplos de uso de funciones y métodos para listas\n",
    "l = list(range(3,15))\n",
    "print(l)\n",
    "\n",
    "l[4]=-5\n",
    "print(l)\n",
    "\n",
    "m = min(l)\n",
    "print(m)\n",
    "\n",
    "ma = max(l)\n",
    "print(ma)\n",
    "\n",
    "s = sum(l)\n",
    "print(s)\n",
    "\n",
    "\n",
    "l[-1] = None\n",
    "print(l)\n",
    "print( all(l))\n",
    "\n",
    "z = -5 in l\n",
    "print(z)\n",
    "\n",
    "ind = l.index(-5)\n",
    "print(ind)"
   ]
  },
  {
   "cell_type": "markdown",
   "metadata": {},
   "source": [
    "> Continuación:  \n",
    "> \n",
    "> * `l1 + l2` : Crea una nueva lista concatenan los elementos de la listas `l1` y `l2`.\n",
    "> * `l.append(dato)` : Añade `dato` al final de la lista `l`.\n",
    "> * `l.insert(índice, dato)` : Inserta `dato` en la posición `índice` de la lista `l` y desplaza los elementos una posición a partir de la posición `índice`.\n",
    "> * `l.remove(dato)` : Elimina el primer elemento con valor `dato` en la lista `l` y desplaza los que están por detrás de él una posición hacia delante.\n",
    "> * `l.pop([índice])` : Devuelve el dato en la posición `índice` y lo elimina de la lista `l`, desplazando los elementos por detrás de él una posición hacia delante.\n",
    "> * `l.sort()` : Ordena los elementos de la lista `l` de acuerdo al orden predefinido, siempre que los elementos sean comparables.\n",
    "> * `l.reverse()` : invierte el orden de los elementos de la lista `l`."
   ]
  },
  {
   "cell_type": "code",
   "execution_count": null,
   "metadata": {},
   "outputs": [],
   "source": [
    "# Ejemplos de uso de funciones y métodos para listas\n",
    "l1 = [\"a\", \"b\", \"c\"]\n",
    "l2 = [1,3,4,7,8, True]\n",
    "l3 = l1+l2\n",
    "print(l3)\n",
    "\n",
    "l1.append(9)\n",
    "print(l1)\n",
    "l1.insert(1, -8)\n",
    "print(l1)\n",
    "l1.remove(\"b\")\n",
    "print(l1)\n",
    "\n",
    "valor=l1.pop(2)\n",
    "print(l1)\n",
    "print(valor)"
   ]
  },
  {
   "cell_type": "markdown",
   "metadata": {},
   "source": [
    "> ## Copia de listas\n",
    ">\n",
    ">Existen dos formas de copiar listas:\n",
    ">\n",
    "> * **Copia por referencia** `l1 = l2`\n",
    "> * **Copia por valor** `l1 = list(l2)`"
   ]
  },
  {
   "cell_type": "code",
   "execution_count": null,
   "metadata": {},
   "outputs": [],
   "source": [
    "# Ejemplos de copia por referencia y por valor de listas\n",
    "l1 = [2,5,7,9]\n",
    "l2 = l1\n",
    "l1.append(-7)\n",
    "print(l1)\n",
    "print(l2)"
   ]
  },
  {
   "cell_type": "code",
   "execution_count": null,
   "metadata": {},
   "outputs": [],
   "source": [
    "l1 = [2,5,7,9,7,6,5,4,3]\n",
    "l2 = l1[2:7]\n",
    "print(l1)\n",
    "print(l2)\n",
    "l2[0]=-9\n",
    "print(l1)\n",
    "print(l2)"
   ]
  },
  {
   "cell_type": "code",
   "execution_count": null,
   "metadata": {},
   "outputs": [],
   "source": [
    "l1 = [2,5,7,9]\n",
    "l2 = l1.copy()\n",
    "l1.append(-7)\n",
    "print(l1)\n",
    "print(l2)"
   ]
  },
  {
   "cell_type": "code",
   "execution_count": null,
   "metadata": {},
   "outputs": [],
   "source": [
    "l = list(range(1000000000))\n",
    "print(\"hola\")"
   ]
  },
  {
   "cell_type": "code",
   "execution_count": null,
   "metadata": {},
   "outputs": [],
   "source": [
    "l2 = l1.copy()\n",
    "\n"
   ]
  },
  {
   "cell_type": "markdown",
   "metadata": {},
   "source": [
    "---"
   ]
  },
  {
   "cell_type": "markdown",
   "metadata": {},
   "source": [
    "# Pregunta en Socrative..."
   ]
  },
  {
   "cell_type": "markdown",
   "metadata": {},
   "source": [
    "1. Oculta aquí (MC).\n",
    "\n",
    "<!--  \n",
    "Cuál es el valor de 'y' después de ejecutar:  \n",
    "\n",
    "x = [1,2,3,4,5]\n",
    "y = x[3] + x[1] * x[3]\n",
    "\n",
    "a) 16\n",
    "b) 20\n",
    "c) 24\n",
    "d) 12\n",
    "e) 10\n",
    "-->"
   ]
  },
  {
   "cell_type": "markdown",
   "metadata": {},
   "source": [
    "2. Oculta aquí (MC).\n",
    "\n",
    "<!--  \n",
    "Cuál es el valor de 'y' después de ejecutar:  \n",
    "\n",
    "x = [0,1,2,3,4,5,6,7,8]\n",
    "y = x[5:9] + x[0:5]\n",
    "\n",
    "a)[5, 6, 7, 8, 0, 1, 2, 3, 4, 5]\n",
    "b)[5, 6, 7, 8, 9, 0, 1, 2, 3, 4]\n",
    "c)[5, 6, 7, 8, 9, 1, 2, 3, 4, 5]\n",
    "d)[5, 6, 7, 8, 0, 1, 2, 3, 4]\n",
    "e)[1, 2, 3, 4, 5, 6, 7, 8, 0]\n",
    "-->"
   ]
  },
  {
   "cell_type": "markdown",
   "metadata": {},
   "source": [
    "---"
   ]
  }
 ],
 "metadata": {
  "kernelspec": {
   "display_name": "Python 3",
   "language": "python",
   "name": "python3"
  },
  "language_info": {
   "codemirror_mode": {
    "name": "ipython",
    "version": 3
   },
   "file_extension": ".py",
   "mimetype": "text/x-python",
   "name": "python",
   "nbconvert_exporter": "python",
   "pygments_lexer": "ipython3",
   "version": "3.7.10"
  }
 },
 "nbformat": 4,
 "nbformat_minor": 4
}

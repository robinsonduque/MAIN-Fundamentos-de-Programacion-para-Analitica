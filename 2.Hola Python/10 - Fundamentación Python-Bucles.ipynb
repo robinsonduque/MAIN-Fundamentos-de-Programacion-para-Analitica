{
 "cells": [
  {
   "cell_type": "markdown",
   "metadata": {},
   "source": [
    "---\n",
    "Escuela de Ingeniería de Sistemas y Computación  \n",
    "Universidad del Valle  \n",
    "INTRODUCCIÓN A LA PROGRAMACIÓN PARA ANALÍTICA  \n",
    "Profesor: Ph.D, Robinson Duque (robinson.duque@correounivalle.edu.co)  \n",
    "Última modificación: Agosto de 2021   \n",
    "\n",
    "---\n",
    "\n",
    "# Consideraciones:\n",
    "\n",
    "Parte de los textos y ejemplos incluidos en este notebook de fundamentación en programación para Python fueron tomados y ajustados de los libros: \n",
    "* [Python para Todos](http://www.utic.edu.py/citil/images/Manuales/Python_para_todos.pdf) de Raúl González Duque. La obra está bajo una licencia Creative Commons (Reconocimiento) 2.5 que permite: copiar, distribuir y comunicar públicamente la obra, hacer obras derivadas, bajo la condicion de reconocer y dar crédito al autor original (Raúl González Duque).\n",
    "* [Manual de Python](https://aprendeconalf.es/python/manual/) de Alfredo Sánchez Alberca. La obra está bajo una licencia Atribución–No comercial–Compartir igual 4.0 Internacional de Creative Commons que permite: copiar y redistribuir el material en cualquier medio o formato, remezclar, transformar y construir a partir del material. \n",
    "\n",
    "Este material presenta cambios dirigidos hacia textos orientados a la versión 3.0 de Python, para lo cual se han incluido nuevos ejemplos y se proponen ejercicios para validar los conocimientos de los estudiantes orientados al propósito del curso de _Introducción a la Programación para Analítica_ de la Universidad del Valle.\n",
    "\n"
   ]
  },
  {
   "cell_type": "markdown",
   "metadata": {},
   "source": [
    "# Bucles de repetición\n",
    "> En Python existen los bucles `while` y `for`. Particularmente nos enfocaremos más a fondo en los bucles `for` puesto que son los que utilizaremos principalmente en el curso para recorrer secuencias de datos.\n",
    ">\n",
    "> ## Bucle `while`\n",
    ">\n",
    "> ```ipython\n",
    "while condición:\n",
    "    bloque código\n",
    ">```\n",
    ">\n",
    "> Repite la ejecución del bloque de código mientras la expresión lógica 'condición' sea cierta. Se puede interrumpir en cualquier momento la ejecución del bloque de código con la instrucción `break`."
   ]
  },
  {
   "cell_type": "code",
   "execution_count": 2,
   "metadata": {},
   "outputs": [
    {
     "name": "stdout",
     "output_type": "stream",
     "text": [
      "Introduce un número: 9\n",
      "Introduce un número: 8\n",
      "Introduce un número: 9\n",
      "Introduce un número: -8\n",
      "Introduce un número: 0\n"
     ]
    }
   ],
   "source": [
    "num = None\n",
    "\n",
    "while num != 0:\n",
    "    num = int(input('Introduce un número: '))"
   ]
  },
  {
   "cell_type": "code",
   "execution_count": 3,
   "metadata": {},
   "outputs": [
    {
     "name": "stdout",
     "output_type": "stream",
     "text": [
      "101\n"
     ]
    }
   ],
   "source": [
    "n = 0\n",
    "\n",
    "while n <= 100:\n",
    "    n+=1;\n",
    "print(n)"
   ]
  },
  {
   "cell_type": "markdown",
   "metadata": {},
   "source": [
    "> ## Bucle `for`\n",
    "> ```ipython\n",
    "for i in secuencia:\n",
    "    bloque código\n",
    "> ```\n",
    ">\n",
    "> Repite la ejecución del bloque de código para cada elemento de la secuencia secuencia, asignado dicho elemento a i en cada repetición.\n",
    ">\n",
    ">Se puede interrumpir en cualquier momento la ejecución del bloque de código con la instrucción `break` o saltar la ejecución para un determinado elemento de la secuencia con la instrucción `continue`.\n",
    ">\n",
    "> Se utiliza fundamentalmente para recorrer colecciones de objetos como cadenas, listas, tuplas o diccionarios."
   ]
  },
  {
   "cell_type": "code",
   "execution_count": 18,
   "metadata": {},
   "outputs": [
    {
     "name": "stdout",
     "output_type": "stream",
     "text": [
      "HolA estudiAntes de progrAmAción\n",
      "[0, 1, 2, 3, 4, -3, 4]\n",
      "[0, 1, 2, 3, 4, 3, 4]\n",
      "[0, 1, 2, 3, 4]\n",
      "(0, 1, 2, 3, 4, -3, 4)\n",
      "[1, 3]\n"
     ]
    }
   ],
   "source": [
    "# Ejemplos de bucle for para recorrer cadenas\n",
    "c = \"Hola estudiantes de programación\"\n",
    "\n",
    "aux=\"\"\n",
    "for i in c:\n",
    "    if i==\"a\":\n",
    "        aux+=\"A\"\n",
    "    else:\n",
    "        aux+=i\n",
    "\n",
    "print(aux)\n",
    "#c2= c.replace(\"a\",\"A\")\n",
    "#print(c2)\n",
    "\n",
    "# Ejemplos de bucle for para recorrer listas\n",
    "l = list(range(5)) + [-3,4]\n",
    "print(l)\n",
    "nl=[]\n",
    "for i in l:\n",
    "    if i>=0:\n",
    "        nl.append(i)\n",
    "    else:\n",
    "        nl.append(abs(i))\n",
    "print(nl)\n",
    "\n",
    "\n",
    "nl2=[]\n",
    "for i in l:\n",
    "    if i>=0:\n",
    "        nl2.append(i)\n",
    "    else:\n",
    "        break\n",
    "print(nl2)\n",
    "\n",
    "# Ejemplos de bucle for para recorrer tuplas\n",
    "\n",
    "t = tuple( list(range(5)) + [-3,4])\n",
    "print(t)\n",
    "\n",
    "aux=[]\n",
    "for i in t:\n",
    "    if i%2==1 and i>=0:\n",
    "        aux.append(i)\n",
    "        \n",
    "print(aux)\n"
   ]
  },
  {
   "cell_type": "code",
   "execution_count": 44,
   "metadata": {},
   "outputs": [
    {
     "name": "stdout",
     "output_type": "stream",
     "text": [
      "['Robinson', 'Duque', 37]\n",
      "['Robinson', 'Duque', 37]\n",
      "['nombre', 'apellido', 'edad']\n",
      "[('nombre', 'Robinson'), ('apellido', 'Duque'), ('edad', 37)]\n",
      "0\n",
      "5\n",
      "10\n",
      "15\n",
      "20\n",
      "25\n",
      "30\n",
      "35\n",
      "40\n",
      "45\n",
      "50\n",
      "55\n",
      "60\n",
      "65\n",
      "70\n",
      "75\n",
      "80\n",
      "85\n"
     ]
    }
   ],
   "source": [
    "\n",
    "# Ejemplos de bucle for para recorrer diccionarios\n",
    "des = [\n",
    "{\"nombre\":\"Robinson\",\"apellido\":\"Duque\",\"edad\": 37},\n",
    "{\"nombre\":\"Kellys\",\"apellido\":\"Santa\",\"edad\": 20},\n",
    "{\"nombre\":\"Jose\",\"apellido\":\"Sanchez\",\"edad\": 25, \"notas\":[5.0, 3.4,4.6]}\n",
    "]\n",
    "\n",
    "#for i in des:\n",
    "#    print(i[\"apellido\"])\n",
    "\n",
    "\n",
    "    \n",
    "d = {\"nombre\":\"Robinson\",\"apellido\":\"Duque\",\"edad\": 37}\n",
    "\n",
    "valores=[]\n",
    "for i in d.values() :\n",
    "    valores.append(i)\n",
    "print(valores)\n",
    "\n",
    "print(list(d.values()))\n",
    "print(list(d.keys()))\n",
    "print(list(d.items()))\n",
    "\n",
    "\n",
    "\n",
    "\n",
    "    \n",
    "# Ejemplos de bucle for utilizando 'range(fin)', 'range(inicio,fin)'\n",
    "# y range'(inicio,fin,salto)'\n",
    "for i in range(0,90,5):\n",
    "    print(i)\n",
    "\n"
   ]
  },
  {
   "cell_type": "code",
   "execution_count": null,
   "metadata": {},
   "outputs": [],
   "source": []
  },
  {
   "cell_type": "markdown",
   "metadata": {},
   "source": [
    "---"
   ]
  },
  {
   "cell_type": "markdown",
   "metadata": {},
   "source": [
    "# Pregunta en Socrative..."
   ]
  },
  {
   "cell_type": "markdown",
   "metadata": {},
   "source": [
    "1. Oculta aquí (MC).\n",
    "\n",
    "<!--  \n",
    "Cuál es el valor de 'y' después de ejecutar:  \n",
    "\n",
    "x = [1,-2,3,4,-7,8]\n",
    "y = []\n",
    "for i in x:\n",
    "    if i>=0:\n",
    "        y.append(i)\n",
    "\n",
    "\n",
    "a) Error\n",
    "b) [1, 3, 4, 8]\n",
    "c) [-2, -7]\n",
    "d) [3, 4, 8]\n",
    "e) [1, 3, 4]\n",
    "-->"
   ]
  },
  {
   "cell_type": "markdown",
   "metadata": {},
   "source": [
    "2. Oculta aquí (MC).\n",
    "\n",
    "<!--  \n",
    "Cuál es el valor de 'y' después de ejecutar:  \n",
    "\n",
    "x = \"Fundamentos\"\n",
    "y = []\n",
    "for i in x:\n",
    "    if i != \"a\":\n",
    "        y.append(i.upper())\n",
    "    else:\n",
    "        y.append(i)\n",
    "        \n",
    "\n",
    "a) Error\n",
    "b) [\"f\",\"u\",\"n\",\"d\",\"a\",\"m\",\"e\",\"n\",\"t\",\"o\",\"s\"]\n",
    "c) \"fundAmentos\"\n",
    "d) \"FUNDaMENTOS\"\n",
    "e) ['F', 'U', 'N', 'D', 'a', 'M', 'E', 'N', 'T', 'O', 'S']\n",
    "-->"
   ]
  },
  {
   "cell_type": "markdown",
   "metadata": {},
   "source": [
    "---"
   ]
  }
 ],
 "metadata": {
  "kernelspec": {
   "display_name": "Python 3",
   "language": "python",
   "name": "python3"
  },
  "language_info": {
   "codemirror_mode": {
    "name": "ipython",
    "version": 3
   },
   "file_extension": ".py",
   "mimetype": "text/x-python",
   "name": "python",
   "nbconvert_exporter": "python",
   "pygments_lexer": "ipython3",
   "version": "3.7.10"
  }
 },
 "nbformat": 4,
 "nbformat_minor": 4
}

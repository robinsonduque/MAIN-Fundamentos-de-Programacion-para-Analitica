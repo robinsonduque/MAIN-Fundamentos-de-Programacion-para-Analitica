{
 "cells": [
  {
   "cell_type": "markdown",
   "metadata": {},
   "source": [
    "---\n",
    "Escuela de Ingeniería de Sistemas y Computación  \n",
    "Universidad del Valle  \n",
    "INTRODUCCIÓN A LA PROGRAMACIÓN PARA ANALÍTICA  \n",
    "Profesor: Ph.D, Robinson Duque (robinson.duque@correounivalle.edu.co)  \n",
    "Última modificación: Agosto de 2021\n",
    "\n",
    "---\n",
    "\n",
    "# Consideraciones:\n",
    "\n",
    "Parte de los textos y ejemplos incluidos en este notebook de fundamentación en programación para Python fueron tomados y ajustados de los libros: \n",
    "* [Python para Todos](http://www.utic.edu.py/citil/images/Manuales/Python_para_todos.pdf) de Raúl González Duque. La obra está bajo una licencia Creative Commons (Reconocimiento) 2.5 que permite: copiar, distribuir y comunicar públicamente la obra, hacer obras derivadas, bajo la condicion de reconocer y dar crédito al autor original (Raúl González Duque).\n",
    "* [Manual de Python](https://aprendeconalf.es/python/manual/) de Alfredo Sánchez Alberca. La obra está bajo una licencia Atribución–No comercial–Compartir igual 4.0 Internacional de Creative Commons que permite: copiar y redistribuir el material en cualquier medio o formato, remezclar, transformar y construir a partir del material. \n",
    "\n",
    "Este material presenta cambios dirigidos hacia textos orientados a la versión 3.0 de Python, para lo cual se han incluido nuevos ejemplos y se proponen ejercicios para validar los conocimientos de los estudiantes orientados al propósito del curso de _Introducción a la Programación para Analítica_ de la Universidad del Valle.\n",
    "\n"
   ]
  },
  {
   "cell_type": "markdown",
   "metadata": {},
   "source": [
    "# Números\n",
    "> ## Operadores aritméticos\n",
    "> |Operador|Nombre|Descripción|\n",
    "|---|---|---|\n",
    "|a + b|\tSuma|\tSuma de `a` y `b`|\n",
    "|a - b|\tResta|Diferencia de `a` y `b`|\n",
    "|a * b|\tMultiplicación|\tProducto de `a` y `b`|\n",
    "|a / b|\tDivisión|\tCociente de `a` y `b`|\n",
    "|a // b|Division piso (entera)|\tCociente de `a` y `b`, removiendo la parte fracción|\n",
    "|a % b|\tMódulo\tEntero| Residuo de la división de `a` en `b`|\n",
    "|a ** b|\tExponenciación|\t`a` elevado a la potencia de `b`|\n",
    "|-a\t|Negación|\tLa negación de `a`|\n",
    ">\n",
    "> ## Prioridad de la evaluación\n",
    "Es importante tener presente el orden en que se realizan las operaciones en Python para evitar errores a la hora de implementar programas:\n",
    ">\n",
    ">|Orden|Operador|\n",
    "|---|---|\n",
    "|1|\tParentesis `()`|\n",
    "|2|\tExponentes `**`|\n",
    "|3|\tMultiplicaciones y Divisiones `(*, /, //, %)`|\n",
    "|4| Sumas y restas `(+,-)`|"
   ]
  },
  {
   "cell_type": "code",
   "execution_count": null,
   "metadata": {},
   "outputs": [],
   "source": [
    "# Espacio para ejemplos con operadores para Números (int, float, complex)\n",
    "x = 5\n",
    "y = 7\n",
    "z = y%x\n",
    "print(z)\n",
    "\n",
    "w = x ** 2\n",
    "print(w)\n",
    "\n",
    "g = 10//3\n",
    "print(g)\n",
    "\n",
    "l = None\n",
    "print(l)\n",
    "print(type(l))"
   ]
  },
  {
   "cell_type": "code",
   "execution_count": null,
   "metadata": {},
   "outputs": [],
   "source": [
    "print(3+4*5)\n",
    "print( (3+4)*5 )\n",
    "print( 10/2*3 )\n",
    "print(  3+4+2*2+4+5*7+9/3         )"
   ]
  },
  {
   "cell_type": "code",
   "execution_count": null,
   "metadata": {},
   "outputs": [],
   "source": [
    "# Ejemplo: Cálculo del IVA al precio de un producto utilizando variables y asignación.\n",
    "\n",
    "Precio = 500  # Precio es una variable a la que se le ha asignado un valor numérico\n",
    "IVA = Precio * 0.19  # Aquí se calcula el Impuesto y se asigna en la variable IVA\n",
    "\n",
    "# Si presionas Shift+Enter se realizan los cálculos pero no se ve ningún resultado. \n",
    "# Esto sucede porque no hay una instrucción que permita ver o 'imprimir' los valores contenidos en las variables.\n",
    "\n",
    "# Descomenta las tres líneas que aparecen abajo y presiona Shift+Enter:\n",
    "\n",
    "print(\"Precio del producto: \",Precio) \n",
    "print(\"IVA calculado: \",IVA)\n",
    "print(\"TOTAL\", Precio + IVA)"
   ]
  },
  {
   "cell_type": "code",
   "execution_count": null,
   "metadata": {},
   "outputs": [],
   "source": [
    "Precio = int( input(\"Ingrese el precio del producto:\") )\n",
    "IVA = Precio * 0.19 \n",
    "print(\"Precio del producto: \",Precio) \n",
    "print(\"IVA calculado: \",IVA)\n",
    "print(\"TOTAL\", Precio + IVA)"
   ]
  },
  {
   "cell_type": "markdown",
   "metadata": {},
   "source": [
    "---"
   ]
  },
  {
   "cell_type": "markdown",
   "metadata": {},
   "source": [
    "# Pregunta en Socrative..."
   ]
  },
  {
   "cell_type": "markdown",
   "metadata": {},
   "source": [
    "1. Oculta aquí (MC).\n",
    "\n",
    "<!--  \n",
    "Cuál es el resultado de ejecutar:  (4*2+10//3)\n",
    "a)10\n",
    "b)11\n",
    "c)10.3\n",
    "d)11.3\n",
    "e)6\n",
    "-->"
   ]
  },
  {
   "cell_type": "markdown",
   "metadata": {},
   "source": [
    "---"
   ]
  }
 ],
 "metadata": {
  "kernelspec": {
   "display_name": "Python 3",
   "language": "python",
   "name": "python3"
  },
  "language_info": {
   "codemirror_mode": {
    "name": "ipython",
    "version": 3
   },
   "file_extension": ".py",
   "mimetype": "text/x-python",
   "name": "python",
   "nbconvert_exporter": "python",
   "pygments_lexer": "ipython3",
   "version": "3.7.10"
  }
 },
 "nbformat": 4,
 "nbformat_minor": 4
}

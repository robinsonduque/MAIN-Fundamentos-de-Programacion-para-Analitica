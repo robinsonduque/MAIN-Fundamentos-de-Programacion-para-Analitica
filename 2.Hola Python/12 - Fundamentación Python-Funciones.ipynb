{
 "cells": [
  {
   "cell_type": "markdown",
   "metadata": {},
   "source": [
    "---\n",
    "Escuela de Ingeniería de Sistemas y Computación  \n",
    "Universidad del Valle  \n",
    "INTRODUCCIÓN A LA PROGRAMACIÓN PARA ANALÍTICA  \n",
    "Profesor: Ph.D, Robinson Duque (robinson.duque@correounivalle.edu.co)  \n",
    "Última modificación: Agosto de 2021  \n",
    "\n",
    "---\n",
    "\n",
    "# Consideraciones:\n",
    "\n",
    "Parte de los textos y ejemplos incluidos en este notebook de fundamentación en programación para Python fueron tomados y ajustados de los libros: \n",
    "* [Python para Todos](http://www.utic.edu.py/citil/images/Manuales/Python_para_todos.pdf) de Raúl González Duque. La obra está bajo una licencia Creative Commons (Reconocimiento) 2.5 que permite: copiar, distribuir y comunicar públicamente la obra, hacer obras derivadas, bajo la condicion de reconocer y dar crédito al autor original (Raúl González Duque).\n",
    "* [Manual de Python](https://aprendeconalf.es/python/manual/) de Alfredo Sánchez Alberca. La obra está bajo una licencia Atribución–No comercial–Compartir igual 4.0 Internacional de Creative Commons que permite: copiar y redistribuir el material en cualquier medio o formato, remezclar, transformar y construir a partir del material. \n",
    "\n",
    "Este material presenta cambios dirigidos hacia textos orientados a la versión 3.0 de Python, para lo cual se han incluido nuevos ejemplos y se proponen ejercicios para validar los conocimientos de los estudiantes orientados al propósito del curso de _Introducción a la Programación para Analítica_ de la Universidad del Valle.\n",
    "\n"
   ]
  },
  {
   "cell_type": "markdown",
   "metadata": {},
   "source": [
    "# Funciones\n",
    "> Una función es un bloque de código que tiene asociado un nombre, de manera que cada vez que se quiera ejecutar el bloque de código basta con invocar el nombre de la función.\n",
    "> ```ipython\n",
    "def <nombre-funcion> (<parámetros>):\n",
    "     bloque código\n",
    "     return <objeto>\n",
    "```"
   ]
  },
  {
   "cell_type": "code",
   "execution_count": null,
   "metadata": {},
   "outputs": [],
   "source": [
    "\n",
    "\n",
    "# Ejemplo de función con parámetros y su respectiva invocación con argumentos\n",
    "pass\n",
    "\n",
    "# Ejemplo de función con parámetros y valor de retorno\n",
    "pass\n",
    "\n",
    "# Ejemplo con retorno de tuplas y desempaquetado\n",
    "pass"
   ]
  },
  {
   "cell_type": "code",
   "execution_count": 77,
   "metadata": {},
   "outputs": [
    {
     "name": "stdout",
     "output_type": "stream",
     "text": [
      "Hola mundo\n",
      "None\n"
     ]
    }
   ],
   "source": [
    "# Ejemplo de función sin parámetros y su respectiva invocación\n",
    "def funcionRara():\n",
    "    print(\"Hola mundo\")\n",
    "    \n",
    "x = funcionRara()\n",
    "print(x)"
   ]
  },
  {
   "cell_type": "code",
   "execution_count": 82,
   "metadata": {},
   "outputs": [
    {
     "name": "stdout",
     "output_type": "stream",
     "text": [
      "[0, 1, 2, 3, 4, 5, 0, 1, 2, 3, 4, 5, 6, 4, 5, 6, 7, 8]\n"
     ]
    }
   ],
   "source": [
    "def funcionSuma(a,b,lista):\n",
    "    l1 = list(range(a))\n",
    "    l2 = list(range(b))\n",
    "    return l1+l2+lista\n",
    "\n",
    "x=6\n",
    "y = funcionSuma(x,7, [4,5,6,7,8])\n",
    "print(y)"
   ]
  },
  {
   "cell_type": "code",
   "execution_count": 86,
   "metadata": {},
   "outputs": [
    {
     "name": "stdout",
     "output_type": "stream",
     "text": [
      "4\n",
      "5\n"
     ]
    }
   ],
   "source": [
    "a,*b = (4,5,6,7,1,2)\n",
    "print(a)\n",
    "print(b)"
   ]
  },
  {
   "cell_type": "code",
   "execution_count": 92,
   "metadata": {},
   "outputs": [
    {
     "name": "stdout",
     "output_type": "stream",
     "text": [
      "4\n",
      "[5, 6, 7, 1]\n",
      "2\n"
     ]
    }
   ],
   "source": [
    "a,*b,c = (4,5,6,7,1,2)\n",
    "print(a)\n",
    "print(b)\n",
    "print(c)"
   ]
  },
  {
   "cell_type": "code",
   "execution_count": 91,
   "metadata": {},
   "outputs": [
    {
     "name": "stdout",
     "output_type": "stream",
     "text": [
      "18\n",
      "54\n"
     ]
    }
   ],
   "source": [
    "def miFuncion(a,b):\n",
    "    a = b*2\n",
    "    b = a*3\n",
    "    return (a,b)\n",
    "\n",
    "v1,v2 = miFuncion(8,9)\n",
    "print(v1)\n",
    "print(v2)"
   ]
  },
  {
   "cell_type": "markdown",
   "metadata": {},
   "source": [
    "> ## Invocación\n",
    ">Los valores que se pasan a la función en una llamada o invocación concreta de ella se conocen como argumentos y se asocian a los parámetros de la declaración de la función.\n",
    ">\n",
    ">Los argumentos se pueden indicar de dos formas:\n",
    ">\n",
    ">* Argumentos posicionales\n",
    ">* Argumentos por nombre\n",
    "> \n",
    "> Por otro lado, también existen **argumentos por defecto**. En la definición de una función se puede asignar a cada parámetro un argumento por defecto `parámetro=argumento`, de manera que si se invoca la función sin proporcionar ningún argumento para ese parámetro, se utiliza el argumento por defecto."
   ]
  },
  {
   "cell_type": "code",
   "execution_count": null,
   "metadata": {},
   "outputs": [],
   "source": [
    "# Ejemplo de invocación utlizando argumentos posicionales\n",
    "pass\n",
    "\n",
    "# Ejemplo de invocación utlizando argumentos por nombre\n",
    "pass\n",
    "\n",
    "# Ejemplo de definición de función con argumentos por defecto\n",
    "pass\n"
   ]
  },
  {
   "cell_type": "code",
   "execution_count": 108,
   "metadata": {},
   "outputs": [
    {
     "name": "stdout",
     "output_type": "stream",
     "text": [
      "(3, 4)\n",
      "(5, 1)\n",
      "(3, 5)\n",
      "(3, 5)\n"
     ]
    }
   ],
   "source": [
    "def multiplicar(a,b=1):\n",
    "    return (a, b)\n",
    "\n",
    "print(multiplicar(3,4))\n",
    "print(multiplicar(5))\n",
    "\n",
    "print(multiplicar(a=3,b=5))\n",
    "\n",
    "print(multiplicar(b=5,a=3))"
   ]
  },
  {
   "cell_type": "code",
   "execution_count": null,
   "metadata": {},
   "outputs": [],
   "source": []
  },
  {
   "cell_type": "markdown",
   "metadata": {},
   "source": [
    "> ## Ámbito de variables y parámetros de funciones\n",
    ">Los parámetros y las variables declaradas dentro de una función son de **ámbito local**, mientras que las definidas fuera de ella son de **ámbito ámbito global**."
   ]
  },
  {
   "cell_type": "code",
   "execution_count": 109,
   "metadata": {},
   "outputs": [
    {
     "name": "stdout",
     "output_type": "stream",
     "text": [
      "[9, 5, 6, 7]\n",
      "[9, 5, 4, 7]\n"
     ]
    }
   ],
   "source": [
    "# Ejemplos de ambito de parámetros y variables de una función\n",
    "pass\n",
    "\n",
    "l = [9,5,6,7]\n",
    "def miFuncionRara(lista,pos,val):\n",
    "    lista[pos] = val\n",
    "\n",
    "print(l)\n",
    "miFuncionRara(l,2,4)\n",
    "print(l)\n",
    "\n",
    "\n"
   ]
  },
  {
   "cell_type": "code",
   "execution_count": 111,
   "metadata": {},
   "outputs": [
    {
     "ename": "NameError",
     "evalue": "name 'z' is not defined",
     "output_type": "error",
     "traceback": [
      "\u001b[0;31m---------------------------------------------------------------------------\u001b[0m",
      "\u001b[0;31mNameError\u001b[0m                                 Traceback (most recent call last)",
      "\u001b[0;32m<ipython-input-111-02ee9724f01a>\u001b[0m in \u001b[0;36m<module>\u001b[0;34m\u001b[0m\n\u001b[1;32m      6\u001b[0m \u001b[0;34m\u001b[0m\u001b[0m\n\u001b[1;32m      7\u001b[0m \u001b[0mmiFuncion\u001b[0m\u001b[0;34m(\u001b[0m\u001b[0mx\u001b[0m\u001b[0;34m)\u001b[0m\u001b[0;34m\u001b[0m\u001b[0;34m\u001b[0m\u001b[0m\n\u001b[0;32m----> 8\u001b[0;31m \u001b[0mprint\u001b[0m\u001b[0;34m(\u001b[0m\u001b[0mz\u001b[0m\u001b[0;34m)\u001b[0m\u001b[0;34m\u001b[0m\u001b[0;34m\u001b[0m\u001b[0m\n\u001b[0m",
      "\u001b[0;31mNameError\u001b[0m: name 'z' is not defined"
     ]
    }
   ],
   "source": [
    "x = 5\n",
    "def miFuncion(y):\n",
    "    z = y*2\n",
    "    return z\n",
    "\n",
    "\n",
    "miFuncion(x)\n",
    "print(z)"
   ]
  },
  {
   "cell_type": "markdown",
   "metadata": {},
   "source": [
    "> ## Paso de argumentos por valor y referencia\n",
    "> En Python el paso de argumentos a una función es siempre por referencia, es decir, se pasa una referencia al objeto del argumento, de manera que cualquier cambio que se haga dentro de la función mediante el parámetro asociado afectará al objeto original, siempre y cuando este sea mutable (e.g., listas, diccionarios).\n",
    "> \n",
    ">Recordemos que en Python existen objetos inmutables, como los enteros, strings, booleanos y las tuplas, por lo que si intentáramos modificar una tupla pasada como parámetro lo que ocurriría en realidad es que se crearía una nueva instancia, por lo que los cambios no se verían fuera de la función.\n",
    ">\n",
    "> **En resumen:** Los valores mutables (listas y diccionarios) se comportan como paso por referencia, y los inmutables como paso por valor."
   ]
  },
  {
   "cell_type": "code",
   "execution_count": null,
   "metadata": {},
   "outputs": [],
   "source": [
    "# Ejemplo de paso de argumentos por valor y referencia\n",
    "pass"
   ]
  },
  {
   "cell_type": "markdown",
   "metadata": {},
   "source": [
    "> ## Documentación de funciones\n",
    "> También podemos encontrarnos con una cadena de texto como primera línea del cuerpo de la función. Estas cadenas se conocen con el nombre de **docstring** (cadena de documentación) y sirven, como su nombre indica, a modo de documentación de la función. Esto es lo que imprime el opeardor `?` de iPython o la función `help`."
   ]
  },
  {
   "cell_type": "code",
   "execution_count": 113,
   "metadata": {},
   "outputs": [],
   "source": [
    "def area_triangulo(base, altura):\n",
    "    \"\"\"Función que calcula el área de un triángulo.\n",
    "\n",
    "    Parámetros:\n",
    "        - base: La base del triángulo.\n",
    "        - altura: La altura del triángulo.\n",
    "    Resultado:\n",
    "         El área del triángulo con la base y altura especificadas.\n",
    "    \"\"\"\n",
    "    return base * altura / 2\n",
    "\n",
    "\n",
    "area_triangulo?"
   ]
  },
  {
   "cell_type": "code",
   "execution_count": null,
   "metadata": {},
   "outputs": [],
   "source": []
  }
 ],
 "metadata": {
  "kernelspec": {
   "display_name": "Python 3",
   "language": "python",
   "name": "python3"
  },
  "language_info": {
   "codemirror_mode": {
    "name": "ipython",
    "version": 3
   },
   "file_extension": ".py",
   "mimetype": "text/x-python",
   "name": "python",
   "nbconvert_exporter": "python",
   "pygments_lexer": "ipython3",
   "version": "3.7.10"
  }
 },
 "nbformat": 4,
 "nbformat_minor": 4
}

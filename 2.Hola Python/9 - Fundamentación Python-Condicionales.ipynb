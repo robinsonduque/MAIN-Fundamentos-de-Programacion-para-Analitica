{
 "cells": [
  {
   "cell_type": "markdown",
   "metadata": {},
   "source": [
    "---\n",
    "Escuela de Ingeniería de Sistemas y Computación  \n",
    "Universidad del Valle  \n",
    "INTRODUCCIÓN A LA PROGRAMACIÓN PARA ANALÍTICA  \n",
    "Profesor: Ph.D, Robinson Duque (robinson.duque@correounivalle.edu.co)  \n",
    "Última modificación: Agosto de 2021   \n",
    "\n",
    "---\n",
    "\n",
    "# Consideraciones:\n",
    "\n",
    "Parte de los textos y ejemplos incluidos en este notebook de fundamentación en programación para Python fueron tomados y ajustados de los libros: \n",
    "* [Python para Todos](http://www.utic.edu.py/citil/images/Manuales/Python_para_todos.pdf) de Raúl González Duque. La obra está bajo una licencia Creative Commons (Reconocimiento) 2.5 que permite: copiar, distribuir y comunicar públicamente la obra, hacer obras derivadas, bajo la condicion de reconocer y dar crédito al autor original (Raúl González Duque).\n",
    "* [Manual de Python](https://aprendeconalf.es/python/manual/) de Alfredo Sánchez Alberca. La obra está bajo una licencia Atribución–No comercial–Compartir igual 4.0 Internacional de Creative Commons que permite: copiar y redistribuir el material en cualquier medio o formato, remezclar, transformar y construir a partir del material. \n",
    "\n",
    "Este material presenta cambios dirigidos hacia textos orientados a la versión 3.0 de Python, para lo cual se han incluido nuevos ejemplos y se proponen ejercicios para validar los conocimientos de los estudiantes orientados al propósito del curso de _Introducción a la Programación para Analítica_ de la Universidad del Valle.\n",
    "\n"
   ]
  },
  {
   "cell_type": "markdown",
   "metadata": {},
   "source": [
    "# Condicionales\n",
    "> \n",
    "> ```ipython\n",
    "if condición1:\n",
    "    bloque código\n",
    "elif condición2:\n",
    "    bloque código\n",
    "...\n",
    "else:\n",
    "    bloque código\n",
    "> ```\n",
    ">\n",
    "> Evalúa la expresión lógica `condición` y ejecuta el primer bloque de código si es `True`; si no, evalúa la siguientes condiciones hasta llegar a la primera que es `True` y ejecuta el bloque de código asociado. Si ninguna condición es `True` ejecuta el bloque de código después de `else`.\n",
    ">\n",
    ">Pueden aparecer varios bloques `elif` pero solo uno `else` al final."
   ]
  },
  {
   "cell_type": "code",
   "execution_count": 8,
   "metadata": {},
   "outputs": [
    {
     "name": "stdout",
     "output_type": "stream",
     "text": [
      "Ingrese un número-5\n"
     ]
    }
   ],
   "source": [
    "# Ejemplo de condicional 'if'\n",
    "# Ej: Validar si un número es positivo\n",
    "n = int(input(\"Ingrese un número\"))\n",
    "if n>=0:\n",
    "    print(\"El número es positivo\")\n",
    "    print(\"El número es {}\".format(n))\n",
    "    x = n*2\n",
    "    print(\"El doble de {} es {}\".format(n,x))"
   ]
  },
  {
   "cell_type": "code",
   "execution_count": 9,
   "metadata": {},
   "outputs": [
    {
     "name": "stdout",
     "output_type": "stream",
     "text": [
      "Ingrese un número-7\n",
      "El número es negativo\n",
      "El número es -7\n",
      "El valor absoluto de -7 es 7\n"
     ]
    }
   ],
   "source": [
    "# Ejemplo de condicional 'if...else'\n",
    "n = int(input(\"Ingrese un número\"))\n",
    "if n>=0:\n",
    "    print(\"El número es positivo\")\n",
    "    print(\"El número es {}\".format(n))\n",
    "    x = n*2\n",
    "    print(\"El doble de {} es {}\".format(n,x))\n",
    "else:\n",
    "    print(\"El número es negativo\")\n",
    "    print(\"El número es {}\".format(n))\n",
    "    x = abs(n)\n",
    "    print(\"El valor absoluto de {} es {}\".format(n,x))"
   ]
  },
  {
   "cell_type": "code",
   "execution_count": 12,
   "metadata": {},
   "outputs": [
    {
     "name": "stdout",
     "output_type": "stream",
     "text": [
      "Ingrese un número-9\n",
      "El número es negativo\n",
      "El número es -9\n",
      "El valor absoluto de -9 es 9\n"
     ]
    }
   ],
   "source": [
    "# Ejemplo d condicional 'if...elif...elif...else'\n",
    "n = int(input(\"Ingrese un número\"))\n",
    "if n>0:\n",
    "    print(\"El número es positivo\")\n",
    "    print(\"El número es {}\".format(n))\n",
    "    x = n*2\n",
    "    print(\"El doble de {} es {}\".format(n,x))\n",
    "elif n==0:\n",
    "    print(\"El número es cero\")\n",
    "else:\n",
    "    print(\"El número es negativo\")\n",
    "    print(\"El número es {}\".format(n))\n",
    "    x = abs(n)\n",
    "    print(\"El valor absoluto de {} es {}\".format(n,x))"
   ]
  },
  {
   "cell_type": "code",
   "execution_count": 1,
   "metadata": {},
   "outputs": [
    {
     "name": "stdout",
     "output_type": "stream",
     "text": [
      "Ingrese un número8\n",
      "El número es positivo\n",
      "El número es 8\n",
      "El doble de 8 es 16\n",
      "...Además el número es par\n"
     ]
    }
   ],
   "source": [
    "n = int(input(\"Ingrese un número\"))\n",
    "if n>0:\n",
    "    print(\"El número es positivo\")\n",
    "    print(\"El número es {}\".format(n))\n",
    "    x = n*2\n",
    "    print(\"El doble de {} es {}\".format(n,x))\n",
    "    \n",
    "    if n%2==0:\n",
    "        print(\"...Además el número es par\")\n",
    "    else:\n",
    "        print(\"...Además el número es impar\")\n",
    "    \n",
    "elif n==0:\n",
    "    print(\"El número es cero\")\n",
    "else:\n",
    "    print(\"El número es negativo\")\n",
    "    print(\"El número es {}\".format(n))\n",
    "    x = abs(n)\n",
    "    print(\"El valor absoluto de {} es {}\".format(n,x))"
   ]
  }
 ],
 "metadata": {
  "kernelspec": {
   "display_name": "Python 3",
   "language": "python",
   "name": "python3"
  },
  "language_info": {
   "codemirror_mode": {
    "name": "ipython",
    "version": 3
   },
   "file_extension": ".py",
   "mimetype": "text/x-python",
   "name": "python",
   "nbconvert_exporter": "python",
   "pygments_lexer": "ipython3",
   "version": "3.7.10"
  }
 },
 "nbformat": 4,
 "nbformat_minor": 4
}

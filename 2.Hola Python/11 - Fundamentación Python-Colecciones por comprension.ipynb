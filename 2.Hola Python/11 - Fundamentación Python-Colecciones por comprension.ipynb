{
 "cells": [
  {
   "cell_type": "markdown",
   "metadata": {},
   "source": [
    "---\n",
    "Escuela de Ingeniería de Sistemas y Computación  \n",
    "Universidad del Valle  \n",
    "INTRODUCCIÓN A LA PROGRAMACIÓN PARA ANALÍTICA  \n",
    "Profesor: Ph.D, Robinson Duque (robinson.duque@correounivalle.edu.co)  \n",
    "Última modificación: Agosto de 2021  \n",
    "\n",
    "---\n",
    "\n",
    "# Consideraciones:\n",
    "\n",
    "Parte de los textos y ejemplos incluidos en este notebook de fundamentación en programación para Python fueron tomados y ajustados de los libros: \n",
    "* [Python para Todos](http://www.utic.edu.py/citil/images/Manuales/Python_para_todos.pdf) de Raúl González Duque. La obra está bajo una licencia Creative Commons (Reconocimiento) 2.5 que permite: copiar, distribuir y comunicar públicamente la obra, hacer obras derivadas, bajo la condicion de reconocer y dar crédito al autor original (Raúl González Duque).\n",
    "* [Manual de Python](https://aprendeconalf.es/python/manual/) de Alfredo Sánchez Alberca. La obra está bajo una licencia Atribución–No comercial–Compartir igual 4.0 Internacional de Creative Commons que permite: copiar y redistribuir el material en cualquier medio o formato, remezclar, transformar y construir a partir del material. \n",
    "\n",
    "Este material presenta cambios dirigidos hacia textos orientados a la versión 3.0 de Python, para lo cual se han incluido nuevos ejemplos y se proponen ejercicios para validar los conocimientos de los estudiantes orientados al propósito del curso de _Introducción a la Programación para Analítica_ de la Universidad del Valle.\n",
    "\n"
   ]
  },
  {
   "cell_type": "markdown",
   "metadata": {},
   "source": [
    "\n",
    "# Colecciones por Comprensión\n",
    "> En muchas aplicaciones es habitual aplicar una función o realizar una operación con los elementos de una colección (lista, tupla o diccionario) y obtener una nueva colección de elementos transformados. Aunque esto se puede hacer recorriendo la secuencia con un bucle iterativo, Python incorpora un mecanismo muy potente que permite esto mismo de manera más simple y eficiente.  \n",
    ">\n",
    "> ## Comprensión de Listas/Generadores/Diccionarios/Conjuntos\n",
    ">* **Listas:** \\[expresion `for` variable `in` secuencia `if` condicion\\]  \n",
    ">\n",
    ">* **Generadores:** \\(expresion `for` variable `in` secuencia `if` condicion\\) \n",
    ">\n",
    ">* **Diccionarios:** \\{exp-clave : exp-valor   `for` variable `in` secuencia `if` condicion\\}\n",
    ">\n",
    ">* **Conjuntos:** \\{expresion `for` variable `in` secuencia `if` condicion\\}"
   ]
  },
  {
   "cell_type": "code",
   "execution_count": 2,
   "metadata": {},
   "outputs": [
    {
     "name": "stdout",
     "output_type": "stream",
     "text": [
      "[8, -4]\n",
      "[(3, 6, 9), (4, 8, 12), (5, 10, 15), (-2, -4, -6), (-7, -14, -21), (9, 18, 27)]\n",
      "[3, 8, 7, -4, -7, 11]\n"
     ]
    },
    {
     "data": {
      "text/plain": [
       "[3, 8, 7, -4, -7, 11]"
      ]
     },
     "execution_count": 2,
     "metadata": {},
     "output_type": "execute_result"
    }
   ],
   "source": [
    "l=[3,4,5,-2,-7,9]\n",
    "\n",
    "l2 = [i*2 for i in l if i%2==0 ]\n",
    "print(l2)\n",
    "\n",
    "l3 = [ (i,i*2,i*3)  for i in l]\n",
    "print(l3)\n",
    "\n",
    "l4 = [i*2 if i%2==0 else \n",
    "      i+2 if i>3 else i\n",
    "      for i in l ]\n",
    "print(l4)\n",
    "\n",
    "\n",
    "def funcionCondicion(x):\n",
    "    if x%2==0:\n",
    "        return x*2\n",
    "    elif x>3:\n",
    "        return x+2\n",
    "    else: \n",
    "        return x\n",
    "    \n",
    "[funcionCondicion(i) for i in l]"
   ]
  },
  {
   "cell_type": "code",
   "execution_count": 59,
   "metadata": {},
   "outputs": [
    {
     "name": "stdout",
     "output_type": "stream",
     "text": [
      "{3, 4, 5, 6, 7}\n",
      "{3: 6, 4: 8, 5: 10, 6: 12, 7: 14}\n"
     ]
    }
   ],
   "source": [
    "l = [4,5,6,6,6,7,7,3,4,5]\n",
    "c = set(l)\n",
    "print(c)\n",
    "\n",
    "c2= { i:i*2   for i in c }\n",
    "print(c2)"
   ]
  },
  {
   "cell_type": "code",
   "execution_count": 63,
   "metadata": {},
   "outputs": [
    {
     "name": "stdout",
     "output_type": "stream",
     "text": [
      "<generator object <genexpr> at 0x7fbe38bb79d0>\n",
      "<class 'generator'>\n",
      "0\n",
      "1\n",
      "2\n",
      "3\n",
      "4\n",
      "5\n",
      "6\n",
      "7\n",
      "8\n",
      "9\n",
      "10\n",
      "sigue generando datos\n",
      "11\n",
      "12\n",
      "13\n",
      "14\n",
      "15\n",
      "16\n",
      "17\n",
      "18\n",
      "19\n"
     ]
    }
   ],
   "source": [
    "gen = (i for i in range(20))\n",
    "print(gen)\n",
    "print(type(gen))\n",
    "\n",
    "for i in gen:\n",
    "    print(i)\n",
    "    if i == 10:\n",
    "        break\n",
    "print(\"sigue generando datos\")\n",
    "for i in gen:\n",
    "    print(i)"
   ]
  },
  {
   "cell_type": "code",
   "execution_count": null,
   "metadata": {},
   "outputs": [],
   "source": []
  },
  {
   "cell_type": "code",
   "execution_count": null,
   "metadata": {},
   "outputs": [],
   "source": []
  },
  {
   "cell_type": "code",
   "execution_count": 17,
   "metadata": {},
   "outputs": [
    {
     "name": "stdout",
     "output_type": "stream",
     "text": [
      "[0, 2, 4, 6, 8, 10, 12, 14]\n"
     ]
    }
   ],
   "source": [
    "#Una secuencia puede ser: 'str', 'list', 'range', 'tuple', 'dict'\n",
    "\n",
    "# Ejemplos de listas por comprensión (sin condición)\n",
    "pass\n",
    "\n",
    "# Ejemplos de listas por comprensión (Con condición)\n",
    "l = [x for x in range(15) if x % 2 == 0]\n",
    "print(l)\n",
    "pass\n",
    "\n",
    "# Ejemplos de generadores por comprensión (sin condición)\n",
    "pass\n",
    "\n",
    "# Ejemplos de generadores por comprensión (con condición)\n",
    "pass\n",
    "\n",
    "# Ejemplos de diccionarios por comprensión (sin condición)\n",
    "pass\n",
    "\n",
    "# Ejemplos de diccionarios por comprensión (sin condición)\n",
    "pass\n",
    "\n",
    "# Ejemplos de conjuntos por comprensión (sin condición)\n",
    "pass\n",
    "\n",
    "# Ejemplos de conjuntos por comprensión (sin condición)\n",
    "pass\n"
   ]
  },
  {
   "cell_type": "code",
   "execution_count": 70,
   "metadata": {},
   "outputs": [
    {
     "name": "stdout",
     "output_type": "stream",
     "text": [
      "[37]\n"
     ]
    }
   ],
   "source": [
    "d = {\"nombre\":\"Robinson\",\"apellido\":\"Duque\",\"edad\": 37}\n",
    "\n",
    "l = [str(i) for i in d.values()]\n",
    "l2 = [ int(i) for i in l if str.isnumeric(i)]\n",
    "print(l2)"
   ]
  },
  {
   "cell_type": "markdown",
   "metadata": {},
   "source": [
    "---"
   ]
  },
  {
   "cell_type": "markdown",
   "metadata": {},
   "source": [
    "# Pregunta en Socrative..."
   ]
  },
  {
   "cell_type": "markdown",
   "metadata": {},
   "source": [
    "1. Oculta aquí (MC).\n",
    "\n",
    "<!--  \n",
    "El valor de 'y' después de ejecutar lo siguiente es:  \n",
    "\n",
    "x = [1,2,3,4,5,6]\n",
    "y = [i*2 for i in x[:] ]\n",
    "\n",
    "\n",
    "a) [2, 4, 6, 8]\n",
    "b) [2, 4, 6, 8, 10, 12]\n",
    "c) [8, 6, 4, 2]\n",
    "d) [10, 8, 6, 4, 2]\n",
    "e) Error\n",
    "-->"
   ]
  },
  {
   "cell_type": "markdown",
   "metadata": {},
   "source": [
    "2. Oculta aquí (MC).\n",
    "\n",
    "<!--  \n",
    "El valor de 'y' después de ejecutar lo siguiente es:  \n",
    "\n",
    "x = [1,2,3,3,2,2,1,4]\n",
    "y = { i  for i in x }\n",
    "\n",
    "\n",
    "a) [1, 2, 3, 4]\n",
    "b) [1, 1, 2, 2, 2, 3, 3, 4]\n",
    "c) {1, 1, 2, 2, 2, 3, 3, 4}\n",
    "d) {1, 2, 3, 4}\n",
    "e) Error\n",
    "-->"
   ]
  },
  {
   "cell_type": "markdown",
   "metadata": {},
   "source": [
    "3. Oculta aquí (MC).\n",
    "\n",
    "<!--  \n",
    "El valor de 'y' después de ejecutar lo siguiente es:  \n",
    "\n",
    "x = [1,2,3,4,5,6]\n",
    "y = { i*2 : i  for i in x }\n",
    "\n",
    "\n",
    "a) {2: 1, 4: 2, 6: 3, 8: 4, 10: 5, 12: 6}\n",
    "b) {1: 2, 2: 4, 3: 6, 4: 8, 5: 10, 6: 12}\n",
    "c) {2, 4, 6, 8, 10, 12}\n",
    "d) [2, 4, 6, 8, 10, 12]\n",
    "e) Error\n",
    "-->"
   ]
  },
  {
   "cell_type": "markdown",
   "metadata": {},
   "source": [
    "---"
   ]
  }
 ],
 "metadata": {
  "kernelspec": {
   "display_name": "Python 3",
   "language": "python",
   "name": "python3"
  },
  "language_info": {
   "codemirror_mode": {
    "name": "ipython",
    "version": 3
   },
   "file_extension": ".py",
   "mimetype": "text/x-python",
   "name": "python",
   "nbconvert_exporter": "python",
   "pygments_lexer": "ipython3",
   "version": "3.7.10"
  }
 },
 "nbformat": 4,
 "nbformat_minor": 4
}

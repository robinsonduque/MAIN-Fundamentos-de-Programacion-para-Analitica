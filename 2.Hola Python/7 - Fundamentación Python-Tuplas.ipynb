{
 "cells": [
  {
   "cell_type": "markdown",
   "metadata": {},
   "source": [
    "---\n",
    "Escuela de Ingeniería de Sistemas y Computación  \n",
    "Universidad del Valle  \n",
    "INTRODUCCIÓN A LA PROGRAMACIÓN PARA ANALÍTICA  \n",
    "Profesor: Ph.D, Robinson Duque (robinson.duque@correounivalle.edu.co)  \n",
    "Última modificación: Agosto de 2021  \n",
    "\n",
    "---\n",
    "\n",
    "# Consideraciones:\n",
    "\n",
    "Parte de los textos y ejemplos incluidos en este notebook de fundamentación en programación para Python fueron tomados y ajustados de los libros: \n",
    "* [Python para Todos](http://www.utic.edu.py/citil/images/Manuales/Python_para_todos.pdf) de Raúl González Duque. La obra está bajo una licencia Creative Commons (Reconocimiento) 2.5 que permite: copiar, distribuir y comunicar públicamente la obra, hacer obras derivadas, bajo la condicion de reconocer y dar crédito al autor original (Raúl González Duque).\n",
    "* [Manual de Python](https://aprendeconalf.es/python/manual/) de Alfredo Sánchez Alberca. La obra está bajo una licencia Atribución–No comercial–Compartir igual 4.0 Internacional de Creative Commons que permite: copiar y redistribuir el material en cualquier medio o formato, remezclar, transformar y construir a partir del material. \n",
    "\n",
    "Este material presenta cambios dirigidos hacia textos orientados a la versión 3.0 de Python, para lo cual se han incluido nuevos ejemplos y se proponen ejercicios para validar los conocimientos de los estudiantes orientados al propósito del curso de _Introducción a la Programación para Analítica_ de la Universidad del Valle.\n",
    "\n"
   ]
  },
  {
   "cell_type": "markdown",
   "metadata": {},
   "source": [
    "# Tuplas\n",
    "> Una tupla es una secuencia ordenada de objetos de distintos tipos.\n",
    ">\n",
    "> Se construyen poniendo los elementos entre paréntesis ( ) separados por comas.\n",
    ">\n",
    ">Se caracterizan por:\n",
    ">\n",
    "> * Tienen orden.\n",
    "> * Pueden contener elementos de distintos tipos.\n",
    "> * Son inmutables, es decir, no pueden alterarse durante la ejecución de un programa.\n",
    "> * Al igual que los strings y las listas, se pueden acceder los elementos con índices (positivos o negativos)\n",
    "> * Al igual que los strings y las listas, también se puede aplicar la operación **slicing**"
   ]
  },
  {
   "cell_type": "code",
   "execution_count": 8,
   "metadata": {},
   "outputs": [
    {
     "name": "stdout",
     "output_type": "stream",
     "text": [
      "(7, 'hola', True)\n",
      "3\n"
     ]
    },
    {
     "data": {
      "text/plain": [
       "tuple"
      ]
     },
     "execution_count": 8,
     "metadata": {},
     "output_type": "execute_result"
    }
   ],
   "source": [
    "x = (2,5,7, \"hola\", True)\n",
    "print(x[2:])\n",
    "print(x.index(\"hola\"))\n",
    "type(x)"
   ]
  },
  {
   "cell_type": "code",
   "execution_count": 13,
   "metadata": {},
   "outputs": [
    {
     "name": "stdout",
     "output_type": "stream",
     "text": [
      "None\n",
      "(2, 5, 7, 'hola', [3, 4, 5])\n"
     ]
    }
   ],
   "source": [
    "x = (2,5,7, \"hola\", [3,4])\n",
    "print(x[4].append(5))\n",
    "print(x)"
   ]
  },
  {
   "cell_type": "code",
   "execution_count": null,
   "metadata": {},
   "outputs": [],
   "source": []
  },
  {
   "cell_type": "code",
   "execution_count": 9,
   "metadata": {},
   "outputs": [
    {
     "name": "stdout",
     "output_type": "stream",
     "text": [
      "[2, 3, 4]\n"
     ]
    },
    {
     "data": {
      "text/plain": [
       "list"
      ]
     },
     "execution_count": 9,
     "metadata": {},
     "output_type": "execute_result"
    }
   ],
   "source": [
    "x =[2,3,4]\n",
    "print(x)\n",
    "type(x)"
   ]
  },
  {
   "cell_type": "code",
   "execution_count": 15,
   "metadata": {},
   "outputs": [
    {
     "name": "stdout",
     "output_type": "stream",
     "text": [
      "([1, 2, 3, [4, 6, [9, 1, 2], 8]], [0, 1, 2, 3, 4], True, 'hola')\n"
     ]
    }
   ],
   "source": [
    "x = ([1,2,3,[4,6,[9,1,2],8]], list(range(5)), True, \"hola\")\n",
    "print(x)"
   ]
  },
  {
   "cell_type": "markdown",
   "metadata": {},
   "source": [
    "> ## Funciones y métodos de tuplas\n",
    ">\n",
    "> * `len(t)` : Devuelve el número de elementos de la tupla `t`.\n",
    "> * `min(t)` : Devuelve el mínimo elemento de la tupla `t` siempre que los datos sean comparables.\n",
    "> * `max(t)` : Devuelve el máximo elemento de la tupla `t` siempre que los datos sean comparables.\n",
    "> * `sum(t)` : Devuelve la suma de los elementos de la tupla `t`, siempre que los datos se puedan sumar.\n",
    "> * `all(t)` : Devuelve `True` si todos los elementos de la tupla `t` son `True` y `False` en caso contrario.\n",
    "> * `any(t)` : Devuelve `True` si algún elemento de la tupla `t` es `True` y `False` en caso contrario\n",
    "> * `dato in t` : Devuelve `True` si el dato `dato` pertenece a la tupla `t` y `False` en caso contrario.\n",
    "> * `t.index(dato)` : Devuelve la posición que ocupa en la tupla `t` el primer elemento con valor `dato`.\n",
    "> * `t.count(dato)` : Devuelve el número de veces que el valor `dato` está contenido en la tupla `t`."
   ]
  },
  {
   "cell_type": "code",
   "execution_count": null,
   "metadata": {},
   "outputs": [],
   "source": [
    "# Ejemplos de métodos y funciones para tuplas\n",
    "pass"
   ]
  },
  {
   "cell_type": "markdown",
   "metadata": {},
   "source": [
    "---"
   ]
  },
  {
   "cell_type": "markdown",
   "metadata": {},
   "source": [
    "# Pregunta en Socrative..."
   ]
  },
  {
   "cell_type": "markdown",
   "metadata": {},
   "source": [
    "1. Oculta aquí (MC).\n",
    "\n",
    "<!--  \n",
    "Cuál es el valor de 'y' después de ejecutar:  \n",
    "\n",
    "x = (1,2,0,4,5)\n",
    "y = ( 5 - 0 ) * 5 \n",
    "\n",
    "a) 25\n",
    "b) 20\n",
    "c) 22\n",
    "d) 16\n",
    "e) 28\n",
    "-->"
   ]
  },
  {
   "cell_type": "markdown",
   "metadata": {},
   "source": [
    "2. Oculta aquí (MC).\n",
    "\n",
    "<!--  \n",
    "Cuál es el valor de 'y' después de ejecutar:  \n",
    "\n",
    "x = (1,2,3,4,5)\n",
    "y = sum((3,4,5))\n",
    "\n",
    "a) 9\n",
    "b) 12\n",
    "c) 7\n",
    "d) 14\n",
    "e) 15\n",
    "-->"
   ]
  },
  {
   "cell_type": "markdown",
   "metadata": {},
   "source": [
    "---"
   ]
  }
 ],
 "metadata": {
  "kernelspec": {
   "display_name": "Python 3",
   "language": "python",
   "name": "python3"
  },
  "language_info": {
   "codemirror_mode": {
    "name": "ipython",
    "version": 3
   },
   "file_extension": ".py",
   "mimetype": "text/x-python",
   "name": "python",
   "nbconvert_exporter": "python",
   "pygments_lexer": "ipython3",
   "version": "3.7.10"
  }
 },
 "nbformat": 4,
 "nbformat_minor": 4
}

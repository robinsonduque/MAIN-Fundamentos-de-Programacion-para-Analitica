{
 "cells": [
  {
   "cell_type": "markdown",
   "metadata": {},
   "source": [
    "---\n",
    "Escuela de Ingeniería de Sistemas y Computación  \n",
    "Universidad del Valle  \n",
    "INTRODUCCIÓN A LA PROGRAMACIÓN PARA ANALÍTICA  \n",
    "Profesor: Ph.D, Robinson Duque (robinson.duque@correounivalle.edu.co)  \n",
    "Última modificación: Agosto de 2021   \n",
    "\n",
    "---\n",
    "\n",
    "# Consideraciones:\n",
    "\n",
    "Parte de los textos y ejemplos incluidos en este notebook de fundamentación en programación para Python fueron tomados y ajustados de los libros: \n",
    "* [Python para Todos](http://www.utic.edu.py/citil/images/Manuales/Python_para_todos.pdf) de Raúl González Duque. La obra está bajo una licencia Creative Commons (Reconocimiento) 2.5 que permite: copiar, distribuir y comunicar públicamente la obra, hacer obras derivadas, bajo la condicion de reconocer y dar crédito al autor original (Raúl González Duque).\n",
    "* [Manual de Python](https://aprendeconalf.es/python/manual/) de Alfredo Sánchez Alberca. La obra está bajo una licencia Atribución–No comercial–Compartir igual 4.0 Internacional de Creative Commons que permite: copiar y redistribuir el material en cualquier medio o formato, remezclar, transformar y construir a partir del material. \n",
    "\n",
    "Este material presenta cambios dirigidos hacia textos orientados a la versión 3.0 de Python, para lo cual se han incluido nuevos ejemplos y se proponen ejercicios para validar los conocimientos de los estudiantes orientados al propósito del curso de _Introducción a la Programación para Analítica_ de la Universidad del Valle.\n",
    "\n"
   ]
  },
  {
   "cell_type": "markdown",
   "metadata": {},
   "source": [
    "# Diccionarios\n",
    "> Un diccionario es una colección de pares formados por una 'clave' y un 'valor' asociado a la clave.\n",
    ">\n",
    "> Se construyen poniendo los pares entre llaves `{clave1: valor1, clave2: valor2 ...}` separados por comas, y separando la clave del valor con dos puntos `:`.\n",
    ">\n",
    ">Se caracterizan por:\n",
    ">\n",
    "> * No tienen orden.\n",
    "> * Pueden contener elementos de distintos tipos.\n",
    "> * Son mutables, es decir, pueden alterarse durante la ejecución de un programa.\n",
    "> * Las claves son únicas, es decir, no pueden repetirse en un mismo diccionario, y **pueden ser de cualquier tipo de datos inmutable**.\n",
    "> * **No se puede aplicar** la operación **slicing**. Se utilizan las claves definidas para acceder a los datos o valores."
   ]
  },
  {
   "cell_type": "code",
   "execution_count": 21,
   "metadata": {},
   "outputs": [
    {
     "name": "stdout",
     "output_type": "stream",
     "text": [
      "9\n"
     ]
    }
   ],
   "source": [
    "d = { 1: \"Azul\", 3: \"Rojo\", \"favorito\": \"negro\", \"numero\":9 }\n",
    "print(d[\"numero\"])"
   ]
  },
  {
   "cell_type": "code",
   "execution_count": 33,
   "metadata": {},
   "outputs": [
    {
     "name": "stdout",
     "output_type": "stream",
     "text": [
      "Robinson\n",
      "Duque\n",
      "37\n",
      "Kellys\n",
      "Santa\n",
      "20\n",
      "Jose\n",
      "Sanchez\n",
      "25\n",
      "3.4\n"
     ]
    }
   ],
   "source": [
    "des = [\n",
    "{\"nombre\":\"Robinson\",\"apellido\":\"Duque\",\"edad\": 37},\n",
    "{\"nombre\":\"Kellys\",\"apellido\":\"Santa\",\"edad\": 20},\n",
    "{\"nombre\":\"Jose\",\"apellido\":\"Sanchez\",\"edad\": 25, \"notas\":[5.0, 3.4,4.6]}\n",
    "\n",
    "]\n",
    "\n",
    "print(des[0][\"nombre\"])\n",
    "print(des[0][\"apellido\"])\n",
    "\n",
    "print(des[0][\"edad\"])\n",
    "print(des[1][\"nombre\"])\n",
    "print(des[1][\"apellido\"])\n",
    "\n",
    "print(des[1][\"edad\"])\n",
    "print(des[2][\"nombre\"])\n",
    "print(des[2][\"apellido\"])\n",
    "print(des[2][\"edad\"])\n",
    "print(des[2][\"notas\"][1])\n"
   ]
  },
  {
   "cell_type": "markdown",
   "metadata": {},
   "source": [
    "> ## Funciones y métodos de diccionarios\n",
    ">\n",
    "> * `len(d)` : Devuelve el número de elementos del diccionario `d`.\n",
    "> * `min(d)` : Devuelve la mínima clave del diccionario `d` siempre que las claves sean comparables.\n",
    "> * `max(d)` : Devuelve la máxima clave del diccionario `d` siempre que las claves sean comparables.\n",
    "> * `sum(d)` : Devuelve la suma de las claves del diccionario `d`, siempre que las claves se puedan sumar\n",
    "> * `clave in d` : Devuelve `True` si la clave `clave` pertenece al diccionario `d` y `False` en caso contrario.\n",
    "> * `d.keys()` : Devuelve un iterador sobre las claves de un diccionario.\n",
    "> * `d.values()` : Devuelve un iterador sobre los valores de un diccionario.\n",
    "> * `d.items()` : Devuelve un iterador sobre los pares clave-valor de un diccionario."
   ]
  },
  {
   "cell_type": "code",
   "execution_count": 43,
   "metadata": {},
   "outputs": [
    {
     "name": "stdout",
     "output_type": "stream",
     "text": [
      "<class 'dict_values'>\n",
      "120\n"
     ]
    }
   ],
   "source": [
    "# Ejemplos de diccionarios y uso de funciones y métodos\n",
    "d ={1:40 , 2:30, 3:50}\n",
    "v = d.values()\n",
    "print(type(v))\n",
    "print(sum(v))"
   ]
  },
  {
   "cell_type": "code",
   "execution_count": 42,
   "metadata": {},
   "outputs": [
    {
     "name": "stdout",
     "output_type": "stream",
     "text": [
      "120\n"
     ]
    }
   ],
   "source": [
    "# Ejemplos de diccionarios y uso de funciones y métodos\n",
    "d ={1:40 , 2:30, 3:50}\n",
    "\n",
    "print(sum(  d.values()  ))"
   ]
  },
  {
   "cell_type": "code",
   "execution_count": 46,
   "metadata": {},
   "outputs": [
    {
     "name": "stdout",
     "output_type": "stream",
     "text": [
      "[(1, 40), (2, 30), (3, 50)]\n"
     ]
    }
   ],
   "source": [
    "v = list(d.items())\n",
    "print(v)\n"
   ]
  },
  {
   "cell_type": "markdown",
   "metadata": {},
   "source": [
    "> Continuación:\n",
    ">\n",
    "> `d[clave] = valor` : Añade al diccionario `d` el par formado por la clave clave y el valor `valor`.\n",
    "> * `d.update(d2)`. Añade los pares del diccionario `d2` al diccionario `d`.\n",
    "> * `d.pop(clave, alternativo)` : Devuelve del valor asociado a la clave `clave` del diccionario `d` y lo elimina del diccionario. Si la clave no está devuelve el valor alternativo.\n",
    "> * `d.popitem()` : Devuelve la tupla formada por la clave y el valor del último par añadido al diccionario `d` y lo elimina del diccionario.\n",
    "> * `del d[clave]` : Elimina del diccionario `d` el par con la clave `clave`.\n",
    "> * `d.clear()` : Elimina todos los pares del diccionario `d` de manera que se queda vacío."
   ]
  },
  {
   "cell_type": "code",
   "execution_count": 48,
   "metadata": {},
   "outputs": [
    {
     "name": "stdout",
     "output_type": "stream",
     "text": [
      "{1: 40, 2: -30, 3: 50, 'nuevo': -8}\n"
     ]
    }
   ],
   "source": [
    "# Ejemplos con funciones y operadores adicionales\n",
    "d ={1:40 , 2:30, 3:50}\n",
    "d[\"nuevo\"]=-8\n",
    "d[2]=-30\n",
    "print(d)"
   ]
  },
  {
   "cell_type": "markdown",
   "metadata": {},
   "source": [
    "> ## Copia de diccionarios\n",
    ">\n",
    ">Existen dos formas de copiar diccionarios:\n",
    ">\n",
    "> * **Copia por referencia** `d1 = d2`\n",
    "> * **Copia por valor** `d1 = dict(d2)`"
   ]
  },
  {
   "cell_type": "code",
   "execution_count": null,
   "metadata": {},
   "outputs": [],
   "source": [
    "# Ejemplos de copia de diccionarios por valor y por referencia\n",
    "pass"
   ]
  },
  {
   "cell_type": "markdown",
   "metadata": {},
   "source": [
    "---"
   ]
  },
  {
   "cell_type": "markdown",
   "metadata": {},
   "source": [
    "# Pregunta en Socrative..."
   ]
  },
  {
   "cell_type": "markdown",
   "metadata": {},
   "source": [
    "1. Oculta aquí (MC).\n",
    "\n",
    "<!--  \n",
    "Cuál es el valor de 'y' después de ejecutar:  \n",
    "\n",
    "x = {1:\"Azul\", 2:\"Rojo\", 3:\"Verde\"}\n",
    "y = x[1] + x[2]\n",
    "\n",
    "a) \"Azul Rojo\"\n",
    "b) Error\n",
    "c) \"AzulRojo\"\n",
    "d) \"1:Azul2:Rojo\"\n",
    "e) \"12\"\n",
    "-->"
   ]
  },
  {
   "cell_type": "markdown",
   "metadata": {},
   "source": [
    "2. Oculta aquí (MC).\n",
    "\n",
    "<!--  \n",
    "Cuál es el valor de 'x' después de ejecutar:  \n",
    "\n",
    "x = {1:'Azul', 2:'Rojo', 3:'Verde'}\n",
    "x[1],x[2] = x[2],x[1]\n",
    "x[6] = \"Naranja\"\n",
    "del x[3]\n",
    "\n",
    "a) {1: 'Rojo', 2: 'Azul', 3: 'Verde', 6: 'Naranja'}\n",
    "b) Error\n",
    "c) {1: 'Rojo', 2: 'Azul', 6: 'Naranja'}\n",
    "d) {1: 'Azul', 2: 'Rojo', 6: 'Naranja'}\n",
    "e) {1: 'Rojo', 2: 'Rojo', 3: 'Naranja'}\n",
    "-->"
   ]
  },
  {
   "cell_type": "markdown",
   "metadata": {},
   "source": [
    "---"
   ]
  }
 ],
 "metadata": {
  "kernelspec": {
   "display_name": "Python 3",
   "language": "python",
   "name": "python3"
  },
  "language_info": {
   "codemirror_mode": {
    "name": "ipython",
    "version": 3
   },
   "file_extension": ".py",
   "mimetype": "text/x-python",
   "name": "python",
   "nbconvert_exporter": "python",
   "pygments_lexer": "ipython3",
   "version": "3.7.10"
  }
 },
 "nbformat": 4,
 "nbformat_minor": 4
}

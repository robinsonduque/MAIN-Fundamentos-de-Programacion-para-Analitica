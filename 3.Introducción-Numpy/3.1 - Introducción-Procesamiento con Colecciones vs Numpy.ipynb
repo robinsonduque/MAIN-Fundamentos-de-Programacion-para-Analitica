{
 "cells": [
  {
   "cell_type": "markdown",
   "metadata": {},
   "source": [
    "---\n",
    "Escuela de Ingeniería de Sistemas y Computación  \n",
    "Universidad del Valle  \n",
    "INTRODUCCIÓN A LA PROGRAMACIÓN PARA ANALÍTICA  \n",
    "Profesor: Ph.D, Robinson Duque (robinson.duque@correounivalle.edu.co)  \n",
    "Última modificación: Julio de 2020  \n",
    "\n",
    "---\n",
    "\n",
    "# Consideraciones:\n",
    "\n",
    "Este material presenta textos y ejemplos orientados al propósito del curso de _Introducción a la Programación para Analítica_ de la Universidad del Valle."
   ]
  },
  {
   "cell_type": "markdown",
   "metadata": {},
   "source": [
    "# Procesamiento de datos con Colecciones\n",
    "Es común enfrentarse a situaciones donde se tendrá que procesar un conjunto de datos existente utilizando los tipos y coleccines básicas vistas hasta el momento. No obstante, el uso de colecciontes como (listas, tuplas, diccionarios y conjuntos) tienen diversas limitaciones que trataremos de solventar utilizando librerias especializadas como NumPy, Pandas y Matplotlib.\n",
    "\n",
    "> ## Archivos CSV\n",
    "> Los archivos **CSV** (Comma Separated Values) son quizá el formato de datos más popular para importar y exportar bases de datos entre varios sistemas. Debido a que CSV no tiene un formato estandarizado, siempre hay diferencias sutiles entre los archivos CSV de diferentes proveedores, como el separador de campo puede ser `TAB`, `:`, `;` en lugar de una `,`. \n",
    ">\n",
    "> Un archivo CSV se ve así por dentro:\n",
    "> ``` csv\n",
    "ID,Name,CountryCode,District,Population\n",
    "3793,New York,USA,New York,8008278\n",
    "3794,Los Angeles,USA,California,3694820\n",
    "3795,Chicago,USA,Illinois,2896016\n",
    "3796,Houston,USA,Texas,1953631\n",
    "3797,Philadelphia,USA,Pennsylvania,1517550\n",
    "3798,Phoenix,USA,Arizona,1321045\n",
    "3799,San Diego,USA,California,1223400\n",
    "3800,Dallas,USA,Texas,1188580\n",
    "> ```\n",
    ">Observe cómo cada pieza de datos está separada por una coma. Normalmente, la primera línea identifica cada pieza de datos; en otras palabras, el nombre de una columna de datos. Cada línea posterior después de eso son datos y están limitados solo por restricciones de tamaño de archivo.\n",
    ">\n",
    "> ## Lectura de archivos CSV\n",
    "> En Python es común cargar éstos archivos CSV de dos maneras:\n",
    "> * Lista de diccionarios\n",
    ">``` ipython\n",
    "[\n",
    "      {clave1-diccionario1: valor1-diccionario1...},\n",
    "      {clave1-diccionario2: valor1-diccionario2...},\n",
    "      ...\n",
    "      {clave1-diccionario_n: valor1-diccionario_n...},\n",
    "]\n",
    ">```\n",
    "> * Lista de listas\n",
    ">``` ipython\n",
    "[\n",
    "      [valor1-lista_1, valor2-lista_1, ...],\n",
    "      [valor1-lista_2, valor2-lista_2, ...],\n",
    "      ...\n",
    "      [valor1-lista_n, valor2-lista_n, ...]\n",
    "]\n",
    ">``` \n"
   ]
  },
  {
   "cell_type": "code",
   "execution_count": null,
   "metadata": {},
   "outputs": [],
   "source": [
    "lista_dic =[\n",
    "    {'Name': 'New York', 'CountryCode': 'USA', 'Population': '8008278', 'ID': '3793', 'District': 'New York'},\n",
    "    {'Name': 'Los Angeles', 'CountryCode': 'USA', 'Population': '3694820', 'ID': '3794', 'District': 'California'},\n",
    "    {'Name': 'Chicago', 'CountryCode': 'USA', 'Population': '2896016', 'ID': '3795', 'District': 'Illinois'},\n",
    "    {'Name': 'Houston', 'CountryCode': 'USA', 'Population': '1953631', 'ID': '3796', 'District': 'Texas'},\n",
    "    {'Name': 'Philadelphia', 'CountryCode': 'USA', 'Population': '1517550', 'ID': '3797', 'District': 'Pennsylvania'},\n",
    "    {'Name': 'Phoenix', 'CountryCode': 'USA', 'Population': '1321045', 'ID': '3798', 'District': 'Arizona'},\n",
    "    {'Name': 'San Diego', 'CountryCode': 'USA', 'Population': '1223400', 'ID': '3799', 'District': 'California'},\n",
    "    {'Name': 'Dallas', 'CountryCode': 'USA', 'Population': '1188580', 'ID': '3800', 'District': 'Texas'}\n",
    "]\n",
    "\n",
    "print(\"Primer diccionario:\\n\",lista_dic[0])\n",
    "print(\"\\n\\nCuarto diccionario:\\n\",lista_dic[3])\n",
    "print(\"\\n\\nsublista de diccionarios:\\n\",lista_dic[2:6])"
   ]
  },
  {
   "cell_type": "code",
   "execution_count": null,
   "metadata": {},
   "outputs": [],
   "source": [
    "# Acceso al tercer diccionario utilizando una variable auxiliar 'd':\n",
    "d = lista_dic[2] #Se escoge el diccionario \"2\"\n",
    "print(d[\"Name\"])    #Se accede a la clave \"Name\" del diccionario \"2\" representado por 'd'\n",
    "print(d[\"Population\"])\n",
    "print(d[\"ID\"])"
   ]
  },
  {
   "cell_type": "code",
   "execution_count": null,
   "metadata": {},
   "outputs": [],
   "source": [
    "# Acceso al quinto diccionario sin utilizar variable auxiliar:\n",
    "print(lista_dic[4][\"Name\"]) #Se escoge el diccionario \"4\" y se accede a la clave \"Name\"\n",
    "print(lista_dic[4][\"Population\"])\n",
    "print(lista_dic[4][\"ID\"])\n",
    "print(lista_dic[4][\"District\"])"
   ]
  },
  {
   "cell_type": "code",
   "execution_count": null,
   "metadata": {},
   "outputs": [],
   "source": [
    "#Para cada diccionario 'i', haga una lista con los nombres:\n",
    "nombres = [ i[\"Name\"] for i in lista_dic] \n",
    "print(nombres)\n",
    "\n",
    "#Para cada diccionario 'i', haga una lista con los nombres si inicia con la letra \"P\".\n",
    "#Recuerda que el nombre es en si mismo es un String y también se pueden acceder a sus elementos utilizando índices y slicing\n",
    "nombres_a  = [ i[\"Name\"] for i in lista_dic if i[\"Name\"][0]==\"P\"]\n",
    "print(nombres_a)"
   ]
  },
  {
   "cell_type": "code",
   "execution_count": null,
   "metadata": {},
   "outputs": [],
   "source": [
    "#Para cada diccionario 'i', haga una lista con la población:\n",
    "pass\n",
    "\n",
    "#Se puede hacer una conversión de tipo utilizando 'int()' para realizar operaciones matemáticas (ejemplo:promedio)\n",
    "pass\n",
    "\n",
    "\n",
    "#Hacer ejemplos generando listas de tuplas\n",
    "pass\n",
    "\n",
    "\n",
    "#Hacer ejemplos generando conjutos de datos\n",
    "pass\n",
    "\n",
    "#Hacer ejemplos generando listas que requieran de filtros (condiciones)\n",
    "pass\n"
   ]
  },
  {
   "cell_type": "code",
   "execution_count": null,
   "metadata": {},
   "outputs": [],
   "source": [
    "#Modificar datos utilizando una variable auxiliar. Recuerda que las copias se hacen por referencia por defecto:\n",
    "aux = lista_dic[0]\n",
    "aux[\"Name\"] = \"Santiago de Cali\"\n",
    "aux[\"CountryCode\"] = \"Colombia\"\n",
    "#Modificar datos sin utilizar variables auxiliares\n",
    "lista_dic[1][\"Name\"] = \"Bogotá\"\n",
    "lista_dic[1][\"CountryCode\"] = \"Colombia\""
   ]
  },
  {
   "cell_type": "code",
   "execution_count": null,
   "metadata": {},
   "outputs": [],
   "source": [
    "#Agregar una nueva columna: se necesitan 8 colores, 1 para cada diccionario\n",
    "color = [\"Azul\",\"Rojo\",\"Verde\",\"Verde\",\"Naranja\",\"Amarillo\",\"Blanco\",\"Rojo\"]\n",
    "for c in range(8): #Utilizaremos un for, puesto que no pretendemos generar una nueva lista (Simplemente modificar la actual)\n",
    "    lista_dic[c][\"Color\"] = color[c] #Se asigna un color a la nueva clave \"Color\"\n",
    "\n",
    "print(\"\\n\\n\",lista_dic)"
   ]
  },
  {
   "cell_type": "code",
   "execution_count": null,
   "metadata": {},
   "outputs": [],
   "source": [
    "lista_lista =[\n",
    "    ['ID', 'Name', 'CountryCode', 'District', 'Population'],\n",
    "    ['3793', 'New York', 'USA', 'New York', '8008278'],\n",
    "    ['3794', 'Los Angeles', 'USA', 'California', '3694820'],\n",
    "    ['3795', 'Chicago', 'USA', 'Illinois', '2896016'],\n",
    "    ['3796', 'Houston', 'USA', 'Texas', '1953631'],\n",
    "    ['3797', 'Philadelphia', 'USA', 'Pennsylvania', '1517550'],\n",
    "    ['3798', 'Phoenix', 'USA', 'Arizona', '1321045'],\n",
    "    ['3799', 'San Diego', 'USA', 'California', '1223400'],\n",
    "    ['3800', 'Dallas', 'USA', 'Texas', '1188580'],\n",
    "]\n",
    "\n",
    "# Observa que a diferencia de los diccionarios, la primer lista contiene los nombres\n",
    "# de las columnas\n",
    "print(\"Primer lista:\\n\",lista_lista[0])\n",
    "print(\"\\n\\nCuarta Lista:\\n\",lista_lista[3])\n",
    "print(\"\\n\\nsublista de listas:\\n\",lista_lista[2:6])"
   ]
  },
  {
   "cell_type": "code",
   "execution_count": null,
   "metadata": {},
   "outputs": [],
   "source": [
    "#índice 0 corresponde al 'ID'\n",
    "#índice 1 corresponde a 'Name'\n",
    "#índice 2 corresponde a 'CountryCode'\n",
    "#índice 3 corresponde a 'District'\n",
    "#índice 4 corresponde a 'Population'\n",
    "\n",
    "\n",
    "# Acceso a la tercer lista utilizando una variable auxiliar 'd':\n",
    "d = lista_lista[2] #Se escoge la lista \"2\"\n",
    "print(d[1])    #Se accede al nombre de la lista \"2\" representada por 'd'\n",
    "print(d[4])    #Se accede a la población\n",
    "print(d[0])    #Se accede al ID\n",
    "\n",
    "\n",
    "# Acceso a la quinta lista sin utilizar variable auxiliar:\n",
    "print(lista_lista[4][1]) #Se escoge la lista \"4\" y se accede al nombre \"1\"\n",
    "print(lista_lista[4][4]) #Población\n",
    "print(lista_lista[4][0]) #ID\n",
    "print(lista_lista[4][3]) #Distrito"
   ]
  },
  {
   "cell_type": "code",
   "execution_count": null,
   "metadata": {},
   "outputs": [],
   "source": [
    "#Para cada lista 'i', haga una lista con los nombres:\n",
    "nombres = [ i[1] for i in lista_lista[1:]] \n",
    "print(nombres)\n",
    "\n",
    "#Para cada lista 'i', haga una lista con los nombres si inicia con la letra \"P\".\n",
    "#Recuerda que el nombre es en si mismo es un String y también se pueden acceder a sus elementos utilizando índices y slicing\n",
    "nombres_a  = [ i[1] for i in lista_lista[1:] if i[1][0]==\"P\"]\n",
    "print(nombres_a)\n",
    "\n",
    "\n",
    "#Se puede hacer una conversión de tipo utilizando 'int()':\n",
    "poblaciones2 = [ int(i[4]) for i in lista_lista[1:] ] \n",
    "print(\"\\nObserva esta lista de poblaciones:\\n\",poblaciones2,\"\\nTodos los datos son int y podremos sumarlos...\")\n",
    "\n",
    "suma_poblaciones = sum(poblaciones2)\n",
    "promedio_poblacion = sum(poblaciones2) / len(poblaciones2)\n",
    "print(\"Suma de poblaciones: \", suma_poblaciones)\n",
    "print(\"Promedio de población:\", promedio_poblacion)"
   ]
  },
  {
   "cell_type": "markdown",
   "metadata": {},
   "source": [
    "> ## Cargando archivos CSV\n",
    "> Existen diferentes maneras de cargar archivos CSV. Una de las formas más comúnes es utilizando la librería CSV que provee funcionalidad para leer y escribir archivos CSV. Sólo basta con cargar el archivo a una variable 1 sola vez y estará disponible dentro de todo el cuaderno de Jupyter. En los ejemplos de arriba, se incluyó la lista de forma manual en cada ejemplo simplemente para tenerla como referencia.\n",
    ">\n",
    ">En general utilizaremos las siguientes líneas para importar archivos:\n"
   ]
  },
  {
   "cell_type": "code",
   "execution_count": null,
   "metadata": {},
   "outputs": [],
   "source": [
    "# Código para importar listas de diccionarios. Sólo asegurate que el archivo \n",
    "# \"population.csv\" o el que estés intentando cargar se encuentre en el mismo \n",
    "# directorio que este cuaderno. Sino, asegurate de tener una ruta válida\n",
    "import csv\n",
    "with open(\"population.csv\",\"r\") as csv_file:\n",
    "    lista_dic = list(csv.DictReader(csv_file))\n",
    "\n",
    "print(lista_dic)\n",
    "print(\"\\n\")\n",
    "\n",
    "#Ya puedes empezar a trabajar con tu 'lista_dic', aunque puedes darle cualquier otro nombre\n",
    "nombres = [ i[\"Name\"] for i in lista_dic] \n",
    "print(nombres)\n"
   ]
  },
  {
   "cell_type": "code",
   "execution_count": null,
   "metadata": {},
   "outputs": [],
   "source": [
    "# Código para importar listas de listas. Sólo asegurate que el archivo \n",
    "# \"population.csv\" o el que estés intentando cargar se encuentre en el mismo \n",
    "# directorio que este cuaderno. Sino, asegurate de tener una ruta válida\n",
    "import csv\n",
    "with open(\"population.csv\",\"r\") as csv_file:\n",
    "    lista_lista = list(csv.reader(csv_file))\n",
    "\n",
    "print(lista_lista)\n",
    "print(\"\\n\")\n",
    "\n",
    "#Ya puedes empezar a trabajar con tu 'lista_lista', aunque puedes darle cualquier otro nombre\n",
    "nombres = [ i[1] for i in lista_lista[1:]] \n",
    "print(nombres)\n"
   ]
  },
  {
   "cell_type": "markdown",
   "metadata": {},
   "source": [
    ">  ## Limitaciones de Procesar Datos con Colecciones\n",
    "> * En la lista de listas hay que recordar los índices para poder aceder a los datos correctos y esto puede causar errores al momento de programar (no es natural programar así, es un poco difícil)...\n",
    ">* En la lista de listas puede haber confusión respecto a cuál es el primer registro de datos al momento de hacer operaciones. ¿Será la primer lista? la cual contiene los nombres de las columnas o ¿debería ser la segundalista?, que contiene el primer registro de datos...\n",
    ">* Las listas ocupan menos espacio en memoria respecto a los diccionarios que  repiten los índices una y otra vez, ¿son las listas de diccionarios la mejor opción?...\n",
    ">* Tanto para diccionarios como para listas, sería genial tener un tratamiento automático de datos que permita operar sobre ellos:\n",
    ">    * cambio de tipos de toda una columna\n",
    ">    * buscar y filtrar datos que cumplan con ciertos criterios\n",
    ">    * operaciones aritméticas y aplicación de funciones a filas\n",
    ">    * operaciones aritméticas y aplicación de funciones a  columnas (por ejemplo, multiplicar todos los elementos de una columna por un número y almacenar los resultados en una nueva columna)\n"
   ]
  },
  {
   "cell_type": "markdown",
   "metadata": {},
   "source": [
    "# NumPy: arreglos y computación vectorizada\n",
    "NumPy es una abreviatura de 'Numerical Python', es el paquete fundamental requerido para la computación científica de alto rendimiento y el análisis de datos. Es la base sobre la cual se construyen casi todas las herramientas de nivel superior como Pandas. Algunas de las características que ofrece:\n",
    "\n",
    "*  **ndarray**, una matriz multidimensional rápida y eficiente que proporciona operaciones aritméticas vectorizadas y capacidades de transmisión sofisticadas (para datos homogeneos)\n",
    "*  Funciones matemáticas estándar para operaciones rápidas en conjuntos completos de datos sin tener que escribir bucles (o comprensiones)\n",
    "* Herramientas para leer / escribir datos desde disco y trabajar con archivos mapeados en memoria\n",
    "* Operaciones de Álgebra lineal y generación de números aleatorios\n",
    "* Herramientas para integrar código escrito en C, C ++ y Fortran\n",
    "\n",
    "Para utilizar NumPy se debe importar la librería así:\n",
    "``` ipython\n",
    "import numpy as np\n",
    "```\n",
    "Es muy común encontrarse con el álias `np` aunque puede ser cualquier otra palabra no reservada.\n"
   ]
  },
  {
   "cell_type": "code",
   "execution_count": null,
   "metadata": {},
   "outputs": [],
   "source": [
    "import numpy as np # Es necesario imprtar la librería numpy \n",
    "                   # una vez se ejecute esta instrucción, 'np' quedará habilitado \n",
    "                   # en todo el cuaderno y no será necesario realizar la importación cada vez\n",
    "\n"
   ]
  }
 ],
 "metadata": {
  "kernelspec": {
   "display_name": "Python 3",
   "language": "python",
   "name": "python3"
  },
  "language_info": {
   "codemirror_mode": {
    "name": "ipython",
    "version": 3
   },
   "file_extension": ".py",
   "mimetype": "text/x-python",
   "name": "python",
   "nbconvert_exporter": "python",
   "pygments_lexer": "ipython3",
   "version": "3.7.10"
  }
 },
 "nbformat": 4,
 "nbformat_minor": 4
}

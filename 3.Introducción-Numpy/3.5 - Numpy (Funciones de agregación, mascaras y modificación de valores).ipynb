{
 "cells": [
  {
   "cell_type": "markdown",
   "metadata": {},
   "source": [
    "---\n",
    "Escuela de Ingeniería de Sistemas y Computación  \n",
    "Universidad del Valle  \n",
    "INTRODUCCIÓN A LA PROGRAMACIÓN PARA ANALÍTICA  \n",
    "Profesor: Ph.D, Robinson Duque (robinson.duque@correounivalle.edu.co)  \n",
    "Última modificación: Julio de 2020  \n",
    "\n",
    "---\n",
    "\n",
    "# Consideraciones:\n",
    "\n",
    "Este material presenta textos y ejemplos orientados al propósito del curso de _Introducción a la Programación para Analítica_ de la Universidad del Valle."
   ]
  },
  {
   "cell_type": "markdown",
   "metadata": {},
   "source": [
    "## Funciones de agregación\n",
    "| Function Name | NaN-safe Version | Description                               |\n",
    "|---------------|------------------|-------------------------------------------|\n",
    "| np.sum        | np.nansum        | Compute sum of elements                   |\n",
    "| np.cumsum     | np.nancumsum     | Compute the cumulative sum of elements    |\n",
    "| np.prod       | np.nanprod       | Compute product of elements               |\n",
    "| np.cumprod    | np.nancumprod    | Compute the cumulative product of elements|\n",
    "| np.mean       | np.nanmean       | Compute mean of elements                  |\n",
    "| np.std        | np.nanstd        | Compute standard deviation                |\n",
    "| np.var        | np.nanvar        | Compute variance                          |\n",
    "| np.min        | np.nanmin        | Find minimum value                        |\n",
    "| np.max        | np.nanmax        | Find maximum value                        |\n",
    "| np.argmin     | np.nanargmin     | Find index of minimum value               |\n",
    "| np.argmax     | np.nanargmax     | Find index of maximum value               |\n",
    "| np.median     | np.nanmedian     | Compute median of elements                |\n",
    "| np.percentile | np.nanpercentile | Compute rank-based statistics of elements |\n",
    "| np.any        | N/A              | Evaluate whether any elements are true    |\n",
    "| np.all        | N/A              | Evaluate whether all elements are true    |"
   ]
  },
  {
   "cell_type": "code",
   "execution_count": null,
   "metadata": {},
   "outputs": [],
   "source": [
    "import numpy as np"
   ]
  },
  {
   "cell_type": "code",
   "execution_count": null,
   "metadata": {},
   "outputs": [],
   "source": [
    "a = np.array([2,3,4,5,6,7,8])\n",
    "print(a.sum())\n",
    "print(a.cumsum())\n",
    "print(a.std())\n",
    "print(np.median(a))\n",
    "print(np.percentile(a,50))\n",
    "\n",
    "a = np.array([2,3,4,5,6,np.nan,8])\n",
    "print(np.sum(a))\n",
    "print(np.nansum(a))"
   ]
  },
  {
   "cell_type": "markdown",
   "metadata": {},
   "source": [
    "> ### Agregaciones en múltiples dimensiones\n",
    ">En ocasiones es deseable aplicar las funciones de agregación por columnas o filas de un determinado array. Para este propósito utilizaremos el parámetro `axis`:\n",
    "> * `axis = 0`, realiza las operaciones por columnas\n",
    "> * `axis = 1`, realiza las operaciones por filas"
   ]
  },
  {
   "cell_type": "code",
   "execution_count": null,
   "metadata": {},
   "outputs": [],
   "source": [
    "a = np.arange(1,11).reshape((2,5))\n",
    "print(a)\n",
    "\n",
    "print(a.sum())\n",
    "print(a.sum(axis=0))\n",
    "print(a.sum(axis=1))"
   ]
  },
  {
   "cell_type": "markdown",
   "metadata": {},
   "source": [
    "## Filtrado de un array (máscaras y lógica booleana)\n",
    "> Una característica muy útil de los arrays es que es muy fácil obtener otro array con los elementos que cumplen una condición.\n",
    ">\n",
    "> `a[condicion]` : Devuelve una lista con los elementos del array a que cumplen la condición `condicion`."
   ]
  },
  {
   "cell_type": "code",
   "execution_count": null,
   "metadata": {},
   "outputs": [],
   "source": [
    "a = np.array([[1, 2, 3], [4, 5, 6], [8,2,1]])\n",
    "print(a[ a%2 == 0 ])\n",
    "print(a[ a>5 ])\n",
    "print(a[ a<=2 ])\n",
    "print(a[(a % 2 == 0) & (a > 2)])\n",
    "print(a[(a % 2 == 0) | (a > 2)])\n",
    "print(a[(a % 2 == 0) ^ (a > 2)])\n",
    "\n",
    "\n",
    "# ¿Recuerdas los operadores bit a bit o elemento a elemento '&', '|', \"^\"?\n",
    "# Los operadorer 'and' y 'or' no se debe utilizar en estos casos"
   ]
  },
  {
   "cell_type": "markdown",
   "metadata": {},
   "source": [
    "> **¿Cómo funciona esto?**, en realidad lo que sucede es que se crea un índice o máscara booleana que funciona como filtro. Observa cuando lo hacemos por partes:"
   ]
  },
  {
   "cell_type": "code",
   "execution_count": null,
   "metadata": {},
   "outputs": [],
   "source": [
    "names = np.array(['Bob', 'Joe', 'Will', 'Boby', 'Rob', 'Mary', 'Ann'])\n",
    "mascara= np.array([True,  False,  False,  True,  True,  True,  False])\n",
    "print(names[mascara])\n",
    "print(names[~mascara])"
   ]
  },
  {
   "cell_type": "code",
   "execution_count": null,
   "metadata": {},
   "outputs": [],
   "source": [
    "a = np.array([[3,5,1,8],\n",
    "              [6,9,4,8]])\n",
    "print(a)\n",
    "mascara = a>5\n",
    "print(mascara)\n",
    "\n",
    "print(a[mascara])\n",
    "print(a[a>5])"
   ]
  },
  {
   "cell_type": "markdown",
   "metadata": {},
   "source": [
    "> Estas máscaras, además de ser útiles para filtar arrays, también pueden ser útiles para contar elementos:"
   ]
  },
  {
   "cell_type": "code",
   "execution_count": null,
   "metadata": {},
   "outputs": [],
   "source": [
    "a = np.array([[3,5,1,8],\n",
    "              [6,9,4,8]])\n",
    "\n",
    "mascara = a>5\n",
    "print(\"Cantidad de elementos >=5:\",mascara.sum())\n",
    "\n",
    "# Otra forma válida sería:\n",
    "print(\"Cantidad de elementos >=5:\",a[mascara].size)\n",
    "\n",
    "# Lo interesante de hacerlo con 'sum' es que puedo averiguar el resultado\n",
    "# por filas y columnas\n",
    "print(\"Cantidad de elementos >=5 por filas: \",mascara.sum(axis=1))\n",
    "print(\"Cantidad de elementos >=5 por columnas: \",mascara.sum(axis=0))\n"
   ]
  },
  {
   "cell_type": "code",
   "execution_count": null,
   "metadata": {},
   "outputs": [],
   "source": [
    "#Observa esto:\n",
    "print(np.any(a%2==0))\n",
    "print(np.all(a%2==0))\n",
    "print(np.any(a>8, axis=1))\n",
    "print(np.any(a>8, axis=0))\n",
    "print(np.all(a>=1, axis=1))"
   ]
  },
  {
   "cell_type": "markdown",
   "metadata": {},
   "source": [
    "> ## Modificación de valores de un arreglo\n",
    "Se puede modificar el contenido de uno o varios elementos del arreglo siempre y cuando se tengan los índices o referencias de los elementos a modificar:"
   ]
  },
  {
   "cell_type": "code",
   "execution_count": null,
   "metadata": {},
   "outputs": [],
   "source": [
    "#Modificar 1 elemento\n",
    "x = np.arange(10)\n",
    "print(x)\n",
    "x[3]=-5\n",
    "print(x)\n",
    "\n",
    "#Modificar todos los elementos\n",
    "x[:]=5\n",
    "print(x)\n",
    "\n",
    "#Modificar varios elementos utilizando un índice de posiciones\n",
    "x = np.arange(10)\n",
    "print(x)\n",
    "i = [2, 1, 8, 4]\n",
    "x[i] += 1\n",
    "print(x)\n",
    "x[i]=9\n",
    "print(x)\n"
   ]
  },
  {
   "cell_type": "code",
   "execution_count": null,
   "metadata": {},
   "outputs": [],
   "source": [
    "# Se pueden modificar elementos que cumplan con una condición\n",
    "a = np.array([[3,4,1,8],\n",
    "              [6,9,4,8]])\n",
    "print(a)\n",
    "a[a==4] = -4 #Cambiar los números 4 por -4\n",
    "print(a)\n",
    "\n",
    "a[a%2==0] = a[a%2==0]/2 #Dividir entre 2 los múltiplos de 2\n",
    "print(a)\n",
    "\n",
    "#Quizá el ejemplo anterior te quede más claro si lo ves así:\n",
    "#mascara = a%2==0\n",
    "#a[mascara] = a[mascara]/2\n",
    "#print(a)\n",
    "\n",
    "mascara = (a>3)\n",
    "a[mascara] = a[mascara]*4 #multiplicar por 4 los números mayores de 3\n",
    "print(a)"
   ]
  },
  {
   "cell_type": "markdown",
   "metadata": {},
   "source": [
    "---"
   ]
  },
  {
   "cell_type": "markdown",
   "metadata": {},
   "source": [
    "# Preguntas Socrative"
   ]
  },
  {
   "cell_type": "markdown",
   "metadata": {},
   "source": [
    "1. Oculta aquí (MC).\n",
    "\n",
    "<!--  \n",
    "Cuál es el resultado de ejecutar:  \n",
    "\n",
    "a = np.arange(1,11)\n",
    "\n",
    "a[a%2==1] = 0\n",
    "\n",
    "print(a)\n",
    "\n",
    "\n",
    "a) [ 0  2  0  4  0 6  0 8  0 10]\n",
    "\n",
    "b) [ 0  4  0  8  0 12  0 16  0 20]\n",
    "\n",
    "c) [ 2  0  6  0  10 0  14 0  18 0]\n",
    "\n",
    "d) [0 0 0 0 0 0 0 0 0 0]\n",
    "\n",
    "e) [0]\n",
    "-->"
   ]
  },
  {
   "cell_type": "markdown",
   "metadata": {},
   "source": [
    "2. Oculta aquí (MC).\n",
    "\n",
    "<!--  \n",
    "Cuál es el resultado de ejecutar:  \n",
    "\n",
    "a = np.arange(1,11)\n",
    "\n",
    "a[a%2==1] = 0\n",
    "\n",
    "m1 = (a%2==0)\n",
    "\n",
    "a[m1] = a[m1] * 2\n",
    "\n",
    "print(a)\n",
    "\n",
    "\n",
    "a) error\n",
    "\n",
    "b) [ 0  4  0  8  0 12  0 16  0 20]\n",
    "\n",
    "c) [ 2  0  6  0  10 0  14 0  18 0]\n",
    "\n",
    "d) [0 0 0 0 0 0 0 0 0 0]\n",
    "\n",
    "e) [0]\n",
    "-->"
   ]
  },
  {
   "cell_type": "markdown",
   "metadata": {},
   "source": [
    "---"
   ]
  }
 ],
 "metadata": {
  "kernelspec": {
   "display_name": "Python 3",
   "language": "python",
   "name": "python3"
  },
  "language_info": {
   "codemirror_mode": {
    "name": "ipython",
    "version": 3
   },
   "file_extension": ".py",
   "mimetype": "text/x-python",
   "name": "python",
   "nbconvert_exporter": "python",
   "pygments_lexer": "ipython3",
   "version": "3.7.10"
  }
 },
 "nbformat": 4,
 "nbformat_minor": 4
}

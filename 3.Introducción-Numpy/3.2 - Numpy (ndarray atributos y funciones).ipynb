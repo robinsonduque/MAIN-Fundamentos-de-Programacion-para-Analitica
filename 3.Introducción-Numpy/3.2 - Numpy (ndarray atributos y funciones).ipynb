{
 "cells": [
  {
   "cell_type": "markdown",
   "metadata": {},
   "source": [
    "---\n",
    "Escuela de Ingeniería de Sistemas y Computación  \n",
    "Universidad del Valle  \n",
    "INTRODUCCIÓN A LA PROGRAMACIÓN PARA ANALÍTICA  \n",
    "Profesor: Ph.D, Robinson Duque (robinson.duque@correounivalle.edu.co)  \n",
    "Última modificación: Julio de 2020  \n",
    "\n",
    "---\n",
    "\n",
    "# Consideraciones:\n",
    "\n",
    "Este material presenta textos y ejemplos orientados al propósito del curso de _Introducción a la Programación para Analítica_ de la Universidad del Valle."
   ]
  },
  {
   "cell_type": "markdown",
   "metadata": {},
   "source": [
    "# NumPy: arreglos y computación vectorizada\n",
    "NumPy es una abreviatura de 'Numerical Python', es el paquete fundamental requerido para la computación científica de alto rendimiento y el análisis de datos. Es la base sobre la cual se construyen casi todas las herramientas de nivel superior como Pandas. Algunas de las características que ofrece:\n",
    "\n",
    "*  **ndarray**, una matriz multidimensional rápida y eficiente que proporciona operaciones aritméticas vectorizadas y capacidades de transmisión sofisticadas (para datos homogeneos)\n",
    "*  Funciones matemáticas estándar para operaciones rápidas en conjuntos completos de datos sin tener que escribir bucles (o comprensiones)\n",
    "* Herramientas para leer / escribir datos desde disco y trabajar con archivos mapeados en memoria\n",
    "* Operaciones de Álgebra lineal y generación de números aleatorios\n",
    "* Herramientas para integrar código escrito en C, C ++ y Fortran\n",
    "\n",
    "Para utilizar NumPy se debe importar la librería así:\n",
    "``` ipython\n",
    "import numpy as np\n",
    "```\n",
    "Es muy común encontrarse con el álias `np` aunque puede ser cualquier otra palabra no reservada.\n",
    "\n",
    "\n",
    "## NumPy ndarray \n",
    "> Un ndarray es una estructura de datos de un mismo tipo organizada en forma de tabla o cuadrícula de distintas dimensiones. Las dimensiones de un array también se conocen como ejes:\n",
    "![Arrays](arrays.png)\n",
    ">\n",
    ">\n",
    "## Creación de ndarrays utilizando listas en Python\n",
    "> `np.array(list)` : Crea un array a partir de la lista o tupla lista y devuelve una referencia a él. El número de dimensiones del array dependerá de las listas o tuplas anidadas en lista:"
   ]
  },
  {
   "cell_type": "code",
   "execution_count": null,
   "metadata": {},
   "outputs": [],
   "source": [
    "import numpy as np # Es necesario imprtar la librería numpy \n",
    "                   # una vez se ejecute esta instrucción, 'np' quedará habilitado \n",
    "                   # en todo el cuaderno y no será necesario realizar la importación cada vez\n",
    "\n",
    "l = [4,2,3,5,-9] # array 1D  shape:(5,)\n",
    "a = np.array(l)\n",
    "print(a)\n",
    "print(a.shape)"
   ]
  },
  {
   "cell_type": "code",
   "execution_count": null,
   "metadata": {},
   "outputs": [],
   "source": [
    "l = [\n",
    "      [1,2,3,4,5],\n",
    "      [9,8,7,6,5]\n",
    "    ]  # array 2D shape: (2,5)  \n",
    "a = np.array(l)\n",
    "print(a)\n",
    "print(a.shape)"
   ]
  },
  {
   "cell_type": "code",
   "execution_count": null,
   "metadata": {},
   "outputs": [],
   "source": [
    "a = np.array([\n",
    "                [\n",
    "                    [1, 2, 3, 4], \n",
    "                    [4, 5, 6, 7]  ], \n",
    "                [\n",
    "                    [7, 8, 9, 10], \n",
    "                    [10, 11, 12, 13]],\n",
    "                [\n",
    "                    [13, 14, 15, 16], \n",
    "                    [16, 17, 18, 19]]\n",
    "              ])   # array 3D shape: (3,2,4)  \n",
    "print(a)\n",
    "print(a.shape)"
   ]
  },
  {
   "cell_type": "markdown",
   "metadata": {},
   "source": [
    "## Atributos en un array\n",
    "> Existen varios atributos y funciones que describen las características de un array.\n",
    ">* `a.ndim` : Devuelve el número de dimensiones del array `a`\n",
    "> * `a.shape` : Devuelve una tupla con las dimensiones del array `a`\n",
    "> * `a.size` : Devuelve el número de elementos del array `a`\n",
    "> * `a.dtype`: Devuelve el tipo de datos de los elementos del array `a`\n",
    "> * `a.itemsize`: Devuelve el tamaño en bytes de cada elemento del array `a`\n",
    "> * `a.nbytes` : Devuelve el tamaño en bytes de todo el array `a`"
   ]
  },
  {
   "cell_type": "code",
   "execution_count": null,
   "metadata": {},
   "outputs": [],
   "source": [
    "l = [\n",
    "      [1,2,3,4,5],\n",
    "      [9,8,7,6,5]\n",
    "    ]  # array 2D shape: (2,5)  \n",
    "a = np.array(l)\n",
    "print(a.ndim)\n",
    "print(a.shape)\n",
    "print(a.size)\n",
    "print(a.dtype)\n",
    "print(a.itemsize)\n",
    "print(a.nbytes)"
   ]
  },
  {
   "cell_type": "markdown",
   "metadata": {},
   "source": [
    "> Es posible definir el tipo de datos de un array. Los tipos de datos más comunes:\n",
    "> * int8, int16, int32, int64\n",
    "> * float16, float32, float64, float128\n",
    "> * complex64, complex128\n",
    "> * bool\n",
    "> * object\n",
    "> * string_\n",
    ">\n",
    "> Puedes consultar más al respecto en [el capítulo 2 del libro de Jake VanderPlas](https://jakevdp.github.io/PythonDataScienceHandbook/index.html)"
   ]
  },
  {
   "cell_type": "code",
   "execution_count": null,
   "metadata": {},
   "outputs": [],
   "source": [
    "l = [\n",
    "      [1,2,3,4,5],\n",
    "      [9,8,7,6,0]\n",
    "    ]  # array 2D shape: (2,5)  \n",
    "\n",
    "a = np.array(l, dtype=\"int32\")\n",
    "print(a)\n",
    "print(a.dtype)\n",
    "\n",
    "a2 = np.array(l, dtype=\"int64\")\n",
    "print(a2)\n",
    "print(a2.dtype)\n",
    "\n",
    "a3 = np.array(l, dtype=\"float32\")\n",
    "print(a3)\n",
    "print(a3.dtype)\n",
    "\n",
    "a4 = np.array(l, dtype=\"object\")\n",
    "print(a4)\n",
    "print(a4.dtype)\n",
    "\n",
    "\n",
    "a5 = np.array(l, dtype=\"bool\")\n",
    "print(a5)\n",
    "print(a5.dtype)\n"
   ]
  },
  {
   "cell_type": "markdown",
   "metadata": {},
   "source": [
    "## Funciones útiles para la creación de arrays:\n",
    "> Algunas funciones útiles que permiten generar arrays son:\n",
    ">\n",
    "> * `np.empty(dimensiones)` : Crea y devuelve una referencia a un array vacío con las `dimensiones` especificadas en la tupla dimensiones.\n",
    "> * `np.zeros(dimensiones)` : Crea y devuelve una referencia a un array con las `dimensiones` especificadas en la tupla dimensiones cuyos elementos son todos ceros.\n",
    "> * `np.ones(dimensiones)` : Crea y devuelve una referencia a un array con las dimensiones especificadas en la tupla dimensiones cuyos elementos son todos unos.\n",
    "> * `np.full(dimensiones, valor)` : Crea y devuelve una referencia a un array con las dimensiones especificadas en la tupla dimensiones cuyos elementos son todos valor.\n",
    "> * `np.identity(n)` : Crea y devuelve una referencia a la matriz identidad de dimensión n.\n",
    "> * `np.arange(inicio, fin, salto)` : Crea y devuelve una referencia a un array de una dimensión cuyos elementos son la secuencia desde inicio hasta fin tomando valores cada salto.\n",
    "> * `np.linspace(inicio, fin, n)` : Crea y devuelve una referencia a un array de una dimensión cuyos elementos son la secuencia de n valores equidistantes desde inicio hasta fin.\n",
    "> * `np.random.random(dimensiones)` : Crea y devuelve una referencia a un array con las dimensiones especificadas en la tupla dimensiones cuyos elementos son aleatorios.\n",
    "> * `np.random.randint(inferior, superior, dimensiones)` : Crea y devuelve una referencia a un array con las dimensiones especificadas en la tupla dimensiones cuyos elementos son enteros aleatorios generados entre los valores inferior y superior.\n",
    "> * `np.random.normal(loc, scale, dimensiones)` : Crea y decuelve una referencia a un array con datos distribuidos de forma normal con media en $loc$ y una desviación estándar $scale$"
   ]
  },
  {
   "cell_type": "code",
   "execution_count": null,
   "metadata": {},
   "outputs": [],
   "source": [
    "# Ejemplos de uso de funciones para creación de arrays\n",
    "pass\n",
    "\n",
    "\n"
   ]
  },
  {
   "cell_type": "markdown",
   "metadata": {},
   "source": [
    "---"
   ]
  },
  {
   "cell_type": "markdown",
   "metadata": {},
   "source": [
    "# Preguntas Socrative"
   ]
  },
  {
   "cell_type": "markdown",
   "metadata": {},
   "source": [
    "1. Oculta aquí (MC).\n",
    "\n",
    "<!--  \n",
    "Cuál es el resultado de ejecutar:  \n",
    "\n",
    "a = np.arange(2,11,2)\n",
    "print(a)\n",
    "\n",
    "a) array([1,2,3,4,5,6,7,8,9,10,11] \n",
    "b) array([1,2,3,4,5,6,7,8,9,10]\n",
    "c) array([2,4,6,8,10]\n",
    "d) array([2,4,6,8]\n",
    "e) array([1,3,5,7,9]\n",
    "-->"
   ]
  },
  {
   "cell_type": "markdown",
   "metadata": {},
   "source": [
    "---"
   ]
  }
 ],
 "metadata": {
  "kernelspec": {
   "display_name": "Python 3",
   "language": "python",
   "name": "python3"
  },
  "language_info": {
   "codemirror_mode": {
    "name": "ipython",
    "version": 3
   },
   "file_extension": ".py",
   "mimetype": "text/x-python",
   "name": "python",
   "nbconvert_exporter": "python",
   "pygments_lexer": "ipython3",
   "version": "3.7.10"
  }
 },
 "nbformat": 4,
 "nbformat_minor": 4
}

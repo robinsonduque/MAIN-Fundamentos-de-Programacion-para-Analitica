{
 "cells": [
  {
   "cell_type": "markdown",
   "metadata": {},
   "source": [
    "---\n",
    "Escuela de Ingeniería de Sistemas y Computación  \n",
    "Universidad del Valle  \n",
    "INTRODUCCIÓN A LA PROGRAMACIÓN PARA ANALÍTICA  \n",
    "Profesor: Ph.D, Robinson Duque (robinson.duque@correounivalle.edu.co)  \n",
    "Última modificación: Julio de 2020  \n",
    "\n",
    "---\n",
    "\n",
    "# Consideraciones:\n",
    "\n",
    "Este material presenta textos y ejemplos orientados al propósito del curso de _Introducción a la Programación para Analítica_ de la Universidad del Valle."
   ]
  },
  {
   "cell_type": "markdown",
   "metadata": {},
   "source": [
    "## Indexación y Slicing de arreglos\n",
    "> Para acceder a los elementos contenidos en un array se usan índices al igual que para acceder a los elementos de una lista, pero indicando los índices de cada dimensión separados por comas.\n",
    ">\n",
    ">Al igual que para listas, los índices de cada dimensión comienzan en 0.\n",
    ">\n",
    "> También es posible obtener subarrays con el operador dos puntos `[inicio:fin]` y `[inicio:fin:salto]` indicando el índice inicial y el siguiente al final para cada dimensión, de nuevo separados por comas."
   ]
  },
  {
   "cell_type": "code",
   "execution_count": null,
   "metadata": {},
   "outputs": [],
   "source": [
    "import numpy as np"
   ]
  },
  {
   "cell_type": "code",
   "execution_count": null,
   "metadata": {},
   "outputs": [],
   "source": [
    "a = np.array([1,3,5,7,9,-2,-3,-4,-5,11,12])\n",
    "print(a[0])\n",
    "print(a[:3])\n",
    "print(a[2:9])\n",
    "print(a[2:9:2])\n",
    "print(a[-4:])\n",
    "print(a[::-1])"
   ]
  },
  {
   "cell_type": "code",
   "execution_count": null,
   "metadata": {},
   "outputs": [],
   "source": [
    "np.random.seed(1)\n",
    "a = np.random.randint(1,20,(4,5))\n",
    "print(a)\n",
    "print(a[0][1])\n",
    "print(a[0,1])\n",
    "print(a[:,2])\n",
    "print(a[2,:])\n",
    "print(a[1:3,2:4])\n",
    "print(a[::-1,::-1])"
   ]
  },
  {
   "cell_type": "markdown",
   "metadata": {},
   "source": [
    "> También es posible filtrar utilizando un arreglo de índices:"
   ]
  },
  {
   "cell_type": "code",
   "execution_count": null,
   "metadata": {},
   "outputs": [],
   "source": [
    "a = np.array([1,3,5,7,9,-2,-3,-4,-5,11,12])\n",
    "print(a[[5,4,1,0,-1]])\n",
    "print(a[np.arange(4,8)])"
   ]
  },
  {
   "cell_type": "code",
   "execution_count": null,
   "metadata": {},
   "outputs": [],
   "source": [
    "a = np.random.randint(1,20,(4,5))\n",
    "print(a)\n",
    "print(a[2])  #Fila 2\n",
    "print(a[[3,2]]) #Filas 3 y 2\n",
    "print(a[[3,2], 1]) #Elementos (3,1) y (2,1)\n",
    "print(a[2,[4,2]])  # Valores (2,4) y (2,2)\n",
    "print(a[ [3,2],[4,2] ]) # Valores (3,4) y (2,2)"
   ]
  },
  {
   "cell_type": "markdown",
   "metadata": {},
   "source": [
    "---"
   ]
  },
  {
   "cell_type": "markdown",
   "metadata": {},
   "source": [
    "# Preguntas Socrative"
   ]
  },
  {
   "cell_type": "markdown",
   "metadata": {},
   "source": [
    "1. Oculta aquí (MC).\n",
    "\n",
    "<!--  \n",
    "Cuál es el resultado de ejecutar:  \n",
    "\n",
    "a = np.array(\n",
    "    [\n",
    "        [1, 2, 3, 4],\n",
    "        [5, 6, 7, 8],\n",
    "        [9,10,11,12]\n",
    "    ]\n",
    "    )\n",
    "print(a[1:3])\n",
    "\n",
    "a) [[ 1 2 3 4]]\n",
    "\n",
    "b) [[2 3 4]]\n",
    "\n",
    "c) [[ 9 10 11 12]]\n",
    "\n",
    "d) [[ 5  6  7  8]]\n",
    "\n",
    "e) [[ 5  6  7  8]\n",
    "    [ 9 10 11 12]]\n",
    "-->"
   ]
  },
  {
   "cell_type": "markdown",
   "metadata": {},
   "source": [
    "2. Oculta aquí (MC).\n",
    "\n",
    "<!--  \n",
    "Cuál es el resultado de ejecutar:  \n",
    "\n",
    "a = np.array(\n",
    "    [\n",
    "        [1, 2, 3, 4],\n",
    "        [5, 6, 7, 8],\n",
    "        [9,10,11,12]\n",
    "    ]\n",
    "    )\n",
    "print(a[1 , 1:4])\n",
    "\n",
    "a) [ 6 7 8 ]\n",
    "\n",
    "b) [ 2 3 4 ]\n",
    "\n",
    "c) [ 2 3]\n",
    "\n",
    "d) [ 5  6  7]\n",
    "\n",
    "e) error\n",
    "-->"
   ]
  },
  {
   "cell_type": "markdown",
   "metadata": {},
   "source": [
    "3. Oculta aquí (MC).\n",
    "\n",
    "<!--  \n",
    "Cuál es el resultado de ejecutar:  \n",
    "\n",
    "a = np.array(\n",
    "    [\n",
    "        [1, 2, 3, 4],\n",
    "        [5, 6, 7, 8],\n",
    "        [9,10,11,12]\n",
    "    ]\n",
    "    )\n",
    "print(a[ : , 2 ])\n",
    "\n",
    "a) [ 10, 11, 12 ]\n",
    "\n",
    "b) [[3, 4],\n",
    "    [7, 8],\n",
    "    [11,12]]\n",
    "\n",
    "c) [ 3 7 11 ]\n",
    "\n",
    "d) [[1, 2, 3],\n",
    "    [5, 6, 7],\n",
    "    [9,10,11]]\n",
    "\n",
    "e) error\n",
    "-->"
   ]
  }
 ],
 "metadata": {
  "kernelspec": {
   "display_name": "Python 3",
   "language": "python",
   "name": "python3"
  },
  "language_info": {
   "codemirror_mode": {
    "name": "ipython",
    "version": 3
   },
   "file_extension": ".py",
   "mimetype": "text/x-python",
   "name": "python",
   "nbconvert_exporter": "python",
   "pygments_lexer": "ipython3",
   "version": "3.7.10"
  }
 },
 "nbformat": 4,
 "nbformat_minor": 4
}

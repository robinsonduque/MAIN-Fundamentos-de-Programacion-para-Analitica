{
 "cells": [
  {
   "cell_type": "markdown",
   "metadata": {},
   "source": [
    "---\n",
    "Escuela de Ingeniería de Sistemas y Computación  \n",
    "Universidad del Valle  \n",
    "INTRODUCCIÓN A LA PROGRAMACIÓN PARA ANALÍTICA  \n",
    "Profesor: Ph.D, Robinson Duque (robinson.duque@correounivalle.edu.co)  \n",
    "Última modificación: Julio de 2020  \n",
    "\n",
    "---\n",
    "\n",
    "# Consideraciones:\n",
    "\n",
    "Este material presenta textos y ejemplos orientados al propósito del curso de _Introducción a la Programación para Analítica_ de la Universidad del Valle."
   ]
  },
  {
   "cell_type": "markdown",
   "metadata": {},
   "source": [
    "## Copias por referencia (vistas)\n",
    "> Al igual que para las listas, los sub-arrays son generados por referencias. En la literatura esto se refiere como 'vistas' y por consiguiente una modificación a la vista, modifica el array original."
   ]
  },
  {
   "cell_type": "code",
   "execution_count": null,
   "metadata": {},
   "outputs": [],
   "source": [
    "import numpy as np"
   ]
  },
  {
   "cell_type": "code",
   "execution_count": null,
   "metadata": {},
   "outputs": [],
   "source": [
    "np.random.seed(1)\n",
    "a = np.random.randint(1,20,(4,5))\n",
    "print(a)\n",
    "b = a[2,:]\n",
    "print(b)\n",
    "b[0] = -9\n",
    "print(a)\n",
    "print(b)\n",
    "#para generar una nueva copia se debe utilzar np.array o la instrucción copy\n",
    "\n",
    "c = np.array(a[2,:])\n",
    "b = a[2,:].copy()\n",
    "c[0]= -100\n",
    "b[0]= -200\n",
    "print(a)\n"
   ]
  },
  {
   "cell_type": "markdown",
   "metadata": {},
   "source": [
    "## Redimensionando arreglos\n",
    "> NumPy ofrece una forma fácil de cambiar la forma (shape) de un arreglo utilizando:\n",
    "> * `reshape(dimensiones)`: tanto el array inicial como el resultante deben tener la misma cantidad de elementos.\n",
    "> * `resize(dimensiones)`: permite cambiar la forma del arreglo. Adicionalmente el array resultante puede tener menor cantidad de elementos que el array inicial (el cambio se hace 'in-place')."
   ]
  },
  {
   "cell_type": "code",
   "execution_count": null,
   "metadata": {},
   "outputs": [],
   "source": [
    "a = np.arange(20)\n",
    "print(a)\n",
    "print(a.reshape((2,10)))\n",
    "print(a.reshape((2,2,5)))\n",
    "\n",
    "a.resize((2,2))\n",
    "print(a)\n"
   ]
  },
  {
   "cell_type": "markdown",
   "metadata": {},
   "source": [
    "## Concatenación de arreglos\n",
    "> NumPy ofrece una forma fácil de concatenar arreglos utilizando la función `np.concatenate([a,b,..])`. También pueden ser útiles las funciones `np.vstack([a,b,..])` para apilar arreglos verticalmente y `np.hstack([a,b,..]`  para juntar arreglos horizontalmente:"
   ]
  },
  {
   "cell_type": "code",
   "execution_count": null,
   "metadata": {},
   "outputs": [],
   "source": [
    "a = np.random.rand(2)\n",
    "b = np.arange(7)\n",
    "print(np.concatenate([a,b]))\n",
    "print(np.concatenate([b,a]))"
   ]
  },
  {
   "cell_type": "code",
   "execution_count": null,
   "metadata": {},
   "outputs": [],
   "source": [
    "a = np.array([[1,1,1],\n",
    "              [2,2,2]])\n",
    "b = np.array([[3,3,3],\n",
    "              [4,4,4]])\n",
    "\n",
    "print(np.vstack([a,b]))\n",
    "print(np.hstack([a,b]))"
   ]
  },
  {
   "cell_type": "markdown",
   "metadata": {},
   "source": [
    "## Computación sobre arreglos: funciones Universales\n",
    "> Ahora empezaremos a comprender la importancia de NumPy en el procesamiento de datos. NumPy ofrece funciones universales 'UFunctions' optimizadas para la computación con datos.\n",
    "> ### La lentitud de las funciones predefinidas de Python\n",
    "> La clave está en utilizar funciones universales o vectorizadas de NumPy y no las que trae Python por defecto, veamos un ejemplo sencillo:"
   ]
  },
  {
   "cell_type": "code",
   "execution_count": null,
   "metadata": {},
   "outputs": [],
   "source": [
    "#Generamos un array con 50.000.0000 de números aleatorios:\n",
    "a = np.arange(50000000)"
   ]
  },
  {
   "cell_type": "code",
   "execution_count": null,
   "metadata": {},
   "outputs": [],
   "source": [
    "sum(a) # Operación suma de python (no es Ufunction)"
   ]
  },
  {
   "cell_type": "code",
   "execution_count": null,
   "metadata": {},
   "outputs": [],
   "source": [
    "a.sum() #Operación suma de NumPy (si es Ufunction)"
   ]
  },
  {
   "cell_type": "code",
   "execution_count": null,
   "metadata": {},
   "outputs": [],
   "source": [
    "%timeit sum(a)"
   ]
  },
  {
   "cell_type": "code",
   "execution_count": null,
   "metadata": {},
   "outputs": [],
   "source": [
    "%timeit a.sum()"
   ]
  },
  {
   "cell_type": "markdown",
   "metadata": {},
   "source": [
    "> ### La lentitud de los ciclos\n",
    "> La lentitud de Python para procesar datos es también evidente cuando se deben realizan operaciones repetitivas utilizando ciclos de repetición tipo `while` y `for`. \n",
    ">\n",
    ">Asumamos que queremos calcular el reciproco de una lista de números. Recordemos que el reciproco de un número $n$ está dado por $1/n$:"
   ]
  },
  {
   "cell_type": "code",
   "execution_count": null,
   "metadata": {},
   "outputs": [],
   "source": [
    "import numpy as np \n",
    "np.random.seed(0)\n",
    "\n",
    "values = np.random.randint(1, 10, size=100000) "
   ]
  },
  {
   "cell_type": "code",
   "execution_count": null,
   "metadata": {},
   "outputs": [],
   "source": [
    "def compute_reciprocals(v): \n",
    "    output = np.empty(len(v)) \n",
    "    for i in range(len(v)):\n",
    "        output[i] = 1.0 / v[i] \n",
    "    return output"
   ]
  },
  {
   "cell_type": "code",
   "execution_count": null,
   "metadata": {},
   "outputs": [],
   "source": [
    "\n",
    "%timeit compute_reciprocals(values)"
   ]
  },
  {
   "cell_type": "code",
   "execution_count": null,
   "metadata": {},
   "outputs": [],
   "source": [
    "# ¿Y si lo hacemos con listas por comprensión?\n",
    "%timeit [1.0/i for i in values]"
   ]
  },
  {
   "cell_type": "code",
   "execution_count": null,
   "metadata": {},
   "outputs": [],
   "source": [
    "# Ahora observa esto:\n",
    "%timeit 1.0/values"
   ]
  },
  {
   "cell_type": "markdown",
   "metadata": {},
   "source": [
    "> ### Funciones vectorizadas (universales)\n",
    ">\n",
    ">Para muchos tipos de operaciones, NumPy proporciona una interfaz conveniente para este tipo de rutina compilada de tipo estático. Esto se conoce como una _operación vectorizada_. Este enfoque vectorizado está diseñado para impulsar el bucle en una capa compilada que subyace a NumPy, lo que lleva a una ejecución mucho más rápida."
   ]
  },
  {
   "cell_type": "code",
   "execution_count": null,
   "metadata": {},
   "outputs": [],
   "source": [
    "valores = np.arange(1,5)\n",
    "print(valores)\n",
    "\n",
    "print(valores/2)\n",
    "print(valores*2)\n",
    "print(valores**2)\n",
    "print(3**valores)\n",
    "print(1/valores)\n",
    "print(valores-9)\n"
   ]
  },
  {
   "cell_type": "code",
   "execution_count": null,
   "metadata": {},
   "outputs": [],
   "source": [
    "valores1 = np.random.randint(1,10,(2,3))\n",
    "print(valores1)\n",
    "valores2 = np.random.randint(1,10,(2,3))\n",
    "print(valores2)\n",
    "print(valores1+valores2)\n",
    "print(valores1*valores2)\n",
    "print(valores1-valores2)"
   ]
  },
  {
   "cell_type": "markdown",
   "metadata": {},
   "source": [
    "---"
   ]
  },
  {
   "cell_type": "markdown",
   "metadata": {},
   "source": [
    "# Preguntas Socrative"
   ]
  },
  {
   "cell_type": "markdown",
   "metadata": {},
   "source": [
    "1. Oculta aquí (MC).\n",
    "\n",
    "<!--  \n",
    "Cuál es el resultado de ejecutar:  \n",
    "\n",
    "a = np.arange(1,6)\n",
    "b = np.array([1,2,1,2,1])\n",
    "\n",
    "print(a*b)\n",
    "\n",
    "a) error\n",
    "\n",
    "b) [1 4 3 8 6]\n",
    "\n",
    "c) [1 4 3 8 5]\n",
    "\n",
    "d) [1 2 3 4 5 1 2 1 2 1]\n",
    "\n",
    "e) [1 2 3 4 5 6 1 2 1 2 1]\n",
    "-->"
   ]
  },
  {
   "cell_type": "markdown",
   "metadata": {},
   "source": [
    "2. Oculta aquí (MC).\n",
    "\n",
    "<!--  \n",
    "Cuál es el resultado de ejecutar:  \n",
    "\n",
    "a = np.array([1,2,1,2,1])\n",
    "b = np.unique(a)\n",
    "\n",
    "print(b+b*b)\n",
    "\n",
    "a) error\n",
    "\n",
    "b) [6 2 6 2 6]\n",
    "\n",
    "c) [2 6 2 6 2]\n",
    "\n",
    "d) [6 2]\n",
    "\n",
    "e) [2 6]\n",
    "-->"
   ]
  },
  {
   "cell_type": "markdown",
   "metadata": {},
   "source": [
    "---"
   ]
  },
  {
   "cell_type": "markdown",
   "metadata": {},
   "source": [
    "> ### Operadores aritméticos vectorizados\n",
    "|Operador| Equivalente - Ufunc|\n",
    "|---|---|\n",
    "|+ |np.add|\n",
    "|- |np.subtract|\n",
    "|- |np.negative|\n",
    "|* |np.multiply|\n",
    "|/ |np.divide|\n",
    "|// |np.floor_divide \n",
    "|** |np.power|\n",
    "|% |np.mod|"
   ]
  },
  {
   "cell_type": "code",
   "execution_count": null,
   "metadata": {},
   "outputs": [],
   "source": [
    "np.random.seed(1)\n",
    "a = np.random.randint(1,10,(2,3))\n",
    "print(a)\n",
    "print(a+2)\n",
    "print(np.add(a,2))\n",
    "print(-a)\n",
    "print(np.negative(a))\n",
    "\n",
    "#Se pueden realizar operaciones más complejas\n",
    "-(0.5*a + 1) ** 2"
   ]
  },
  {
   "cell_type": "markdown",
   "metadata": {},
   "source": [
    "> ### Operaciones a nivel de array (Algebra lineal)\n",
    "> NumPy ofrece algunas funciones que permiten realizar algunas operaciones recurrentes en Algebra lineal:\n",
    "> * `a.dot(b)`: Devuelve el array resultado del producto matricial de los arrays a y b siempre y cuando sus dimensiones sean compatibles\n",
    "> * `a.T`: Devuelve el array resultado de trasponer el array a.\n",
    ">\n",
    "> Sin embargo, para operaciones más especiales cuenta con el módulo `linalg` que ofrece varios métodos, entre ellos:\n",
    "> * `np.linalg.matrix_rank(a)` : rango de `a`\n",
    "> * `np.linalg.det(a)` : determinante de `a` \n",
    "> * `np.linalg.inv(a)`: inversa de  `a`\n",
    "> * `np.linalg.solve(A,b)`: resolver el sistema de ecuaciones `A=b`\n"
   ]
  },
  {
   "cell_type": "code",
   "execution_count": null,
   "metadata": {
    "scrolled": true
   },
   "outputs": [],
   "source": [
    "# Importing numpy as np\n",
    "import numpy as np\n",
    " \n",
    "A = np.array([[6, 1, 1],\n",
    "              [4, -2, 5],\n",
    "              [2, 8, 7]])\n",
    "B = np.array([3,4,5])\n",
    "print(\"Producto punto:\\n\", B.dot(A))\n",
    "print(\"\\nTranspuesta de A:\\n\", A.T)\n",
    "print(\"\\nRango de A:\", np.linalg.matrix_rank(A)) \n",
    "# Determinant of a matrix\n",
    "print(\"\\nDeterminante de A:\", np.linalg.det(A))\n",
    "# Inverse of matrix A\n",
    "print(\"\\nInvesa de A:\\n\", np.linalg.inv(A))"
   ]
  },
  {
   "cell_type": "markdown",
   "metadata": {},
   "source": [
    "> La función `np.linalg.solve` permite resolver sistemas de ecuaciones lineales del tipo `A=b`:\n",
    ">\n",
    "> $8_x + 3_y - 2_z = 9$  \n",
    "> $-4_x + 7_y + 5_z = 15$  \n",
    "> $3_x + 4_y -12_z = 35$"
   ]
  },
  {
   "cell_type": "code",
   "execution_count": null,
   "metadata": {},
   "outputs": [],
   "source": [
    "A = np.array([[8, 3, -2], \n",
    "              [-4, 7, 5], \n",
    "              [3, 4, -12]])\n",
    "b = np.array([9, 15, 35])\n",
    "x = np.linalg.solve(A, b)\n",
    "x"
   ]
  },
  {
   "cell_type": "markdown",
   "metadata": {},
   "source": [
    "> ### Otras funciones vectorizadas:\n",
    "> * `np.unique(array)`: retorna una lista ordenada con los elementos únicos de un array. Se puede configurar para que retorne el conteo de elementos.\n",
    "> * `np.absolute(array)` o `np.abs(array)`: valor absoluto del array\n",
    "> * Trigonométricas: `np.sin(array)`, `np.cos(array)`, `np.tan(array)`, `np.arcsin(array)`, `np.arccos(array)`, `np.arctan(array)`\n",
    "> * Exponenciales y logaritmicas: $e^x$ = `np.exp(x)`, $ln$ = `np.log(array)`, $log_2$ = `np.log2(array)`, $log_{10}$ = `np.log10(array)`\n",
    ">\n",
    "> Existen muchas más ufunctions en NumPy y también en `Scipy.special`, incluidas funciones trigonométricas hiperbólicas, aritmética bit a bit, operadores de comparación, conversiones de radianes a grados, redondeo y residuos, y mucho más. Un vistazo a la documentación de NumPy y Scipy.special revela una gran cantidad de funcionalidades interesantes (muy extensa para listarlas aquí)."
   ]
  },
  {
   "cell_type": "code",
   "execution_count": null,
   "metadata": {},
   "outputs": [],
   "source": [
    "a = np.random.randint(1,20,15)\n",
    "print(a)\n",
    "print(np.unique(a))\n",
    "print(np.unique(a, return_counts=True) )"
   ]
  },
  {
   "cell_type": "code",
   "execution_count": null,
   "metadata": {},
   "outputs": [],
   "source": [
    "a = np.linspace(0,np.pi,5)\n",
    "print(np.abs(a))\n",
    "print(np.sin(a))\n",
    "\n",
    "from scipy import special\n",
    "x=[1,5,10]\n",
    "print(\"gamma(x) =\", special.gamma(x))"
   ]
  },
  {
   "cell_type": "markdown",
   "metadata": {},
   "source": [
    "---"
   ]
  },
  {
   "cell_type": "markdown",
   "metadata": {},
   "source": [
    "# Preguntas Socrative"
   ]
  },
  {
   "cell_type": "markdown",
   "metadata": {},
   "source": [
    "1. Oculta aquí (MC).\n",
    "\n",
    "<!--  \n",
    "Cuál es el resultado de ejecutar:  \n",
    "\n",
    "a = np.array([1,2,1,2,1])\n",
    "b = np.unique(a)\n",
    "\n",
    "print(b+b*b)\n",
    "\n",
    "a) error\n",
    "\n",
    "b) [6 2 6 2 6]\n",
    "\n",
    "c) [2 6 2 6 2]\n",
    "\n",
    "d) [6 2]\n",
    "\n",
    "e) [2 6]\n",
    "-->"
   ]
  },
  {
   "cell_type": "markdown",
   "metadata": {},
   "source": [
    "---"
   ]
  }
 ],
 "metadata": {
  "kernelspec": {
   "display_name": "Python 3",
   "language": "python",
   "name": "python3"
  },
  "language_info": {
   "codemirror_mode": {
    "name": "ipython",
    "version": 3
   },
   "file_extension": ".py",
   "mimetype": "text/x-python",
   "name": "python",
   "nbconvert_exporter": "python",
   "pygments_lexer": "ipython3",
   "version": "3.7.10"
  }
 },
 "nbformat": 4,
 "nbformat_minor": 4
}
